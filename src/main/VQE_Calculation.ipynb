{
 "cells": [
  {
   "cell_type": "markdown",
   "source": [
    "# VQE Calculation\n",
    "File for the full ground state calculation of the VQE on the IBM Cloud"
   ],
   "metadata": {
    "collapsed": false
   }
  },
  {
   "cell_type": "code",
   "execution_count": 1,
   "outputs": [],
   "source": [
    "import numpy as np\n",
    "from qiskit.algorithms.minimum_eigensolvers import VQE\n",
    "from qiskit.algorithms.optimizers import NELDER_MEAD, GradientDescent\n",
    "from qiskit_nature.circuit.library.ansatzes import UCC\n",
    "from qiskit_nature.converters.second_quantization.qubit_converter import QubitConverter\n",
    "from qiskit_nature.mappers.second_quantization import JordanWignerMapper\n",
    "from qiskit.utils import algorithm_globals\n",
    "from qiskit.primitives import Estimator\n",
    "from qiskit_ibm_runtime import QiskitRuntimeService, Session\n",
    "\n",
    "from qiskit.quantum_info import SparsePauliOp\n",
    "from qiskit.circuit.library import TwoLocal\n",
    "import datetime\n",
    "import pylab\n",
    "\n",
    "import API.Keys\n",
    "from qiskit import QuantumCircuit\n",
    "\n",
    "from src.hamiltonian.FermionicHamiltonian import FermionicHamiltonian\n",
    "from src.molecule.BeH2 import BeH2"
   ],
   "metadata": {
    "collapsed": false,
    "ExecuteTime": {
     "start_time": "2023-04-27T16:14:32.788632Z",
     "end_time": "2023-04-27T16:14:33.505185Z"
    }
   }
  },
  {
   "cell_type": "markdown",
   "source": [
    "## Creating the BeH2 molecule\n",
    "The concrete molecule specifics can be found in the BeH2 class file"
   ],
   "metadata": {
    "collapsed": false
   }
  },
  {
   "cell_type": "code",
   "execution_count": 2,
   "outputs": [],
   "source": [
    "num_orbitals = 14\n",
    "num_electrons = 6\n",
    "molecule = BeH2(num_orbitals, num_electrons)"
   ],
   "metadata": {
    "collapsed": false,
    "ExecuteTime": {
     "start_time": "2023-04-27T16:14:33.506597Z",
     "end_time": "2023-04-27T16:14:33.508062Z"
    }
   }
  },
  {
   "cell_type": "code",
   "execution_count": 3,
   "outputs": [],
   "source": [
    "# create the hamiltonian object and get the operator\n",
    "hamiltonian = FermionicHamiltonian(molecule)\n",
    "operator = hamiltonian.get_hamiltonian_op()"
   ],
   "metadata": {
    "collapsed": false,
    "ExecuteTime": {
     "start_time": "2023-04-27T16:14:33.508887Z",
     "end_time": "2023-04-27T16:14:34.296228Z"
    }
   }
  },
  {
   "cell_type": "markdown",
   "source": [
    "## Getting IBM Cloud service"
   ],
   "metadata": {
    "collapsed": false
   }
  },
  {
   "cell_type": "code",
   "execution_count": 4,
   "outputs": [],
   "source": [
    "# get API key\n",
    "key = API.Keys.IBM_BA_KEY\n",
    "instance = API.Keys.CRN_VALUE\n",
    "service = QiskitRuntimeService(channel=\"ibm_cloud\", token=key, instance=instance)"
   ],
   "metadata": {
    "collapsed": false,
    "ExecuteTime": {
     "start_time": "2023-04-27T16:14:34.296205Z",
     "end_time": "2023-04-27T16:14:36.199822Z"
    }
   }
  },
  {
   "cell_type": "code",
   "execution_count": 5,
   "outputs": [],
   "source": [
    "algorithm_globals.random_seed = 50\n",
    "# use ansatz TwoLocal\n",
    "#ansatz2 = TwoLocal(rotation_blocks=\"ry\", entanglement_blocks=\"cz\")\n",
    "counts = []\n",
    "values = []\n",
    "params = []"
   ],
   "metadata": {
    "collapsed": false,
    "ExecuteTime": {
     "start_time": "2023-04-27T16:14:36.199463Z",
     "end_time": "2023-04-27T16:14:36.202052Z"
    }
   }
  },
  {
   "cell_type": "code",
   "execution_count": 6,
   "outputs": [],
   "source": [
    "# Define callback routine which will be invoked after every shot\n",
    "def store_intermediate_result(eval_count, parameters, mean, std):\n",
    "    time = datetime.datetime.now()\n",
    "    print(f\"Iteration done at {time}\")\n",
    "    counts.append(eval_count)\n",
    "    values.append(mean)\n",
    "    params.append(parameters)"
   ],
   "metadata": {
    "collapsed": false,
    "ExecuteTime": {
     "start_time": "2023-04-27T16:14:36.202147Z",
     "end_time": "2023-04-27T16:14:36.217104Z"
    }
   }
  },
  {
   "cell_type": "code",
   "execution_count": 7,
   "outputs": [
    {
     "name": "stdout",
     "output_type": "stream",
     "text": [
      "Optimizer: NELDER_MEAD        "
     ]
    }
   ],
   "source": [
    "optimizer = NELDER_MEAD(maxiter=500, maxfev=500)\n",
    "print(\"\\rOptimizer: {}        \".format(type(optimizer).__name__), end=\"\")\n",
    "converter = QubitConverter(mapper=JordanWignerMapper(), two_qubit_reduction=True)\n",
    "ucc_ansatz = UCC(qubit_converter=converter, num_spin_orbitals=14, num_particles=(0,6), excitations='sd', alpha_spin=True, beta_spin=True, max_spin_excitation=1, generalized=True,preserve_spin=True, reps=5)"
   ],
   "metadata": {
    "collapsed": false,
    "ExecuteTime": {
     "start_time": "2023-04-27T16:14:36.216204Z",
     "end_time": "2023-04-27T16:14:38.191792Z"
    }
   }
  },
  {
   "cell_type": "code",
   "execution_count": 8,
   "outputs": [
    {
     "name": "stdout",
     "output_type": "stream",
     "text": [
      "Starting calculation at: 2023-04-27 16:14:38.191945\n",
      "Iteration done at 2023-04-27 16:18:23.623629\n",
      "Iteration done at 2023-04-27 16:22:15.917784\n",
      "Iteration done at 2023-04-27 16:26:05.350198\n",
      "Iteration done at 2023-04-27 16:29:50.617929\n",
      "Iteration done at 2023-04-27 16:33:54.046494\n",
      "Iteration done at 2023-04-27 16:38:05.615128\n",
      "Iteration done at 2023-04-27 16:41:46.657912\n",
      "Iteration done at 2023-04-27 16:45:16.307727\n"
     ]
    },
    {
     "ename": "KeyboardInterrupt",
     "evalue": "",
     "output_type": "error",
     "traceback": [
      "\u001B[0;31m---------------------------------------------------------------------------\u001B[0m",
      "\u001B[0;31mKeyboardInterrupt\u001B[0m                         Traceback (most recent call last)",
      "Cell \u001B[0;32mIn[8], line 9\u001B[0m\n\u001B[1;32m      7\u001B[0m time \u001B[38;5;241m=\u001B[39m datetime\u001B[38;5;241m.\u001B[39mdatetime\u001B[38;5;241m.\u001B[39mnow()\n\u001B[1;32m      8\u001B[0m \u001B[38;5;28mprint\u001B[39m(\u001B[38;5;124mf\u001B[39m\u001B[38;5;124m\"\u001B[39m\u001B[38;5;124mStarting calculation at: \u001B[39m\u001B[38;5;132;01m{\u001B[39;00mtime\u001B[38;5;132;01m}\u001B[39;00m\u001B[38;5;124m\"\u001B[39m)\n\u001B[0;32m----> 9\u001B[0m result \u001B[38;5;241m=\u001B[39m \u001B[43mvqe\u001B[49m\u001B[38;5;241;43m.\u001B[39;49m\u001B[43mcompute_minimum_eigenvalue\u001B[49m\u001B[43m(\u001B[49m\u001B[43moperator\u001B[49m\u001B[38;5;241;43m=\u001B[39;49m\u001B[43moperator\u001B[49m\u001B[43m)\u001B[49m\n\u001B[1;32m     10\u001B[0m time \u001B[38;5;241m=\u001B[39m datetime\u001B[38;5;241m.\u001B[39mdatetime\u001B[38;5;241m.\u001B[39mnow()\n\u001B[1;32m     11\u001B[0m \u001B[38;5;28mprint\u001B[39m(\u001B[38;5;124mf\u001B[39m\u001B[38;5;124m\"\u001B[39m\u001B[38;5;124mEnded calculation at: \u001B[39m\u001B[38;5;132;01m{\u001B[39;00mtime\u001B[38;5;132;01m}\u001B[39;00m\u001B[38;5;124m\"\u001B[39m)\n",
      "File \u001B[0;32m~/.local/lib/python3.10/site-packages/qiskit/algorithms/minimum_eigensolvers/vqe.py:191\u001B[0m, in \u001B[0;36mVQE.compute_minimum_eigenvalue\u001B[0;34m(self, operator, aux_operators)\u001B[0m\n\u001B[1;32m    186\u001B[0m \u001B[38;5;28;01melse\u001B[39;00m:\n\u001B[1;32m    187\u001B[0m     \u001B[38;5;66;03m# we always want to submit as many estimations per job as possible for minimal\u001B[39;00m\n\u001B[1;32m    188\u001B[0m     \u001B[38;5;66;03m# overhead on the hardware\u001B[39;00m\n\u001B[1;32m    189\u001B[0m     was_updated \u001B[38;5;241m=\u001B[39m _set_default_batchsize(\u001B[38;5;28mself\u001B[39m\u001B[38;5;241m.\u001B[39moptimizer)\n\u001B[0;32m--> 191\u001B[0m     optimizer_result \u001B[38;5;241m=\u001B[39m \u001B[38;5;28;43mself\u001B[39;49m\u001B[38;5;241;43m.\u001B[39;49m\u001B[43moptimizer\u001B[49m\u001B[38;5;241;43m.\u001B[39;49m\u001B[43mminimize\u001B[49m\u001B[43m(\u001B[49m\n\u001B[1;32m    192\u001B[0m \u001B[43m        \u001B[49m\u001B[43mfun\u001B[49m\u001B[38;5;241;43m=\u001B[39;49m\u001B[43mevaluate_energy\u001B[49m\u001B[43m,\u001B[49m\u001B[43m \u001B[49m\u001B[43mx0\u001B[49m\u001B[38;5;241;43m=\u001B[39;49m\u001B[43minitial_point\u001B[49m\u001B[43m,\u001B[49m\u001B[43m \u001B[49m\u001B[43mjac\u001B[49m\u001B[38;5;241;43m=\u001B[39;49m\u001B[43mevaluate_gradient\u001B[49m\u001B[43m,\u001B[49m\u001B[43m \u001B[49m\u001B[43mbounds\u001B[49m\u001B[38;5;241;43m=\u001B[39;49m\u001B[43mbounds\u001B[49m\n\u001B[1;32m    193\u001B[0m \u001B[43m    \u001B[49m\u001B[43m)\u001B[49m\n\u001B[1;32m    195\u001B[0m     \u001B[38;5;66;03m# reset to original value\u001B[39;00m\n\u001B[1;32m    196\u001B[0m     \u001B[38;5;28;01mif\u001B[39;00m was_updated:\n",
      "File \u001B[0;32m~/.local/lib/python3.10/site-packages/qiskit/algorithms/optimizers/scipy_optimizer.py:148\u001B[0m, in \u001B[0;36mSciPyOptimizer.minimize\u001B[0;34m(self, fun, x0, jac, bounds)\u001B[0m\n\u001B[1;32m    145\u001B[0m     swapped_deprecated_args \u001B[38;5;241m=\u001B[39m \u001B[38;5;28;01mTrue\u001B[39;00m\n\u001B[1;32m    146\u001B[0m     \u001B[38;5;28mself\u001B[39m\u001B[38;5;241m.\u001B[39m_options[\u001B[38;5;124m\"\u001B[39m\u001B[38;5;124mmaxfun\u001B[39m\u001B[38;5;124m\"\u001B[39m] \u001B[38;5;241m=\u001B[39m \u001B[38;5;28mself\u001B[39m\u001B[38;5;241m.\u001B[39m_options\u001B[38;5;241m.\u001B[39mpop(\u001B[38;5;124m\"\u001B[39m\u001B[38;5;124mmaxiter\u001B[39m\u001B[38;5;124m\"\u001B[39m)\n\u001B[0;32m--> 148\u001B[0m raw_result \u001B[38;5;241m=\u001B[39m \u001B[43mminimize\u001B[49m\u001B[43m(\u001B[49m\n\u001B[1;32m    149\u001B[0m \u001B[43m    \u001B[49m\u001B[43mfun\u001B[49m\u001B[38;5;241;43m=\u001B[39;49m\u001B[43mfun\u001B[49m\u001B[43m,\u001B[49m\n\u001B[1;32m    150\u001B[0m \u001B[43m    \u001B[49m\u001B[43mx0\u001B[49m\u001B[38;5;241;43m=\u001B[39;49m\u001B[43mx0\u001B[49m\u001B[43m,\u001B[49m\n\u001B[1;32m    151\u001B[0m \u001B[43m    \u001B[49m\u001B[43mmethod\u001B[49m\u001B[38;5;241;43m=\u001B[39;49m\u001B[38;5;28;43mself\u001B[39;49m\u001B[38;5;241;43m.\u001B[39;49m\u001B[43m_method\u001B[49m\u001B[43m,\u001B[49m\n\u001B[1;32m    152\u001B[0m \u001B[43m    \u001B[49m\u001B[43mjac\u001B[49m\u001B[38;5;241;43m=\u001B[39;49m\u001B[43mjac\u001B[49m\u001B[43m,\u001B[49m\n\u001B[1;32m    153\u001B[0m \u001B[43m    \u001B[49m\u001B[43mbounds\u001B[49m\u001B[38;5;241;43m=\u001B[39;49m\u001B[43mbounds\u001B[49m\u001B[43m,\u001B[49m\n\u001B[1;32m    154\u001B[0m \u001B[43m    \u001B[49m\u001B[43moptions\u001B[49m\u001B[38;5;241;43m=\u001B[39;49m\u001B[38;5;28;43mself\u001B[39;49m\u001B[38;5;241;43m.\u001B[39;49m\u001B[43m_options\u001B[49m\u001B[43m,\u001B[49m\n\u001B[1;32m    155\u001B[0m \u001B[43m    \u001B[49m\u001B[38;5;241;43m*\u001B[39;49m\u001B[38;5;241;43m*\u001B[39;49m\u001B[38;5;28;43mself\u001B[39;49m\u001B[38;5;241;43m.\u001B[39;49m\u001B[43m_kwargs\u001B[49m\u001B[43m,\u001B[49m\n\u001B[1;32m    156\u001B[0m \u001B[43m\u001B[49m\u001B[43m)\u001B[49m\n\u001B[1;32m    157\u001B[0m \u001B[38;5;28;01mif\u001B[39;00m swapped_deprecated_args:\n\u001B[1;32m    158\u001B[0m     \u001B[38;5;28mself\u001B[39m\u001B[38;5;241m.\u001B[39m_options[\u001B[38;5;124m\"\u001B[39m\u001B[38;5;124mmaxiter\u001B[39m\u001B[38;5;124m\"\u001B[39m] \u001B[38;5;241m=\u001B[39m \u001B[38;5;28mself\u001B[39m\u001B[38;5;241m.\u001B[39m_options\u001B[38;5;241m.\u001B[39mpop(\u001B[38;5;124m\"\u001B[39m\u001B[38;5;124mmaxfun\u001B[39m\u001B[38;5;124m\"\u001B[39m)\n",
      "File \u001B[0;32m~/.local/lib/python3.10/site-packages/scipy/optimize/_minimize.py:684\u001B[0m, in \u001B[0;36mminimize\u001B[0;34m(fun, x0, args, method, jac, hess, hessp, bounds, constraints, tol, callback, options)\u001B[0m\n\u001B[1;32m    681\u001B[0m     bounds \u001B[38;5;241m=\u001B[39m standardize_bounds(bounds, x0, meth)\n\u001B[1;32m    683\u001B[0m \u001B[38;5;28;01mif\u001B[39;00m meth \u001B[38;5;241m==\u001B[39m \u001B[38;5;124m'\u001B[39m\u001B[38;5;124mnelder-mead\u001B[39m\u001B[38;5;124m'\u001B[39m:\n\u001B[0;32m--> 684\u001B[0m     res \u001B[38;5;241m=\u001B[39m \u001B[43m_minimize_neldermead\u001B[49m\u001B[43m(\u001B[49m\u001B[43mfun\u001B[49m\u001B[43m,\u001B[49m\u001B[43m \u001B[49m\u001B[43mx0\u001B[49m\u001B[43m,\u001B[49m\u001B[43m \u001B[49m\u001B[43margs\u001B[49m\u001B[43m,\u001B[49m\u001B[43m \u001B[49m\u001B[43mcallback\u001B[49m\u001B[43m,\u001B[49m\u001B[43m \u001B[49m\u001B[43mbounds\u001B[49m\u001B[38;5;241;43m=\u001B[39;49m\u001B[43mbounds\u001B[49m\u001B[43m,\u001B[49m\n\u001B[1;32m    685\u001B[0m \u001B[43m                               \u001B[49m\u001B[38;5;241;43m*\u001B[39;49m\u001B[38;5;241;43m*\u001B[39;49m\u001B[43moptions\u001B[49m\u001B[43m)\u001B[49m\n\u001B[1;32m    686\u001B[0m \u001B[38;5;28;01melif\u001B[39;00m meth \u001B[38;5;241m==\u001B[39m \u001B[38;5;124m'\u001B[39m\u001B[38;5;124mpowell\u001B[39m\u001B[38;5;124m'\u001B[39m:\n\u001B[1;32m    687\u001B[0m     res \u001B[38;5;241m=\u001B[39m _minimize_powell(fun, x0, args, callback, bounds, \u001B[38;5;241m*\u001B[39m\u001B[38;5;241m*\u001B[39moptions)\n",
      "File \u001B[0;32m~/.local/lib/python3.10/site-packages/scipy/optimize/_optimize.py:845\u001B[0m, in \u001B[0;36m_minimize_neldermead\u001B[0;34m(func, x0, args, callback, maxiter, maxfev, disp, return_all, initial_simplex, xatol, fatol, adaptive, bounds, **unknown_options)\u001B[0m\n\u001B[1;32m    843\u001B[0m \u001B[38;5;28;01mtry\u001B[39;00m:\n\u001B[1;32m    844\u001B[0m     \u001B[38;5;28;01mfor\u001B[39;00m k \u001B[38;5;129;01min\u001B[39;00m \u001B[38;5;28mrange\u001B[39m(N \u001B[38;5;241m+\u001B[39m \u001B[38;5;241m1\u001B[39m):\n\u001B[0;32m--> 845\u001B[0m         fsim[k] \u001B[38;5;241m=\u001B[39m \u001B[43mfunc\u001B[49m\u001B[43m(\u001B[49m\u001B[43msim\u001B[49m\u001B[43m[\u001B[49m\u001B[43mk\u001B[49m\u001B[43m]\u001B[49m\u001B[43m)\u001B[49m\n\u001B[1;32m    846\u001B[0m \u001B[38;5;28;01mexcept\u001B[39;00m _MaxFuncCallError:\n\u001B[1;32m    847\u001B[0m     \u001B[38;5;28;01mpass\u001B[39;00m\n",
      "File \u001B[0;32m~/.local/lib/python3.10/site-packages/scipy/optimize/_optimize.py:569\u001B[0m, in \u001B[0;36m_wrap_scalar_function_maxfun_validation.<locals>.function_wrapper\u001B[0;34m(x, *wrapper_args)\u001B[0m\n\u001B[1;32m    567\u001B[0m ncalls[\u001B[38;5;241m0\u001B[39m] \u001B[38;5;241m+\u001B[39m\u001B[38;5;241m=\u001B[39m \u001B[38;5;241m1\u001B[39m\n\u001B[1;32m    568\u001B[0m \u001B[38;5;66;03m# A copy of x is sent to the user function (gh13740)\u001B[39;00m\n\u001B[0;32m--> 569\u001B[0m fx \u001B[38;5;241m=\u001B[39m \u001B[43mfunction\u001B[49m\u001B[43m(\u001B[49m\u001B[43mnp\u001B[49m\u001B[38;5;241;43m.\u001B[39;49m\u001B[43mcopy\u001B[49m\u001B[43m(\u001B[49m\u001B[43mx\u001B[49m\u001B[43m)\u001B[49m\u001B[43m,\u001B[49m\u001B[43m \u001B[49m\u001B[38;5;241;43m*\u001B[39;49m\u001B[43m(\u001B[49m\u001B[43mwrapper_args\u001B[49m\u001B[43m \u001B[49m\u001B[38;5;241;43m+\u001B[39;49m\u001B[43m \u001B[49m\u001B[43margs\u001B[49m\u001B[43m)\u001B[49m\u001B[43m)\u001B[49m\n\u001B[1;32m    570\u001B[0m \u001B[38;5;66;03m# Ideally, we'd like to a have a true scalar returned from f(x). For\u001B[39;00m\n\u001B[1;32m    571\u001B[0m \u001B[38;5;66;03m# backwards-compatibility, also allow np.array([1.3]),\u001B[39;00m\n\u001B[1;32m    572\u001B[0m \u001B[38;5;66;03m# np.array([[1.3]]) etc.\u001B[39;00m\n\u001B[1;32m    573\u001B[0m \u001B[38;5;28;01mif\u001B[39;00m \u001B[38;5;129;01mnot\u001B[39;00m np\u001B[38;5;241m.\u001B[39misscalar(fx):\n",
      "File \u001B[0;32m~/.local/lib/python3.10/site-packages/qiskit/algorithms/minimum_eigensolvers/vqe.py:253\u001B[0m, in \u001B[0;36mVQE._get_evaluate_energy.<locals>.evaluate_energy\u001B[0;34m(parameters)\u001B[0m\n\u001B[1;32m    250\u001B[0m batch_size \u001B[38;5;241m=\u001B[39m \u001B[38;5;28mlen\u001B[39m(parameters)\n\u001B[1;32m    252\u001B[0m \u001B[38;5;28;01mtry\u001B[39;00m:\n\u001B[0;32m--> 253\u001B[0m     job \u001B[38;5;241m=\u001B[39m \u001B[38;5;28;43mself\u001B[39;49m\u001B[38;5;241;43m.\u001B[39;49m\u001B[43mestimator\u001B[49m\u001B[38;5;241;43m.\u001B[39;49m\u001B[43mrun\u001B[49m\u001B[43m(\u001B[49m\u001B[43mbatch_size\u001B[49m\u001B[43m \u001B[49m\u001B[38;5;241;43m*\u001B[39;49m\u001B[43m \u001B[49m\u001B[43m[\u001B[49m\u001B[43mansatz\u001B[49m\u001B[43m]\u001B[49m\u001B[43m,\u001B[49m\u001B[43m \u001B[49m\u001B[43mbatch_size\u001B[49m\u001B[43m \u001B[49m\u001B[38;5;241;43m*\u001B[39;49m\u001B[43m \u001B[49m\u001B[43m[\u001B[49m\u001B[43moperator\u001B[49m\u001B[43m]\u001B[49m\u001B[43m,\u001B[49m\u001B[43m \u001B[49m\u001B[43mparameters\u001B[49m\u001B[43m)\u001B[49m\n\u001B[1;32m    254\u001B[0m     estimator_result \u001B[38;5;241m=\u001B[39m job\u001B[38;5;241m.\u001B[39mresult()\n\u001B[1;32m    255\u001B[0m \u001B[38;5;28;01mexcept\u001B[39;00m \u001B[38;5;167;01mException\u001B[39;00m \u001B[38;5;28;01mas\u001B[39;00m exc:\n",
      "File \u001B[0;32m~/.local/lib/python3.10/site-packages/qiskit/primitives/base/base_estimator.py:235\u001B[0m, in \u001B[0;36mBaseEstimator.run\u001B[0;34m(self, circuits, observables, parameter_values, **run_options)\u001B[0m\n\u001B[1;32m    232\u001B[0m run_opts \u001B[38;5;241m=\u001B[39m copy(\u001B[38;5;28mself\u001B[39m\u001B[38;5;241m.\u001B[39moptions)\n\u001B[1;32m    233\u001B[0m run_opts\u001B[38;5;241m.\u001B[39mupdate_options(\u001B[38;5;241m*\u001B[39m\u001B[38;5;241m*\u001B[39mrun_options)\n\u001B[0;32m--> 235\u001B[0m \u001B[38;5;28;01mreturn\u001B[39;00m \u001B[38;5;28;43mself\u001B[39;49m\u001B[38;5;241;43m.\u001B[39;49m\u001B[43m_run\u001B[49m\u001B[43m(\u001B[49m\n\u001B[1;32m    236\u001B[0m \u001B[43m    \u001B[49m\u001B[43mcircuits\u001B[49m\u001B[43m,\u001B[49m\n\u001B[1;32m    237\u001B[0m \u001B[43m    \u001B[49m\u001B[43mobservables\u001B[49m\u001B[43m,\u001B[49m\n\u001B[1;32m    238\u001B[0m \u001B[43m    \u001B[49m\u001B[43mparameter_values\u001B[49m\u001B[43m,\u001B[49m\n\u001B[1;32m    239\u001B[0m \u001B[43m    \u001B[49m\u001B[38;5;241;43m*\u001B[39;49m\u001B[38;5;241;43m*\u001B[39;49m\u001B[43mrun_opts\u001B[49m\u001B[38;5;241;43m.\u001B[39;49m\u001B[38;5;18;43m__dict__\u001B[39;49m\u001B[43m,\u001B[49m\n\u001B[1;32m    240\u001B[0m \u001B[43m\u001B[49m\u001B[43m)\u001B[49m\n",
      "File \u001B[0;32m~/.local/lib/python3.10/site-packages/qiskit/primitives/estimator.py:186\u001B[0m, in \u001B[0;36mEstimator._run\u001B[0;34m(self, circuits, observables, parameter_values, **run_options)\u001B[0m\n\u001B[1;32m    182\u001B[0m         \u001B[38;5;28mself\u001B[39m\u001B[38;5;241m.\u001B[39m_observables\u001B[38;5;241m.\u001B[39mappend(observable)\n\u001B[1;32m    183\u001B[0m job \u001B[38;5;241m=\u001B[39m PrimitiveJob(\n\u001B[1;32m    184\u001B[0m     \u001B[38;5;28mself\u001B[39m\u001B[38;5;241m.\u001B[39m_call, circuit_indices, observable_indices, parameter_values, \u001B[38;5;241m*\u001B[39m\u001B[38;5;241m*\u001B[39mrun_options\n\u001B[1;32m    185\u001B[0m )\n\u001B[0;32m--> 186\u001B[0m \u001B[43mjob\u001B[49m\u001B[38;5;241;43m.\u001B[39;49m\u001B[43msubmit\u001B[49m\u001B[43m(\u001B[49m\u001B[43m)\u001B[49m\n\u001B[1;32m    187\u001B[0m \u001B[38;5;28;01mreturn\u001B[39;00m job\n",
      "File \u001B[0;32m~/.local/lib/python3.10/site-packages/qiskit/primitives/primitive_job.py:43\u001B[0m, in \u001B[0;36mPrimitiveJob.submit\u001B[0;34m(self)\u001B[0m\n\u001B[1;32m     40\u001B[0m \u001B[38;5;28;01mif\u001B[39;00m \u001B[38;5;28mself\u001B[39m\u001B[38;5;241m.\u001B[39m_future \u001B[38;5;129;01mis\u001B[39;00m \u001B[38;5;129;01mnot\u001B[39;00m \u001B[38;5;28;01mNone\u001B[39;00m:\n\u001B[1;32m     41\u001B[0m     \u001B[38;5;28;01mraise\u001B[39;00m JobError(\u001B[38;5;124m\"\u001B[39m\u001B[38;5;124mPrimitive job has already been submitted.\u001B[39m\u001B[38;5;124m\"\u001B[39m)\n\u001B[0;32m---> 43\u001B[0m \u001B[38;5;28;01mwith\u001B[39;00m ThreadPoolExecutor(max_workers\u001B[38;5;241m=\u001B[39m\u001B[38;5;241m1\u001B[39m) \u001B[38;5;28;01mas\u001B[39;00m executor:\n\u001B[1;32m     44\u001B[0m     future \u001B[38;5;241m=\u001B[39m executor\u001B[38;5;241m.\u001B[39msubmit(\u001B[38;5;28mself\u001B[39m\u001B[38;5;241m.\u001B[39m_function, \u001B[38;5;241m*\u001B[39m\u001B[38;5;28mself\u001B[39m\u001B[38;5;241m.\u001B[39m_args, \u001B[38;5;241m*\u001B[39m\u001B[38;5;241m*\u001B[39m\u001B[38;5;28mself\u001B[39m\u001B[38;5;241m.\u001B[39m_kwargs)\n\u001B[1;32m     45\u001B[0m \u001B[38;5;28mself\u001B[39m\u001B[38;5;241m.\u001B[39m_future \u001B[38;5;241m=\u001B[39m future\n",
      "File \u001B[0;32m~/anaconda3/envs/ba_thesis/lib/python3.10/concurrent/futures/_base.py:649\u001B[0m, in \u001B[0;36mExecutor.__exit__\u001B[0;34m(self, exc_type, exc_val, exc_tb)\u001B[0m\n\u001B[1;32m    648\u001B[0m \u001B[38;5;28;01mdef\u001B[39;00m \u001B[38;5;21m__exit__\u001B[39m(\u001B[38;5;28mself\u001B[39m, exc_type, exc_val, exc_tb):\n\u001B[0;32m--> 649\u001B[0m     \u001B[38;5;28;43mself\u001B[39;49m\u001B[38;5;241;43m.\u001B[39;49m\u001B[43mshutdown\u001B[49m\u001B[43m(\u001B[49m\u001B[43mwait\u001B[49m\u001B[38;5;241;43m=\u001B[39;49m\u001B[38;5;28;43;01mTrue\u001B[39;49;00m\u001B[43m)\u001B[49m\n\u001B[1;32m    650\u001B[0m     \u001B[38;5;28;01mreturn\u001B[39;00m \u001B[38;5;28;01mFalse\u001B[39;00m\n",
      "File \u001B[0;32m~/anaconda3/envs/ba_thesis/lib/python3.10/concurrent/futures/thread.py:235\u001B[0m, in \u001B[0;36mThreadPoolExecutor.shutdown\u001B[0;34m(self, wait, cancel_futures)\u001B[0m\n\u001B[1;32m    233\u001B[0m \u001B[38;5;28;01mif\u001B[39;00m wait:\n\u001B[1;32m    234\u001B[0m     \u001B[38;5;28;01mfor\u001B[39;00m t \u001B[38;5;129;01min\u001B[39;00m \u001B[38;5;28mself\u001B[39m\u001B[38;5;241m.\u001B[39m_threads:\n\u001B[0;32m--> 235\u001B[0m         \u001B[43mt\u001B[49m\u001B[38;5;241;43m.\u001B[39;49m\u001B[43mjoin\u001B[49m\u001B[43m(\u001B[49m\u001B[43m)\u001B[49m\n",
      "File \u001B[0;32m~/anaconda3/envs/ba_thesis/lib/python3.10/threading.py:1096\u001B[0m, in \u001B[0;36mThread.join\u001B[0;34m(self, timeout)\u001B[0m\n\u001B[1;32m   1093\u001B[0m     \u001B[38;5;28;01mraise\u001B[39;00m \u001B[38;5;167;01mRuntimeError\u001B[39;00m(\u001B[38;5;124m\"\u001B[39m\u001B[38;5;124mcannot join current thread\u001B[39m\u001B[38;5;124m\"\u001B[39m)\n\u001B[1;32m   1095\u001B[0m \u001B[38;5;28;01mif\u001B[39;00m timeout \u001B[38;5;129;01mis\u001B[39;00m \u001B[38;5;28;01mNone\u001B[39;00m:\n\u001B[0;32m-> 1096\u001B[0m     \u001B[38;5;28;43mself\u001B[39;49m\u001B[38;5;241;43m.\u001B[39;49m\u001B[43m_wait_for_tstate_lock\u001B[49m\u001B[43m(\u001B[49m\u001B[43m)\u001B[49m\n\u001B[1;32m   1097\u001B[0m \u001B[38;5;28;01melse\u001B[39;00m:\n\u001B[1;32m   1098\u001B[0m     \u001B[38;5;66;03m# the behavior of a negative timeout isn't documented, but\u001B[39;00m\n\u001B[1;32m   1099\u001B[0m     \u001B[38;5;66;03m# historically .join(timeout=x) for x<0 has acted as if timeout=0\u001B[39;00m\n\u001B[1;32m   1100\u001B[0m     \u001B[38;5;28mself\u001B[39m\u001B[38;5;241m.\u001B[39m_wait_for_tstate_lock(timeout\u001B[38;5;241m=\u001B[39m\u001B[38;5;28mmax\u001B[39m(timeout, \u001B[38;5;241m0\u001B[39m))\n",
      "File \u001B[0;32m~/anaconda3/envs/ba_thesis/lib/python3.10/threading.py:1116\u001B[0m, in \u001B[0;36mThread._wait_for_tstate_lock\u001B[0;34m(self, block, timeout)\u001B[0m\n\u001B[1;32m   1113\u001B[0m     \u001B[38;5;28;01mreturn\u001B[39;00m\n\u001B[1;32m   1115\u001B[0m \u001B[38;5;28;01mtry\u001B[39;00m:\n\u001B[0;32m-> 1116\u001B[0m     \u001B[38;5;28;01mif\u001B[39;00m \u001B[43mlock\u001B[49m\u001B[38;5;241;43m.\u001B[39;49m\u001B[43macquire\u001B[49m\u001B[43m(\u001B[49m\u001B[43mblock\u001B[49m\u001B[43m,\u001B[49m\u001B[43m \u001B[49m\u001B[43mtimeout\u001B[49m\u001B[43m)\u001B[49m:\n\u001B[1;32m   1117\u001B[0m         lock\u001B[38;5;241m.\u001B[39mrelease()\n\u001B[1;32m   1118\u001B[0m         \u001B[38;5;28mself\u001B[39m\u001B[38;5;241m.\u001B[39m_stop()\n",
      "\u001B[0;31mKeyboardInterrupt\u001B[0m: "
     ]
    }
   ],
   "source": [
    "# create session for the estimator object\n",
    "with Session(service=service, backend=\"ibmq_qasm_simulator\"):\n",
    "    estimator = Estimator()\n",
    "    # Use VQE with estimator, ansatz, optimizer\n",
    "    vqe = VQE(estimator, ucc_ansatz, optimizer, callback=store_intermediate_result)\n",
    "    # invoke computation on the operator\n",
    "    time = datetime.datetime.now()\n",
    "    print(f\"Starting calculation at: {time}\")\n",
    "    result = vqe.compute_minimum_eigenvalue(operator=operator)\n",
    "    time = datetime.datetime.now()\n",
    "    print(f\"Ended calculation at: {time}\")\n",
    "\n",
    "print(\"\\rOptimization complete\");\n",
    "\n",
    "\n",
    "converge_counts = np.asarray(counts)\n",
    "converge_vals = np.asarray(values)"
   ],
   "metadata": {
    "collapsed": false
   }
  },
  {
   "cell_type": "markdown",
   "source": [
    "## Actual Qiskit VQE Invocation"
   ],
   "metadata": {
    "collapsed": false
   }
  },
  {
   "cell_type": "code",
   "execution_count": null,
   "outputs": [],
   "source": [
    "pylab.rcParams[\"figure.figsize\"] = (12, 8)\n",
    "pylab.plot(converge_counts, converge_vals, label=type(optimizer).__name__)\n",
    "pylab.xlabel(\"Eval count\")\n",
    "pylab.ylabel(\"Energy\")\n",
    "pylab.title(\"Energy convergence for various optimizers\")\n",
    "pylab.legend(loc=\"upper right\")"
   ],
   "metadata": {
    "collapsed": false
   }
  },
  {
   "cell_type": "markdown",
   "source": [
    "## Calculation of reference value\n",
    "The eigenvalue calculation can also be done using a simple linear algebra solver in this case."
   ],
   "metadata": {
    "collapsed": false
   }
  },
  {
   "cell_type": "code",
   "execution_count": null,
   "outputs": [],
   "source": [
    "# Analytic solution\n",
    "from qiskit.algorithms.minimum_eigensolvers import NumPyMinimumEigensolver\n",
    "from qiskit.opflow import PauliSumOp\n",
    "\n",
    "numpy_solver = NumPyMinimumEigensolver()\n",
    "result = numpy_solver.compute_minimum_eigenvalue(operator=operator)\n",
    "ref_value = result.eigenvalue.real\n",
    "print(f\"Reference value: {ref_value:.5f}\")"
   ],
   "metadata": {
    "collapsed": false
   }
  }
 ],
 "metadata": {
  "kernelspec": {
   "display_name": "Python 3",
   "language": "python",
   "name": "python3"
  },
  "language_info": {
   "codemirror_mode": {
    "name": "ipython",
    "version": 2
   },
   "file_extension": ".py",
   "mimetype": "text/x-python",
   "name": "python",
   "nbconvert_exporter": "python",
   "pygments_lexer": "ipython2",
   "version": "2.7.6"
  }
 },
 "nbformat": 4,
 "nbformat_minor": 0
}
