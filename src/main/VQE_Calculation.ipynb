{
 "cells": [
  {
   "cell_type": "markdown",
   "source": [
    "# VQE Calculation\n",
    "File for the full ground state calculation of the VQE on the IBM Cloud"
   ],
   "metadata": {
    "collapsed": false
   }
  },
  {
   "cell_type": "code",
   "execution_count": 14,
   "outputs": [],
   "source": [
    "import numpy as np\n",
    "from qiskit.algorithms.minimum_eigensolvers import VQE\n",
    "from qiskit.algorithms.optimizers import NELDER_MEAD, GradientDescent\n",
    "from qiskit_nature.circuit.library.ansatzes import UCC\n",
    "from qiskit_nature.converters.second_quantization.qubit_converter import QubitConverter\n",
    "from qiskit_nature.mappers.second_quantization import JordanWignerMapper\n",
    "from qiskit.utils import algorithm_globals\n",
    "from qiskit.primitives import Estimator\n",
    "from qiskit.quantum_info import SparsePauliOp\n",
    "from qiskit.circuit.library import TwoLocal\n",
    "import datetime\n",
    "import pylab\n",
    "\n",
    "from qiskit import QuantumCircuit\n",
    "\n",
    "from src.hamiltonian.FermionicHamiltonian import FermionicHamiltonian\n",
    "from src.molecule.BeH2 import BeH2"
   ],
   "metadata": {
    "collapsed": false,
    "ExecuteTime": {
     "start_time": "2023-04-26T10:03:16.841895Z",
     "end_time": "2023-04-26T10:03:17.016233Z"
    }
   }
  },
  {
   "cell_type": "markdown",
   "source": [
    "## Creating the BeH2 molecule\n",
    "The concrete molecule specifics can be found in the BeH2 class file"
   ],
   "metadata": {
    "collapsed": false
   }
  },
  {
   "cell_type": "code",
   "execution_count": 2,
   "outputs": [],
   "source": [
    "num_orbitals = 14\n",
    "num_electrons = 6\n",
    "molecule = BeH2(num_orbitals, num_electrons)"
   ],
   "metadata": {
    "collapsed": false,
    "ExecuteTime": {
     "start_time": "2023-04-26T09:54:41.380921Z",
     "end_time": "2023-04-26T09:54:41.423313Z"
    }
   }
  },
  {
   "cell_type": "code",
   "execution_count": 9,
   "outputs": [
    {
     "ename": "TypeError",
     "evalue": "FermionicHamiltonian.__init__() missing 1 required positional argument: 'molecule'",
     "output_type": "error",
     "traceback": [
      "\u001B[0;31m---------------------------------------------------------------------------\u001B[0m",
      "\u001B[0;31mTypeError\u001B[0m                                 Traceback (most recent call last)",
      "Cell \u001B[0;32mIn[9], line 2\u001B[0m\n\u001B[1;32m      1\u001B[0m \u001B[38;5;66;03m# create the hamiltonian object and get the operator\u001B[39;00m\n\u001B[0;32m----> 2\u001B[0m hamiltonian \u001B[38;5;241m=\u001B[39m \u001B[43mFermionicHamiltonian\u001B[49m\u001B[43m(\u001B[49m\u001B[43mmolecule\u001B[49m\u001B[43m)\u001B[49m\n\u001B[1;32m      3\u001B[0m operator \u001B[38;5;241m=\u001B[39m hamiltonian\u001B[38;5;241m.\u001B[39mget_hamiltonian()\n",
      "\u001B[0;31mTypeError\u001B[0m: FermionicHamiltonian.__init__() missing 1 required positional argument: 'molecule'"
     ]
    }
   ],
   "source": [
    "# create the hamiltonian object and get the operator\n",
    "hamiltonian = FermionicHamiltonian(molecule)\n",
    "operator = hamiltonian.get_hamiltonian()"
   ],
   "metadata": {
    "collapsed": false,
    "ExecuteTime": {
     "start_time": "2023-04-26T09:56:01.258204Z",
     "end_time": "2023-04-26T09:56:02.032383Z"
    }
   }
  },
  {
   "cell_type": "code",
   "execution_count": 10,
   "outputs": [],
   "source": [
    "# create estimator, optimizer, converter, ansatz\n",
    "estimator = Estimator()\n",
    "optimizer = NELDER_MEAD(maxiter=150, maxfev=150)\n",
    "converter = QubitConverter(mapper=JordanWignerMapper(), two_qubit_reduction=True)\n",
    "ucc_ansatz = UCC(qubit_converter=converter, num_spin_orbitals=14, num_particles=(0,6), excitations='sd', alpha_spin=True, beta_spin=True, max_spin_excitation=1, generalized=True, preserve_spin=True, reps=5)"
   ],
   "metadata": {
    "collapsed": false,
    "ExecuteTime": {
     "start_time": "2023-04-26T09:59:22.598870Z",
     "end_time": "2023-04-26T09:59:24.649242Z"
    }
   }
  },
  {
   "cell_type": "code",
   "execution_count": 11,
   "outputs": [
    {
     "name": "stdout",
     "output_type": "stream",
     "text": [
      "Optimizer: NELDER_MEAD        "
     ]
    }
   ],
   "source": [
    "print(\"\\rOptimizer: {}        \".format(type(optimizer).__name__), end=\"\")\n",
    "algorithm_globals.random_seed = 50\n",
    "# use ansatz TwoLocal\n",
    "#ansatz2 = TwoLocal(rotation_blocks=\"ry\", entanglement_blocks=\"cz\")\n",
    "counts = []\n",
    "values = []\n",
    "params = []"
   ],
   "metadata": {
    "collapsed": false,
    "ExecuteTime": {
     "start_time": "2023-04-26T09:59:56.167549Z",
     "end_time": "2023-04-26T09:59:56.215299Z"
    }
   }
  },
  {
   "cell_type": "code",
   "execution_count": 12,
   "outputs": [],
   "source": [
    "# Define callback routine which will be invoked after every shot\n",
    "def store_intermediate_result(eval_count, parameters, mean, std):\n",
    "    time = datetime.datetime.now()\n",
    "    print(f\"Iteration done at {time}\")\n",
    "    counts.append(eval_count)\n",
    "    values.append(mean)\n",
    "    params.append(parameters)"
   ],
   "metadata": {
    "collapsed": false,
    "ExecuteTime": {
     "start_time": "2023-04-26T10:00:33.105635Z",
     "end_time": "2023-04-26T10:00:33.147357Z"
    }
   }
  },
  {
   "cell_type": "markdown",
   "source": [
    "## Actual Qiskit VQE Invocation"
   ],
   "metadata": {
    "collapsed": false
   }
  },
  {
   "cell_type": "code",
   "execution_count": 13,
   "outputs": [
    {
     "name": "stdout",
     "output_type": "stream",
     "text": [
      "Starting calculation at: 2023-04-26 10:02:26.462840\n"
     ]
    },
    {
     "ename": "NameError",
     "evalue": "name 'op' is not defined",
     "output_type": "error",
     "traceback": [
      "\u001B[0;31m---------------------------------------------------------------------------\u001B[0m",
      "\u001B[0;31mNameError\u001B[0m                                 Traceback (most recent call last)",
      "Cell \u001B[0;32mIn[13], line 6\u001B[0m\n\u001B[1;32m      4\u001B[0m time \u001B[38;5;241m=\u001B[39m datetime\u001B[38;5;241m.\u001B[39mdatetime\u001B[38;5;241m.\u001B[39mnow()\n\u001B[1;32m      5\u001B[0m \u001B[38;5;28mprint\u001B[39m(\u001B[38;5;124mf\u001B[39m\u001B[38;5;124m\"\u001B[39m\u001B[38;5;124mStarting calculation at: \u001B[39m\u001B[38;5;132;01m{\u001B[39;00mtime\u001B[38;5;132;01m}\u001B[39;00m\u001B[38;5;124m\"\u001B[39m)\n\u001B[0;32m----> 6\u001B[0m result \u001B[38;5;241m=\u001B[39m vqe\u001B[38;5;241m.\u001B[39mcompute_minimum_eigenvalue(operator\u001B[38;5;241m=\u001B[39m\u001B[43mop\u001B[49m)\n\u001B[1;32m      7\u001B[0m time \u001B[38;5;241m=\u001B[39m datetime\u001B[38;5;241m.\u001B[39mdatetime\u001B[38;5;241m.\u001B[39mnow()\n\u001B[1;32m      8\u001B[0m \u001B[38;5;28mprint\u001B[39m(\u001B[38;5;124mf\u001B[39m\u001B[38;5;124m\"\u001B[39m\u001B[38;5;124mEnded calculation at: \u001B[39m\u001B[38;5;132;01m{\u001B[39;00mtime\u001B[38;5;132;01m}\u001B[39;00m\u001B[38;5;124m\"\u001B[39m)\n",
      "\u001B[0;31mNameError\u001B[0m: name 'op' is not defined"
     ]
    }
   ],
   "source": [
    "# Use VQE with estimator, ansatz, optimizer\n",
    "vqe = VQE(estimator, ucc_ansatz, optimizer, callback=store_intermediate_result)\n",
    "# invoke computation on the operator\n",
    "time = datetime.datetime.now()\n",
    "print(f\"Starting calculation at: {time}\")\n",
    "result = vqe.compute_minimum_eigenvalue(operator=operator)\n",
    "time = datetime.datetime.now()\n",
    "print(f\"Ended calculation at: {time}\")\n",
    "\n",
    "\n",
    "converge_counts = np.asarray(counts)\n",
    "converge_vals = np.asarray(values)\n",
    "\n",
    "print(\"\\rOptimization complete\");"
   ],
   "metadata": {
    "collapsed": false
   }
  },
  {
   "cell_type": "code",
   "execution_count": 15,
   "outputs": [
    {
     "ename": "NameError",
     "evalue": "name 'converge_counts' is not defined",
     "output_type": "error",
     "traceback": [
      "\u001B[0;31m---------------------------------------------------------------------------\u001B[0m",
      "\u001B[0;31mNameError\u001B[0m                                 Traceback (most recent call last)",
      "Cell \u001B[0;32mIn[15], line 2\u001B[0m\n\u001B[1;32m      1\u001B[0m pylab\u001B[38;5;241m.\u001B[39mrcParams[\u001B[38;5;124m\"\u001B[39m\u001B[38;5;124mfigure.figsize\u001B[39m\u001B[38;5;124m\"\u001B[39m] \u001B[38;5;241m=\u001B[39m (\u001B[38;5;241m12\u001B[39m, \u001B[38;5;241m8\u001B[39m)\n\u001B[0;32m----> 2\u001B[0m pylab\u001B[38;5;241m.\u001B[39mplot(\u001B[43mconverge_counts\u001B[49m, converge_vals, label\u001B[38;5;241m=\u001B[39m\u001B[38;5;28mtype\u001B[39m(optimizer)\u001B[38;5;241m.\u001B[39m\u001B[38;5;18m__name__\u001B[39m)\n\u001B[1;32m      3\u001B[0m pylab\u001B[38;5;241m.\u001B[39mxlabel(\u001B[38;5;124m\"\u001B[39m\u001B[38;5;124mEval count\u001B[39m\u001B[38;5;124m\"\u001B[39m)\n\u001B[1;32m      4\u001B[0m pylab\u001B[38;5;241m.\u001B[39mylabel(\u001B[38;5;124m\"\u001B[39m\u001B[38;5;124mEnergy\u001B[39m\u001B[38;5;124m\"\u001B[39m)\n",
      "\u001B[0;31mNameError\u001B[0m: name 'converge_counts' is not defined"
     ]
    }
   ],
   "source": [
    "pylab.rcParams[\"figure.figsize\"] = (12, 8)\n",
    "pylab.plot(converge_counts, converge_vals, label=type(optimizer).__name__)\n",
    "pylab.xlabel(\"Eval count\")\n",
    "pylab.ylabel(\"Energy\")\n",
    "pylab.title(\"Energy convergence for various optimizers\")\n",
    "pylab.legend(loc=\"upper right\");"
   ],
   "metadata": {
    "collapsed": false
   }
  },
  {
   "cell_type": "markdown",
   "source": [
    "## Calculation of reference value\n",
    "The eigenvalue calculation can also be done using a simple linear algebra solver in this case."
   ],
   "metadata": {
    "collapsed": false
   }
  },
  {
   "cell_type": "code",
   "execution_count": 16,
   "outputs": [
    {
     "ename": "NameError",
     "evalue": "name 'op' is not defined",
     "output_type": "error",
     "traceback": [
      "\u001B[0;31m---------------------------------------------------------------------------\u001B[0m",
      "\u001B[0;31mNameError\u001B[0m                                 Traceback (most recent call last)",
      "Cell \u001B[0;32mIn[16], line 6\u001B[0m\n\u001B[1;32m      3\u001B[0m \u001B[38;5;28;01mfrom\u001B[39;00m \u001B[38;5;21;01mqiskit\u001B[39;00m\u001B[38;5;21;01m.\u001B[39;00m\u001B[38;5;21;01mopflow\u001B[39;00m \u001B[38;5;28;01mimport\u001B[39;00m PauliSumOp\n\u001B[1;32m      5\u001B[0m numpy_solver \u001B[38;5;241m=\u001B[39m NumPyMinimumEigensolver()\n\u001B[0;32m----> 6\u001B[0m result \u001B[38;5;241m=\u001B[39m numpy_solver\u001B[38;5;241m.\u001B[39mcompute_minimum_eigenvalue(operator\u001B[38;5;241m=\u001B[39m\u001B[43mop\u001B[49m)\n\u001B[1;32m      7\u001B[0m ref_value \u001B[38;5;241m=\u001B[39m result\u001B[38;5;241m.\u001B[39meigenvalue\u001B[38;5;241m.\u001B[39mreal\n\u001B[1;32m      8\u001B[0m \u001B[38;5;28mprint\u001B[39m(\u001B[38;5;124mf\u001B[39m\u001B[38;5;124m\"\u001B[39m\u001B[38;5;124mReference value: \u001B[39m\u001B[38;5;132;01m{\u001B[39;00mref_value\u001B[38;5;132;01m:\u001B[39;00m\u001B[38;5;124m.5f\u001B[39m\u001B[38;5;132;01m}\u001B[39;00m\u001B[38;5;124m\"\u001B[39m)\n",
      "\u001B[0;31mNameError\u001B[0m: name 'op' is not defined"
     ]
    }
   ],
   "source": [
    "# Analytic solution\n",
    "from qiskit.algorithms.minimum_eigensolvers import NumPyMinimumEigensolver\n",
    "from qiskit.opflow import PauliSumOp\n",
    "\n",
    "numpy_solver = NumPyMinimumEigensolver()\n",
    "result = numpy_solver.compute_minimum_eigenvalue(operator=operator)\n",
    "ref_value = result.eigenvalue.real\n",
    "print(f\"Reference value: {ref_value:.5f}\")"
   ],
   "metadata": {
    "collapsed": false
   }
  }
 ],
 "metadata": {
  "kernelspec": {
   "display_name": "Python 3",
   "language": "python",
   "name": "python3"
  },
  "language_info": {
   "codemirror_mode": {
    "name": "ipython",
    "version": 2
   },
   "file_extension": ".py",
   "mimetype": "text/x-python",
   "name": "python",
   "nbconvert_exporter": "python",
   "pygments_lexer": "ipython2",
   "version": "2.7.6"
  }
 },
 "nbformat": 4,
 "nbformat_minor": 0
}
