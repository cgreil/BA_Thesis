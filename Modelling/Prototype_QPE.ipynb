{
 "cells": [
  {
   "cell_type": "markdown",
   "source": [
    "# Quantum Phase Estimation"
   ],
   "metadata": {
    "collapsed": false
   }
  },
  {
   "cell_type": "markdown",
   "source": [
    "Below is the simple prototype of a QPE algorithm for a very simple Hamiltonian for a two-dimensional Hilbert space and with possible expression as a diagonal matrix."
   ],
   "metadata": {
    "collapsed": false
   }
  },
  {
   "cell_type": "code",
   "execution_count": 1,
   "metadata": {
    "collapsed": true,
    "ExecuteTime": {
     "start_time": "2023-04-05T17:07:52.116376Z",
     "end_time": "2023-04-05T17:07:53.222853Z"
    }
   },
   "outputs": [
    {
     "name": "stderr",
     "output_type": "stream",
     "text": [
      "/home/christoph/anaconda3/envs/qc/lib/python3.9/site-packages/qiskit/aqua/__init__.py:86: DeprecationWarning: The package qiskit.aqua is deprecated. It was moved/refactored to qiskit-terra For more information see <https://github.com/Qiskit/qiskit-aqua/blob/main/README.md#migration-guide>\n",
      "  warn_package('aqua', 'qiskit-terra')\n"
     ]
    }
   ],
   "source": [
    "import numpy as np\n",
    "from random import random\n",
    "from qiskit import *\n",
    "from qiskit.aqua.utils.controlled_circuit import get_controlled_circuit"
   ]
  },
  {
   "cell_type": "code",
   "execution_count": 3,
   "outputs": [
    {
     "data": {
      "text/plain": "<qiskit.circuit.instructionset.InstructionSet at 0x7f0ebce30760>"
     },
     "execution_count": 3,
     "metadata": {},
     "output_type": "execute_result"
    }
   ],
   "source": [
    "num_bits_estimate = 10\n",
    "# For 2x2 matrix one qubit is enough\n",
    "q = QuantumRegister(1, name=\"q\")\n",
    "# In QPE we use n ancillas to estimate n bits from the phase\n",
    "a = QuantumRegister(num_bits_estimate, name=\"a\")\n",
    "# For n ancillary qubit measurment we need n cllasical bits\n",
    "c = ClassicalRegister(num_bits_estimate, name=\"c\")\n",
    "\n",
    "# Create a quantum circuit\n",
    "circuit = QuantumCircuit(q, a, c)\n",
    "\n",
    "# |1> eigenstate initialization\n",
    "circuit.x(q[0])"
   ],
   "metadata": {
    "collapsed": false,
    "ExecuteTime": {
     "start_time": "2023-04-05T17:10:55.555063Z",
     "end_time": "2023-04-05T17:10:55.558686Z"
    }
   }
  },
  {
   "cell_type": "code",
   "execution_count": null,
   "outputs": [],
   "source": [
    "E_1, E_2 = (2 * np.pi * random(), 2 * np.pi * random())\n",
    "print(\"We are going to estimate E_2 via QPE algorithm \\nE_2 = {}\".format(E_2))\n",
    "\n",
    "# circuit for unitary operator exp(iHt)\n",
    "t = 1\n",
    "unitary = QuantumCircuit(q)\n",
    "\n",
    "unitary.u1(E_2 * t, q[0]) # q[0] is the only qubit in q register\n",
    "unitary.x(q[0])\n",
    "unitary.u1(E_1 * t, q[0])\n",
    "unitary.x(q[0])"
   ],
   "metadata": {
    "collapsed": false
   }
  },
  {
   "cell_type": "code",
   "execution_count": 4,
   "outputs": [
    {
     "name": "stdout",
     "output_type": "stream",
     "text": [
      "We are going to estimate E_2 via QPE algorithm \n",
      "E_2 = 2.683642986467598\n"
     ]
    },
    {
     "name": "stderr",
     "output_type": "stream",
     "text": [
      "/tmp/ipykernel_21154/762532233.py:8: DeprecationWarning: The QuantumCircuit.u1 method is deprecated as of 0.16.0. It will be removed no earlier than 3 months after the release date. You should use the QuantumCircuit.p method instead, which acts identically.\n",
      "  unitary.u1(E_2 * t, q[0]) # q[0] is the only qubit in q register\n"
     ]
    },
    {
     "data": {
      "text/plain": "<qiskit.circuit.instructionset.InstructionSet at 0x7f0ebce21d00>"
     },
     "execution_count": 4,
     "metadata": {},
     "output_type": "execute_result"
    }
   ],
   "source": [
    "E_1, E_2 = (2 * np.pi * random(), 2 * np.pi * random())\n",
    "print(\"We are going to estimate E_2 via QPE algorithm \\nE_2 = {}\".format(E_2))\n",
    "\n",
    "# circuit for unitary operator exp(iHt)\n",
    "t = 1\n",
    "unitary = QuantumCircuit(q)\n",
    "\n",
    "unitary.u1(E_2 * t, q[0]) # q[0] is the only qubit in q register\n",
    "unitary.x(q[0])\n",
    "unitary.u1(E_1 * t, q[0])\n",
    "unitary.x(q[0])"
   ],
   "metadata": {
    "collapsed": false,
    "ExecuteTime": {
     "start_time": "2023-04-05T17:11:27.884094Z",
     "end_time": "2023-04-05T17:11:27.924994Z"
    }
   }
  },
  {
   "cell_type": "code",
   "execution_count": 5,
   "outputs": [],
   "source": [
    "# Perform Hadamard Transform on ancilliary qubits\n",
    "for ancillary in a:\n",
    "    circuit.h(ancillary)"
   ],
   "metadata": {
    "collapsed": false,
    "ExecuteTime": {
     "start_time": "2023-04-05T17:11:58.476153Z",
     "end_time": "2023-04-05T17:11:58.516860Z"
    }
   }
  },
  {
   "cell_type": "code",
   "execution_count": 6,
   "outputs": [],
   "source": [
    "for n in range(a.size):\n",
    "    for m in range(2**n):\n",
    "        get_controlled_circuit(unitary, a[n], circuit)"
   ],
   "metadata": {
    "collapsed": false,
    "ExecuteTime": {
     "start_time": "2023-04-05T17:12:16.662463Z",
     "end_time": "2023-04-05T17:12:17.366594Z"
    }
   }
  },
  {
   "cell_type": "code",
   "execution_count": 7,
   "outputs": [
    {
     "name": "stderr",
     "output_type": "stream",
     "text": [
      "/tmp/ipykernel_21154/3718569119.py:7: DeprecationWarning: The QuantumCircuit.cu1 method is deprecated as of 0.16.0. It will be removed no earlier than 3 months after the release date. You should use the QuantumCircuit.cp method instead, which acts identically.\n",
      "  circuit.cu1(angle, a[n], a[m])\n"
     ]
    }
   ],
   "source": [
    "# inverse QFT without SWAP gates\n",
    "for n in reversed(range(a.size)):\n",
    "    circuit.h(a[n])\n",
    "    if n != 0:\n",
    "        for m in reversed(range(n)):\n",
    "            angle = -2*np.pi / (2**(n - m + 1))\n",
    "            circuit.cu1(angle, a[n], a[m])\n",
    "\n",
    "# measurements on the ancillary qubits stored in c classical register\n",
    "for n in reversed(range(a.size)):\n",
    "    circuit.measure(a[n],c[n])"
   ],
   "metadata": {
    "collapsed": false,
    "ExecuteTime": {
     "start_time": "2023-04-05T17:12:55.589233Z",
     "end_time": "2023-04-05T17:12:55.591539Z"
    }
   }
  },
  {
   "cell_type": "code",
   "execution_count": null,
   "outputs": [],
   "source": [
    "# Get backend and simulate the algorithm\n",
    "backend = BasicAer.get_backend('qasm_simulator')\n",
    "shots = 1024  # how many time execute the algorithm\n",
    "job = execute(circuit, backend, shots=shots)\n",
    "result = job.result()\n",
    "counts = result.get_counts()\n",
    "\n",
    "phase_bits = max(counts, key=counts.get) # take the most often obtaned result\n",
    "\n",
    "phase = 0\n",
    "for index, bit in enumerate(reversed(phase_bits)):\n",
    "    phase += int(bit) / 2**(index + 1)\n",
    "\n",
    "estimated_E_2 = 2 * np.pi * phase / t\n",
    "\n",
    "print(\"Accurate Eigenvalue of the Hamiltonian: {}\".format(E_2))\n",
    "print(\"Estimated eigenvalue of the Hamiltonian: {}\".format(estimated_E_2))"
   ],
   "metadata": {
    "collapsed": false,
    "ExecuteTime": {
     "start_time": "2023-04-05T17:13:21.294345Z",
     "end_time": "2023-04-05T17:13:29.384691Z"
    },
    "pycharm": {
     "is_executing": true
    }
   }
  }
 ],
 "metadata": {
  "kernelspec": {
   "display_name": "Python 3",
   "language": "python",
   "name": "python3"
  },
  "language_info": {
   "codemirror_mode": {
    "name": "ipython",
    "version": 2
   },
   "file_extension": ".py",
   "mimetype": "text/x-python",
   "name": "python",
   "nbconvert_exporter": "python",
   "pygments_lexer": "ipython2",
   "version": "2.7.6"
  }
 },
 "nbformat": 4,
 "nbformat_minor": 0
}
