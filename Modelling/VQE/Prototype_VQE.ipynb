{
 "cells": [
  {
   "cell_type": "markdown",
   "source": [
    "# VQE Prototype\n",
    "A simple example for a VQE utilizing the full qiskit library and a simple test hamiltonian following <a href = https://github.com/DavitKhach/quantum-algorithms-tutorials/blob/master/variational_quantum_eigensolver.ipynb>this tutorial</a>.\n",
    ". The Hamiltonian will be described as the Pauli string\n",
    "$$H = 0.6 * IX + 0.8 * IZ + 0.2 * XY $$\n",
    "where the multiplication without any symol in between denotes the Kronecker Product."
   ],
   "metadata": {
    "collapsed": false
   }
  },
  {
   "cell_type": "markdown",
   "source": [
    "System Settings: Since Qiskit Aqua has been deprecated, this example may not run on the newest versions of python and qiskit. This example was created using python 3.9 and qiskit 0.31. Newer versions may not be compatible."
   ],
   "metadata": {
    "collapsed": false
   }
  },
  {
   "cell_type": "markdown",
   "source": [],
   "metadata": {
    "collapsed": false
   }
  },
  {
   "cell_type": "code",
   "execution_count": 31,
   "outputs": [],
   "source": [
    "# Imports\n",
    "import numpy as np\n",
    "from random import random\n",
    "from scipy.optimize import minimize\n",
    "\n",
    "\n",
    "from qiskit import *\n",
    "from qiskit.circuit.library.standard_gates import U2Gate\n",
    "from qiskit.aqua.operators import WeightedPauliOperator\n",
    "from qiskit.aqua.algorithms import NumPyEigensolver"
   ],
   "metadata": {
    "collapsed": false,
    "ExecuteTime": {
     "start_time": "2023-04-05T16:48:39.278646Z",
     "end_time": "2023-04-05T16:48:39.285434Z"
    }
   }
  },
  {
   "cell_type": "code",
   "execution_count": 32,
   "outputs": [],
   "source": [
    "def hamiltonian_operator(a, b, c, d):\n",
    "    \"\"\"\n",
    "    Creates a*I + b*Z + c*X + d*Y pauli sum\n",
    "    that will be our Hamiltonian operator.\n",
    "\n",
    "    \"\"\"\n",
    "    pauli_dict = {\n",
    "        'paulis': [{\"coeff\": {\"imag\": 0.0, \"real\": a}, \"label\": \"I\"},\n",
    "                   {\"coeff\": {\"imag\": 0.0, \"real\": b}, \"label\": \"Z\"},\n",
    "                   {\"coeff\": {\"imag\": 0.0, \"real\": c}, \"label\": \"X\"},\n",
    "                   {\"coeff\": {\"imag\": 0.0, \"real\": d}, \"label\": \"Y\"}\n",
    "                   ]\n",
    "    }\n",
    "    return WeightedPauliOperator.from_dict(pauli_dict)"
   ],
   "metadata": {
    "collapsed": false,
    "ExecuteTime": {
     "start_time": "2023-04-05T16:48:39.284078Z",
     "end_time": "2023-04-05T16:48:39.328637Z"
    }
   }
  },
  {
   "cell_type": "code",
   "execution_count": 33,
   "outputs": [],
   "source": [
    "# coefficient definition\n",
    "scale = 10\n",
    "a, b, c, d = (scale*random(), scale*random(),\n",
    "              scale*random(), scale*random())\n",
    "H = hamiltonian_operator(a, b, c, d)\n"
   ],
   "metadata": {
    "collapsed": false,
    "ExecuteTime": {
     "start_time": "2023-04-05T16:48:39.327729Z",
     "end_time": "2023-04-05T16:48:39.328918Z"
    }
   }
  },
  {
   "cell_type": "code",
   "execution_count": 34,
   "outputs": [
    {
     "name": "stdout",
     "output_type": "stream",
     "text": [
      "Representation: paulis, qubits: 1, size: 4\n"
     ]
    }
   ],
   "source": [
    "#confirm that H is indeed acting on two qubits\n",
    "print(H)"
   ],
   "metadata": {
    "collapsed": false,
    "ExecuteTime": {
     "start_time": "2023-04-05T16:48:39.328245Z",
     "end_time": "2023-04-05T16:48:39.329167Z"
    }
   }
  },
  {
   "cell_type": "code",
   "execution_count": 35,
   "outputs": [
    {
     "name": "stdout",
     "output_type": "stream",
     "text": [
      "The exact ground state energy is: -1.9525997152936638\n"
     ]
    }
   ],
   "source": [
    "# use numpy eigensolver to exactly determine the eigenstates of the hamiltonion\n",
    "# note that there is no quantum speedup in this\n",
    "exact_result = NumPyEigensolver(H).run()\n",
    "reference_energy = min(np.real(exact_result.eigenvalues))\n",
    "print('The exact ground state energy is: {}'.format(reference_energy))"
   ],
   "metadata": {
    "collapsed": false,
    "ExecuteTime": {
     "start_time": "2023-04-05T16:48:39.328741Z",
     "end_time": "2023-04-05T16:48:39.329340Z"
    }
   }
  },
  {
   "cell_type": "markdown",
   "source": [
    "The energy is negative as it is a bound energy state."
   ],
   "metadata": {
    "collapsed": false
   }
  },
  {
   "cell_type": "markdown",
   "source": [
    "## Creating the Ansatz state:\n",
    "As Ansatz state, we start with the method proposed by the tutorial, i.e. in performing two rotations Rx, Ry onto each of our qubits, specified by parameters t1 - t4. It can easily be shown on the Bloch sphere that two rotations about different axes are universal i.e. each possible state on the Bloch sphere can be reached.\n",
    "\n",
    "Later this will be changed in favour of the k-UCC Ansatz state."
   ],
   "metadata": {
    "collapsed": false
   }
  },
  {
   "cell_type": "code",
   "execution_count": 36,
   "outputs": [],
   "source": [
    "# creates a circuit doing the preparation on an initial qubit in the |0> state\n",
    "def quantum_state_preparation(circuit, parameters):\n",
    "    q = circuit.qregs[0] # q is the quantum register where the info about qubits is stored\n",
    "    circuit.rx(parameters[0], q[0]) # q[0] is our one and only qubit XD\n",
    "    circuit.ry(parameters[1], q[0])\n",
    "    return circuit\n"
   ],
   "metadata": {
    "collapsed": false,
    "ExecuteTime": {
     "start_time": "2023-04-05T16:48:39.329099Z",
     "end_time": "2023-04-05T16:48:39.329436Z"
    }
   }
  },
  {
   "cell_type": "code",
   "execution_count": 37,
   "outputs": [
    {
     "name": "stdout",
     "output_type": "stream",
     "text": [
      "H_gate:\n",
      "[[ 1.+0.j  1.-0.j]\n",
      " [ 1.+0.j -1.+0.j]]\n",
      "Y_gate:\n",
      "[[ 1.+0.j -0.-1.j]\n",
      " [ 1.+0.j  0.+1.j]]\n"
     ]
    }
   ],
   "source": [
    "H_gate = U2Gate(0, np.pi).to_matrix()\n",
    "print(\"H_gate:\")\n",
    "print((H_gate * np.sqrt(2)).round(5))\n",
    "\n",
    "Y_gate = U2Gate(0, np.pi/2).to_matrix()\n",
    "print(\"Y_gate:\")\n",
    "print((Y_gate * np.sqrt(2)).round(5))"
   ],
   "metadata": {
    "collapsed": false,
    "ExecuteTime": {
     "start_time": "2023-04-05T16:48:39.329398Z",
     "end_time": "2023-04-05T16:48:39.341413Z"
    }
   }
  },
  {
   "cell_type": "markdown",
   "source": [
    "## Creating the circuit"
   ],
   "metadata": {
    "collapsed": false
   }
  },
  {
   "cell_type": "code",
   "execution_count": 38,
   "outputs": [],
   "source": [
    "\n",
    "\n",
    "def vqe_circuit(parameters, measure):\n",
    "    \"\"\"\n",
    "    Creates a device ansatz circuit for optimization.\n",
    "    :param parameters_array: list of parameters for constructing ansatz state that should be optimized.\n",
    "    :param measure: measurement type. E.g. 'Z' stands for Z measurement.\n",
    "    :return: quantum circuit.\n",
    "    \"\"\"\n",
    "    q = QuantumRegister(1)\n",
    "    c = ClassicalRegister(1)\n",
    "    circuit = QuantumCircuit(q, c)\n",
    "\n",
    "    # quantum state preparation\n",
    "    circuit = quantum_state_preparation(circuit, parameters)\n",
    "\n",
    "    # measurement\n",
    "    if measure == 'Z':\n",
    "        circuit.measure(q[0], c[0])\n",
    "    elif measure == 'X':\n",
    "        circuit.u2(0, np.pi, q[0])\n",
    "        circuit.measure(q[0], c[0])\n",
    "    elif measure == 'Y':\n",
    "        circuit.u2(0, np.pi/2, q[0])\n",
    "        circuit.measure(q[0], c[0])\n",
    "    else:\n",
    "        raise ValueError('Not valid input for measurement: input should be \"X\" or \"Y\" or \"Z\"')\n",
    "\n",
    "    return circuit\n",
    "\n"
   ],
   "metadata": {
    "collapsed": false,
    "ExecuteTime": {
     "start_time": "2023-04-05T16:48:39.329885Z",
     "end_time": "2023-04-05T16:48:39.341822Z"
    }
   }
  },
  {
   "cell_type": "code",
   "execution_count": 39,
   "outputs": [],
   "source": [
    "# quantum module is the function governing the vqe measurements on top of the circuit creation\n",
    "def quantum_module(parameters, measure):\n",
    "    # measure\n",
    "    if measure == 'I':\n",
    "        return 1\n",
    "    elif measure == 'Z':\n",
    "        circuit = vqe_circuit(parameters, 'Z')\n",
    "    elif measure == 'X':\n",
    "        circuit = vqe_circuit(parameters, 'X')\n",
    "    elif measure == 'Y':\n",
    "        circuit = vqe_circuit(parameters, 'Y')\n",
    "    else:\n",
    "        raise ValueError('Not valid input for measurement: input should be \"I\" or \"X\" or \"Z\" or \"Y\"')\n",
    "\n",
    "    shots = 8192\n",
    "    backend = BasicAer.get_backend('qasm_simulator')\n",
    "    job = execute(circuit, backend, shots=shots)\n",
    "    result = job.result()\n",
    "    counts = result.get_counts()\n",
    "\n",
    "    # expectation value estimation from counts\n",
    "    expectation_value = 0\n",
    "    for measure_result in counts:\n",
    "        sign = +1\n",
    "        if measure_result == '1':\n",
    "            sign = -1\n",
    "        expectation_value += sign * counts[measure_result] / shots\n",
    "\n",
    "    return expectation_value\n"
   ],
   "metadata": {
    "collapsed": false,
    "ExecuteTime": {
     "start_time": "2023-04-05T16:48:39.330255Z",
     "end_time": "2023-04-05T16:48:39.341973Z"
    }
   }
  },
  {
   "cell_type": "code",
   "execution_count": 40,
   "outputs": [],
   "source": [
    "def pauli_operator_to_dict(pauli_operator):\n",
    "    \"\"\"\n",
    "    from WeightedPauliOperator return a dict:\n",
    "    {I: 0.7, X: 0.6, Z: 0.1, Y: 0.5}.\n",
    "    :param pauli_operator: qiskit's WeightedPauliOperator\n",
    "    :return: a dict in the desired form.\n",
    "    \"\"\"\n",
    "    d = pauli_operator.to_dict()\n",
    "    paulis = d['paulis']\n",
    "    paulis_dict = {}\n",
    "\n",
    "    for x in paulis:\n",
    "        label = x['label']\n",
    "        coeff = x['coeff']['real']\n",
    "        paulis_dict[label] = coeff\n",
    "\n",
    "    return paulis_dict\n",
    "pauli_dict = pauli_operator_to_dict(H)"
   ],
   "metadata": {
    "collapsed": false,
    "ExecuteTime": {
     "start_time": "2023-04-05T16:48:39.371318Z",
     "end_time": "2023-04-05T16:48:39.382100Z"
    }
   }
  },
  {
   "cell_type": "code",
   "execution_count": 41,
   "outputs": [
    {
     "name": "stdout",
     "output_type": "stream",
     "text": [
      "{'I': 5.848267121885352, 'Z': 4.132729422345979, 'X': 4.723944151599246, 'Y': 4.632323670216331}\n"
     ]
    }
   ],
   "source": [
    "# confirm that everything went right\n",
    "print(pauli_dict)"
   ],
   "metadata": {
    "collapsed": false,
    "ExecuteTime": {
     "start_time": "2023-04-05T16:48:39.371612Z",
     "end_time": "2023-04-05T16:48:39.393711Z"
    }
   }
  },
  {
   "cell_type": "code",
   "execution_count": 42,
   "outputs": [],
   "source": [
    "def vqe(parameters):\n",
    "\n",
    "    # quantum_modules\n",
    "    quantum_module_I = pauli_dict['I'] * quantum_module(parameters, 'I')\n",
    "    quantum_module_Z = pauli_dict['Z'] * quantum_module(parameters, 'Z')\n",
    "    quantum_module_X = pauli_dict['X'] * quantum_module(parameters, 'X')\n",
    "    quantum_module_Y = pauli_dict['Y'] * quantum_module(parameters, 'Y')\n",
    "\n",
    "    # summing the measurement results\n",
    "    classical_adder = quantum_module_I + quantum_module_Z + quantum_module_X + quantum_module_Y\n",
    "\n",
    "    return classical_adder"
   ],
   "metadata": {
    "collapsed": false,
    "ExecuteTime": {
     "start_time": "2023-04-05T16:48:39.371867Z",
     "end_time": "2023-04-05T16:48:39.393878Z"
    }
   }
  },
  {
   "cell_type": "code",
   "execution_count": 43,
   "outputs": [
    {
     "name": "stderr",
     "output_type": "stream",
     "text": [
      "/tmp/ipykernel_7676/3649201999.py:19: DeprecationWarning: The QuantumCircuit.u2 method is deprecated as of 0.16.0. It will be removed no earlier than 3 months after the release date. You can use the general 1-qubit gate QuantumCircuit.u instead: u2(φ,λ) = u(π/2, φ, λ). Alternatively, you can decompose it interms of QuantumCircuit.p and QuantumCircuit.sx: u2(φ,λ) = p(π/2+φ) sx p(λ-π/2) (1 pulse on hardware).\n",
      "  circuit.u2(0, np.pi, q[0])\n"
     ]
    },
    {
     "name": "stdout",
     "output_type": "stream",
     "text": [
      "The exact ground state energy is: -1.9525997152936638\n",
      "The estimated ground state energy from VQE algorithm is: -1.9969850173318227\n"
     ]
    }
   ],
   "source": [
    "\n",
    "parameters_array = np.array([np.pi, np.pi, np.pi, np.pi])\n",
    "tol = 1e-3 # tolerance for optimization precision.\n",
    "\n",
    "vqe_result = minimize(vqe, parameters_array, method=\"Powell\", tol=tol)\n",
    "print('The exact ground state energy is: {}'.format(reference_energy))\n",
    "print('The estimated ground state energy from VQE algorithm is: {}'.format(vqe_result.fun))\n",
    "\n"
   ],
   "metadata": {
    "collapsed": false,
    "ExecuteTime": {
     "start_time": "2023-04-05T16:48:39.372073Z",
     "end_time": "2023-04-05T16:48:42.194374Z"
    }
   }
  },
  {
   "cell_type": "code",
   "execution_count": 43,
   "outputs": [],
   "source": [],
   "metadata": {
    "collapsed": false,
    "ExecuteTime": {
     "start_time": "2023-04-05T16:48:42.194521Z",
     "end_time": "2023-04-05T16:48:42.235977Z"
    }
   }
  }
 ],
 "metadata": {
  "kernelspec": {
   "display_name": "Python 3",
   "language": "python",
   "name": "python3"
  },
  "language_info": {
   "codemirror_mode": {
    "name": "ipython",
    "version": 2
   },
   "file_extension": ".py",
   "mimetype": "text/x-python",
   "name": "python",
   "nbconvert_exporter": "python",
   "pygments_lexer": "ipython2",
   "version": "2.7.6"
  }
 },
 "nbformat": 4,
 "nbformat_minor": 0
}
