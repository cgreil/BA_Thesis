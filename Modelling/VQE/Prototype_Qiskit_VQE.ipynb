{
 "cells": [
  {
   "cell_type": "markdown",
   "source": [
    "# Qiskit VQE Tutorial\n",
    "Full tutorial using Qiskit VQE class following\n",
    "https://github.com/Qiskit/qiskit-tutorials/blob/master/tutorials/algorithms/02_vqe_advanced_options.ipynb"
   ],
   "metadata": {
    "collapsed": false
   }
  },
  {
   "cell_type": "code",
   "execution_count": 17,
   "outputs": [],
   "source": [
    "import numpy as np\n",
    "from qiskit.algorithms.minimum_eigensolvers import VQE\n",
    "from qiskit.algorithms.optimizers import NELDER_MEAD\n",
    "from qiskit_nature.circuit.library.ansatzes import UCC\n",
    "from qiskit_nature.converters.second_quantization.qubit_converter import QubitConverter\n",
    "from qiskit_nature.mappers.second_quantization import JordanWignerMapper\n",
    "from qiskit.utils import algorithm_globals\n",
    "from qiskit.primitives import Estimator\n",
    "from qiskit.quantum_info import SparsePauliOp\n",
    "from qiskit.circuit.library import TwoLocal\n",
    "import datetime\n",
    "\n",
    "from qiskit import QuantumCircuit\n",
    "\n",
    "from src.hamiltonian.FermionicHamiltonian import FermionicHamiltonian\n",
    "from src.molecule.BeH2 import BeH2"
   ],
   "metadata": {
    "collapsed": false,
    "ExecuteTime": {
     "start_time": "2023-04-25T18:24:32.871646Z",
     "end_time": "2023-04-25T18:24:32.885778Z"
    }
   }
  },
  {
   "cell_type": "code",
   "execution_count": 18,
   "outputs": [],
   "source": [
    "# Hamiltonian operator creation\n",
    "H2_op = SparsePauliOp.from_list(\n",
    "    [\n",
    "        (\"IIII\", -1.052373245772859),\n",
    "        (\"IZII\", 0.39793742484318045),\n",
    "        (\"ZIII\", -0.39793742484318045),\n",
    "        (\"ZZII\", -0.01128010425623538),\n",
    "        (\"XXII\", 0.18093119978423156),\n",
    "    ]\n",
    ")"
   ],
   "metadata": {
    "collapsed": false,
    "ExecuteTime": {
     "start_time": "2023-04-25T18:24:32.918321Z",
     "end_time": "2023-04-25T18:24:32.926617Z"
    }
   }
  },
  {
   "cell_type": "code",
   "execution_count": 19,
   "outputs": [
    {
     "data": {
      "text/plain": "4"
     },
     "execution_count": 19,
     "metadata": {},
     "output_type": "execute_result"
    }
   ],
   "source": [
    "H2_op.num_qubits"
   ],
   "metadata": {
    "collapsed": false,
    "ExecuteTime": {
     "start_time": "2023-04-25T18:24:32.918524Z",
     "end_time": "2023-04-25T18:24:32.927012Z"
    }
   }
  },
  {
   "cell_type": "code",
   "execution_count": 20,
   "outputs": [],
   "source": [
    "molecule = BeH2(14, 6)"
   ],
   "metadata": {
    "collapsed": false,
    "ExecuteTime": {
     "start_time": "2023-04-25T18:24:32.918713Z",
     "end_time": "2023-04-25T18:24:32.927136Z"
    }
   }
  },
  {
   "cell_type": "code",
   "execution_count": 21,
   "outputs": [],
   "source": [
    "hamiltonian = FermionicHamiltonian(molecule.num_orbitals, molecule=molecule)\n",
    "op = hamiltonian.get_hamiltonian()"
   ],
   "metadata": {
    "collapsed": false,
    "ExecuteTime": {
     "start_time": "2023-04-25T18:24:32.918857Z",
     "end_time": "2023-04-25T18:24:34.202801Z"
    }
   }
  },
  {
   "cell_type": "code",
   "execution_count": 22,
   "outputs": [
    {
     "name": "stdout",
     "output_type": "stream",
     "text": [
      "24598\n"
     ]
    }
   ],
   "source": [
    "print(len(op))"
   ],
   "metadata": {
    "collapsed": false,
    "ExecuteTime": {
     "start_time": "2023-04-25T18:24:34.205519Z",
     "end_time": "2023-04-25T18:24:34.246961Z"
    }
   }
  },
  {
   "cell_type": "code",
   "execution_count": 22,
   "outputs": [],
   "source": [],
   "metadata": {
    "collapsed": false,
    "ExecuteTime": {
     "start_time": "2023-04-25T18:24:34.246723Z",
     "end_time": "2023-04-25T18:24:34.247155Z"
    }
   }
  },
  {
   "cell_type": "code",
   "execution_count": 23,
   "outputs": [],
   "source": [
    "# create estimator, optimizer, converter, ansatz\n",
    "estimator = Estimator()\n",
    "# optimizer definition\n",
    "optimizer = NELDER_MEAD(maxiter=50, maxfev=50)\n",
    "# use UCC Ansatz\n",
    "converter = QubitConverter(mapper=JordanWignerMapper(), two_qubit_reduction=True)\n",
    "#ansatz = UCC(excitations='st')"
   ],
   "metadata": {
    "collapsed": false,
    "ExecuteTime": {
     "start_time": "2023-04-25T18:24:34.246878Z",
     "end_time": "2023-04-25T18:24:34.247248Z"
    }
   }
  },
  {
   "cell_type": "code",
   "execution_count": 24,
   "outputs": [],
   "source": [
    "ucc_ansatz = UCC(qubit_converter=converter, num_spin_orbitals=14, num_particles=(0,6), excitations='sd', alpha_spin=True, beta_spin=True, max_spin_excitation=1, generalized=True, preserve_spin=True, reps=5)"
   ],
   "metadata": {
    "collapsed": false,
    "ExecuteTime": {
     "start_time": "2023-04-25T18:24:34.247052Z",
     "end_time": "2023-04-25T18:24:36.298167Z"
    }
   }
  },
  {
   "cell_type": "code",
   "execution_count": 25,
   "outputs": [
    {
     "data": {
      "text/plain": "14"
     },
     "execution_count": 25,
     "metadata": {},
     "output_type": "execute_result"
    }
   ],
   "source": [
    "ucc_ansatz.num_qubits\n",
    "# has to be equal to the ones of the hamiltonian"
   ],
   "metadata": {
    "collapsed": false,
    "ExecuteTime": {
     "start_time": "2023-04-25T18:24:36.299100Z",
     "end_time": "2023-04-25T18:24:36.342881Z"
    }
   }
  },
  {
   "cell_type": "code",
   "execution_count": 26,
   "outputs": [],
   "source": [
    "ucc_ansatz_h2 = UCC(qubit_converter=converter, num_spin_orbitals=4, num_particles=(0,2), excitations='sd', alpha_spin=True, beta_spin=True, max_spin_excitation=1, generalized=True, preserve_spin=True, reps=5)"
   ],
   "metadata": {
    "collapsed": false,
    "ExecuteTime": {
     "start_time": "2023-04-25T18:24:36.342541Z",
     "end_time": "2023-04-25T18:24:36.343066Z"
    }
   }
  },
  {
   "cell_type": "markdown",
   "source": [],
   "metadata": {
    "collapsed": false
   }
  },
  {
   "cell_type": "code",
   "execution_count": 27,
   "outputs": [
    {
     "name": "stdout",
     "output_type": "stream",
     "text": [
      "Optimizer: NELDER_MEAD        "
     ]
    }
   ],
   "source": [
    "print(\"\\rOptimizer: {}        \".format(type(optimizer).__name__), end=\"\")\n",
    "algorithm_globals.random_seed = 50\n",
    "\n",
    "# use ansatz TwoLocal\n",
    "#ansatz2 = TwoLocal(rotation_blocks=\"ry\", entanglement_blocks=\"cz\")\n",
    "counts = []\n",
    "values = []"
   ],
   "metadata": {
    "collapsed": false,
    "ExecuteTime": {
     "start_time": "2023-04-25T18:24:36.342664Z",
     "end_time": "2023-04-25T18:24:36.343278Z"
    }
   }
  },
  {
   "cell_type": "code",
   "execution_count": 28,
   "outputs": [],
   "source": [
    "def store_intermediate_result(eval_count, parameters, mean, std):\n",
    "    time = datetime.datetime.now()\n",
    "    print(f\"Iteration done at {time}\")\n",
    "    counts.append(eval_count)\n",
    "    values.append(mean)"
   ],
   "metadata": {
    "collapsed": false,
    "ExecuteTime": {
     "start_time": "2023-04-25T18:24:36.342801Z",
     "end_time": "2023-04-25T18:24:36.343574Z"
    }
   }
  },
  {
   "cell_type": "code",
   "execution_count": 29,
   "outputs": [
    {
     "data": {
      "text/plain": "\"Optimizer: NELDER_MEAD\\n-- method: nelder-mead\\n-- bounds_support_level: 1\\n-- gradient_support_level: 1\\n-- initial_point_support_level: 3\\n-- options: {'maxiter': 50, 'maxfev': 50, 'disp': False, 'xatol': 0.0001, 'adaptive': False}\\n-- max_evals_grouped: 1\\n-- kwargs: {'tol': None}\\n\""
     },
     "execution_count": 29,
     "metadata": {},
     "output_type": "execute_result"
    }
   ],
   "source": [
    "# TwoLocal Ansatz\n",
    "# ansatz = TwoLocal(rotation_blocks=\"ry\", entanglement_blocks=\"cz\")\n",
    "optimizer.setting"
   ],
   "metadata": {
    "collapsed": false,
    "ExecuteTime": {
     "start_time": "2023-04-25T18:24:36.343169Z",
     "end_time": "2023-04-25T18:24:36.343790Z"
    }
   }
  },
  {
   "cell_type": "code",
   "execution_count": 30,
   "outputs": [
    {
     "name": "stdout",
     "output_type": "stream",
     "text": [
      "Starting calculation at: 2023-04-25 18:24:36.322474\n",
      "Iteration done at 2023-04-25 18:27:15.007963\n",
      "Iteration done at 2023-04-25 18:30:13.852339\n",
      "Iteration done at 2023-04-25 18:33:23.234319\n",
      "Iteration done at 2023-04-25 18:36:33.777804\n",
      "Iteration done at 2023-04-25 18:40:08.282280\n",
      "Iteration done at 2023-04-25 18:43:40.810202\n",
      "Iteration done at 2023-04-25 18:47:09.768215\n",
      "Iteration done at 2023-04-25 18:50:33.239159\n",
      "Iteration done at 2023-04-25 18:53:54.440923\n",
      "Iteration done at 2023-04-25 18:57:30.231868\n",
      "Iteration done at 2023-04-25 19:00:59.098400\n",
      "Iteration done at 2023-04-25 19:03:47.314944\n",
      "Iteration done at 2023-04-25 19:06:41.839363\n",
      "Iteration done at 2023-04-25 19:09:47.325395\n",
      "Iteration done at 2023-04-25 19:12:48.939832\n",
      "Iteration done at 2023-04-25 19:15:44.050912\n",
      "Iteration done at 2023-04-25 19:18:43.835449\n",
      "Iteration done at 2023-04-25 19:21:52.930258\n",
      "Iteration done at 2023-04-25 19:24:52.561427\n",
      "Iteration done at 2023-04-25 19:27:49.205316\n",
      "Iteration done at 2023-04-25 19:30:49.405487\n",
      "Iteration done at 2023-04-25 19:33:50.797664\n",
      "Iteration done at 2023-04-25 19:37:09.819195\n",
      "Iteration done at 2023-04-25 19:40:52.333614\n",
      "Iteration done at 2023-04-25 19:44:15.423608\n",
      "Iteration done at 2023-04-25 19:47:46.788106\n",
      "Iteration done at 2023-04-25 19:51:27.491557\n",
      "Iteration done at 2023-04-25 19:54:51.368207\n",
      "Iteration done at 2023-04-25 19:58:12.402423\n",
      "Iteration done at 2023-04-25 20:01:44.069589\n",
      "Iteration done at 2023-04-25 20:04:49.734436\n",
      "Iteration done at 2023-04-25 20:07:53.175775\n",
      "Iteration done at 2023-04-25 20:11:00.051649\n",
      "Iteration done at 2023-04-25 20:13:55.497992\n",
      "Iteration done at 2023-04-25 20:16:55.286119\n",
      "Iteration done at 2023-04-25 20:19:47.596029\n",
      "Iteration done at 2023-04-25 20:22:52.425341\n",
      "Iteration done at 2023-04-25 20:25:52.026429\n",
      "Iteration done at 2023-04-25 20:28:47.870045\n",
      "Iteration done at 2023-04-25 20:31:49.020807\n",
      "Iteration done at 2023-04-25 20:34:41.197470\n",
      "Iteration done at 2023-04-25 20:37:35.656277\n",
      "Iteration done at 2023-04-25 20:40:43.288644\n",
      "Iteration done at 2023-04-25 20:44:18.102442\n",
      "Iteration done at 2023-04-25 20:47:43.352070\n",
      "Iteration done at 2023-04-25 20:51:05.282184\n",
      "Iteration done at 2023-04-25 20:54:43.937382\n",
      "Iteration done at 2023-04-25 20:58:20.999326\n",
      "Iteration done at 2023-04-25 21:01:40.625624\n",
      "Iteration done at 2023-04-25 21:05:09.944355\n",
      "Ended calculation at: 2023-04-25 21:05:10.007324\n",
      "Optimization complete\n"
     ]
    }
   ],
   "source": [
    "# Use VQE with estimator, ansatz, optimizer\n",
    "vqe = VQE(estimator, ucc_ansatz, optimizer, callback=store_intermediate_result)\n",
    "# invoke computation on the operator\n",
    "time = datetime.datetime.now()\n",
    "print(f\"Starting calculation at: {time}\")\n",
    "result = vqe.compute_minimum_eigenvalue(operator=op)\n",
    "time = datetime.datetime.now()\n",
    "print(f\"Ended calculation at: {time}\")\n",
    "\n",
    "\n",
    "converge_counts = np.asarray(counts)\n",
    "converge_vals = np.asarray(values)\n",
    "\n",
    "print(\"\\rOptimization complete\");"
   ],
   "metadata": {
    "collapsed": false,
    "ExecuteTime": {
     "start_time": "2023-04-25T18:24:36.343388Z",
     "end_time": "2023-04-25T21:05:10.050541Z"
    }
   }
  },
  {
   "cell_type": "code",
   "execution_count": 31,
   "outputs": [
    {
     "data": {
      "text/plain": "<Figure size 1200x800 with 1 Axes>",
      "image/png": "[encoded data removed]"
     },
     "metadata": {},
     "output_type": "display_data"
    }
   ],
   "source": [
    "# Outputting the optimization process\n",
    "import pylab\n",
    "\n",
    "pylab.rcParams[\"figure.figsize\"] = (12, 8)\n",
    "pylab.plot(converge_counts, converge_vals, label=type(optimizer).__name__)\n",
    "pylab.xlabel(\"Eval count\")\n",
    "pylab.ylabel(\"Energy\")\n",
    "pylab.title(\"Energy convergence for various optimizers\")\n",
    "pylab.legend(loc=\"upper right\");"
   ],
   "metadata": {
    "collapsed": false,
    "ExecuteTime": {
     "start_time": "2023-04-25T21:05:10.050323Z",
     "end_time": "2023-04-25T21:05:10.124706Z"
    }
   }
  },
  {
   "cell_type": "code",
   "execution_count": 34,
   "outputs": [
    {
     "name": "stdout",
     "output_type": "stream",
     "text": [
      "Reference value: -56.31553\n"
     ]
    }
   ],
   "source": [
    "# Analytic solution\n",
    "from qiskit.algorithms.minimum_eigensolvers import NumPyMinimumEigensolver\n",
    "from qiskit.opflow import PauliSumOp\n",
    "\n",
    "numpy_solver = NumPyMinimumEigensolver()\n",
    "result = numpy_solver.compute_minimum_eigenvalue(operator=op)\n",
    "ref_value = result.eigenvalue.real\n",
    "print(f\"Reference value: {ref_value:.5f}\")"
   ],
   "metadata": {
    "collapsed": false,
    "ExecuteTime": {
     "start_time": "2023-04-25T21:12:31.406769Z",
     "end_time": "2023-04-25T21:16:39.777218Z"
    }
   }
  },
  {
   "cell_type": "code",
   "execution_count": 37,
   "outputs": [
    {
     "data": {
      "text/plain": "14"
     },
     "execution_count": 37,
     "metadata": {},
     "output_type": "execute_result"
    }
   ],
   "source": [
    "result.eigenstate."
   ],
   "metadata": {
    "collapsed": false,
    "ExecuteTime": {
     "start_time": "2023-04-25T21:17:59.148054Z",
     "end_time": "2023-04-25T21:17:59.190733Z"
    }
   }
  }
 ],
 "metadata": {
  "kernelspec": {
   "display_name": "Python 3",
   "language": "python",
   "name": "python3"
  },
  "language_info": {
   "codemirror_mode": {
    "name": "ipython",
    "version": 2
   },
   "file_extension": ".py",
   "mimetype": "text/x-python",
   "name": "python",
   "nbconvert_exporter": "python",
   "pygments_lexer": "ipython2",
   "version": "2.7.6"
  }
 },
 "nbformat": 4,
 "nbformat_minor": 0
}
