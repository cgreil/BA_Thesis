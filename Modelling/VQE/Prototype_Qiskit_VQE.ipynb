{
 "cells": [
  {
   "cell_type": "markdown",
   "source": [
    "# Qiskit VQE Tutorial\n",
    "Full tutorial using Qiskit VQE class following\n",
    "https://github.com/Qiskit/qiskit-tutorials/blob/master/tutorials/algorithms/02_vqe_advanced_options.ipynb"
   ],
   "metadata": {
    "collapsed": false
   }
  },
  {
   "cell_type": "code",
   "execution_count": 74,
   "outputs": [],
   "source": [
    "import numpy as np\n",
    "from qiskit.algorithms.minimum_eigensolvers import VQE\n",
    "from qiskit.algorithms.optimizers import NELDER_MEAD, GradientDescent\n",
    "from qiskit_nature.circuit.library.ansatzes import UCC\n",
    "from qiskit_nature.converters.second_quantization.qubit_converter import QubitConverter\n",
    "from qiskit_nature.mappers.second_quantization import JordanWignerMapper\n",
    "from qiskit.utils import algorithm_globals\n",
    "from qiskit.primitives import Estimator\n",
    "from qiskit.quantum_info import SparsePauliOp\n",
    "from qiskit.circuit.library import TwoLocal\n",
    "import datetime\n",
    "\n",
    "from qiskit import QuantumCircuit\n",
    "\n",
    "from src.hamiltonian.FermionicHamiltonian import FermionicHamiltonian\n",
    "from src.molecule.BeH2 import BeH2"
   ],
   "metadata": {
    "collapsed": false,
    "ExecuteTime": {
     "start_time": "2023-04-25T22:22:43.619017Z",
     "end_time": "2023-04-25T22:22:43.688272Z"
    }
   }
  },
  {
   "cell_type": "code",
   "execution_count": 75,
   "outputs": [],
   "source": [
    "# Hamiltonian operator creation\n",
    "H2_op = SparsePauliOp.from_list(\n",
    "    [\n",
    "        (\"IIII\", -1.052373245772859),\n",
    "        (\"IZII\", 0.39793742484318045),\n",
    "        (\"ZIII\", -0.39793742484318045),\n",
    "        (\"ZZII\", -0.01128010425623538),\n",
    "        (\"XXII\", 0.18093119978423156),\n",
    "    ]\n",
    ")"
   ],
   "metadata": {
    "collapsed": false,
    "ExecuteTime": {
     "start_time": "2023-04-25T22:22:43.662781Z",
     "end_time": "2023-04-25T22:22:43.693089Z"
    }
   }
  },
  {
   "cell_type": "code",
   "execution_count": 76,
   "outputs": [
    {
     "data": {
      "text/plain": "4"
     },
     "execution_count": 76,
     "metadata": {},
     "output_type": "execute_result"
    }
   ],
   "source": [
    "H2_op.num_qubits"
   ],
   "metadata": {
    "collapsed": false,
    "ExecuteTime": {
     "start_time": "2023-04-25T22:22:43.663090Z",
     "end_time": "2023-04-25T22:22:43.693421Z"
    }
   }
  },
  {
   "cell_type": "code",
   "execution_count": 77,
   "outputs": [],
   "source": [
    "molecule = BeH2(\"test\", 14, 6)"
   ],
   "metadata": {
    "collapsed": false,
    "ExecuteTime": {
     "start_time": "2023-04-25T22:22:43.663331Z",
     "end_time": "2023-04-25T22:22:43.693497Z"
    }
   }
  },
  {
   "cell_type": "code",
   "execution_count": 78,
   "outputs": [],
   "source": [
    "hamiltonian = FermionicHamiltonian(molecule.num_orbitals, molecule=molecule)\n",
    "op = hamiltonian.get_hamiltonian()"
   ],
   "metadata": {
    "collapsed": false,
    "ExecuteTime": {
     "start_time": "2023-04-25T22:22:43.663571Z",
     "end_time": "2023-04-25T22:22:44.659344Z"
    }
   }
  },
  {
   "cell_type": "code",
   "execution_count": 79,
   "outputs": [
    {
     "name": "stdout",
     "output_type": "stream",
     "text": [
      "24598\n"
     ]
    }
   ],
   "source": [
    "print(len(op))"
   ],
   "metadata": {
    "collapsed": false,
    "ExecuteTime": {
     "start_time": "2023-04-25T22:22:44.661562Z",
     "end_time": "2023-04-25T22:22:44.663100Z"
    }
   }
  },
  {
   "cell_type": "code",
   "execution_count": 79,
   "outputs": [],
   "source": [],
   "metadata": {
    "collapsed": false,
    "ExecuteTime": {
     "start_time": "2023-04-25T22:22:44.663821Z",
     "end_time": "2023-04-25T22:22:44.665487Z"
    }
   }
  },
  {
   "cell_type": "code",
   "execution_count": 80,
   "outputs": [],
   "source": [
    "# create estimator, optimizer, converter, ansatz\n",
    "estimator = Estimator()\n",
    "# optimizer definition\n",
    "optimizer = NELDER_MEAD(maxiter=150, maxfev=150)\n",
    "#optimizer = GradientDescent(maxiter=20)\n",
    "# use UCC Ansatz\n",
    "converter = QubitConverter(mapper=JordanWignerMapper(), two_qubit_reduction=True)\n",
    "#ansatz = UCC(excitations='st')"
   ],
   "metadata": {
    "collapsed": false,
    "ExecuteTime": {
     "start_time": "2023-04-25T22:22:44.666257Z",
     "end_time": "2023-04-25T22:22:44.697344Z"
    }
   }
  },
  {
   "cell_type": "code",
   "execution_count": 81,
   "outputs": [],
   "source": [
    "ucc_ansatz = UCC(qubit_converter=converter, num_spin_orbitals=14, num_particles=(0,6), excitations='sd', alpha_spin=True, beta_spin=True, max_spin_excitation=1, generalized=True, preserve_spin=True, reps=5)"
   ],
   "metadata": {
    "collapsed": false,
    "ExecuteTime": {
     "start_time": "2023-04-25T22:22:44.684395Z",
     "end_time": "2023-04-25T22:22:46.654203Z"
    }
   }
  },
  {
   "cell_type": "code",
   "execution_count": 82,
   "outputs": [
    {
     "data": {
      "text/plain": "14"
     },
     "execution_count": 82,
     "metadata": {},
     "output_type": "execute_result"
    }
   ],
   "source": [
    "ucc_ansatz.num_qubits\n",
    "# has to be equal to the ones of the hamiltonian"
   ],
   "metadata": {
    "collapsed": false,
    "ExecuteTime": {
     "start_time": "2023-04-25T22:22:46.655662Z",
     "end_time": "2023-04-25T22:22:46.657719Z"
    }
   }
  },
  {
   "cell_type": "code",
   "execution_count": 83,
   "outputs": [],
   "source": [
    "ucc_ansatz_h2 = UCC(qubit_converter=converter, num_spin_orbitals=4, num_particles=(0,2), excitations='sd', alpha_spin=True, beta_spin=True, max_spin_excitation=1, generalized=True, preserve_spin=True, reps=5)"
   ],
   "metadata": {
    "collapsed": false,
    "ExecuteTime": {
     "start_time": "2023-04-25T22:22:46.658681Z",
     "end_time": "2023-04-25T22:22:46.692297Z"
    }
   }
  },
  {
   "cell_type": "markdown",
   "source": [],
   "metadata": {
    "collapsed": false
   }
  },
  {
   "cell_type": "code",
   "execution_count": 84,
   "outputs": [
    {
     "name": "stdout",
     "output_type": "stream",
     "text": [
      "Optimizer: NELDER_MEAD        "
     ]
    }
   ],
   "source": [
    "print(\"\\rOptimizer: {}        \".format(type(optimizer).__name__), end=\"\")\n",
    "algorithm_globals.random_seed = 50\n",
    "\n",
    "# use ansatz TwoLocal\n",
    "#ansatz2 = TwoLocal(rotation_blocks=\"ry\", entanglement_blocks=\"cz\")\n",
    "counts = []\n",
    "values = []"
   ],
   "metadata": {
    "collapsed": false,
    "ExecuteTime": {
     "start_time": "2023-04-25T22:22:46.680322Z",
     "end_time": "2023-04-25T22:22:46.694631Z"
    }
   }
  },
  {
   "cell_type": "code",
   "execution_count": 85,
   "outputs": [],
   "source": [
    "def store_intermediate_result(eval_count, parameters, mean, std):\n",
    "    time = datetime.datetime.now()\n",
    "    print(f\"Iteration done at {time}\")\n",
    "    counts.append(eval_count)\n",
    "    values.append(mean)"
   ],
   "metadata": {
    "collapsed": false,
    "ExecuteTime": {
     "start_time": "2023-04-25T22:22:46.681577Z",
     "end_time": "2023-04-25T22:22:46.733507Z"
    }
   }
  },
  {
   "cell_type": "code",
   "execution_count": 86,
   "outputs": [
    {
     "data": {
      "text/plain": "\"Optimizer: NELDER_MEAD\\n-- method: nelder-mead\\n-- bounds_support_level: 1\\n-- gradient_support_level: 1\\n-- initial_point_support_level: 3\\n-- options: {'maxiter': 150, 'maxfev': 150, 'disp': False, 'xatol': 0.0001, 'adaptive': False}\\n-- max_evals_grouped: 1\\n-- kwargs: {'tol': None}\\n\""
     },
     "execution_count": 86,
     "metadata": {},
     "output_type": "execute_result"
    }
   ],
   "source": [
    "# TwoLocal Ansatz\n",
    "ansatz = TwoLocal(num_qubits=molecule.num_orbitals, rotation_blocks=\"ry\", entanglement_blocks=\"cz\")\n",
    "optimizer.setting"
   ],
   "metadata": {
    "collapsed": false,
    "ExecuteTime": {
     "start_time": "2023-04-25T22:22:46.722620Z",
     "end_time": "2023-04-25T22:22:46.735324Z"
    }
   }
  },
  {
   "cell_type": "code",
   "execution_count": 87,
   "outputs": [
    {
     "name": "stdout",
     "output_type": "stream",
     "text": [
      "Starting calculation at: 2023-04-25 22:22:46.691176\n",
      "Iteration done at 2023-04-25 22:22:47.879241\n",
      "Iteration done at 2023-04-25 22:22:49.074251\n",
      "Iteration done at 2023-04-25 22:22:50.202229\n",
      "Iteration done at 2023-04-25 22:22:51.331782\n",
      "Iteration done at 2023-04-25 22:22:52.495680\n",
      "Iteration done at 2023-04-25 22:22:53.651416\n",
      "Iteration done at 2023-04-25 22:22:54.799132\n",
      "Iteration done at 2023-04-25 22:22:55.929661\n",
      "Iteration done at 2023-04-25 22:22:57.095028\n",
      "Iteration done at 2023-04-25 22:22:58.231503\n",
      "Iteration done at 2023-04-25 22:22:59.385571\n",
      "Iteration done at 2023-04-25 22:23:00.534892\n",
      "Iteration done at 2023-04-25 22:23:01.676071\n",
      "Iteration done at 2023-04-25 22:23:02.828356\n",
      "Iteration done at 2023-04-25 22:23:03.984435\n",
      "Iteration done at 2023-04-25 22:23:05.132879\n",
      "Iteration done at 2023-04-25 22:23:06.269151\n",
      "Iteration done at 2023-04-25 22:23:07.418244\n",
      "Iteration done at 2023-04-25 22:23:08.609379\n",
      "Iteration done at 2023-04-25 22:23:09.749659\n",
      "Iteration done at 2023-04-25 22:23:10.887002\n",
      "Iteration done at 2023-04-25 22:23:12.025919\n",
      "Iteration done at 2023-04-25 22:23:13.180924\n",
      "Iteration done at 2023-04-25 22:23:14.322650\n",
      "Iteration done at 2023-04-25 22:23:15.463021\n",
      "Iteration done at 2023-04-25 22:23:16.601703\n",
      "Iteration done at 2023-04-25 22:23:17.751830\n",
      "Iteration done at 2023-04-25 22:23:18.888830\n",
      "Iteration done at 2023-04-25 22:23:20.054766\n",
      "Iteration done at 2023-04-25 22:23:21.194004\n",
      "Iteration done at 2023-04-25 22:23:22.327159\n",
      "Iteration done at 2023-04-25 22:23:23.462032\n",
      "Iteration done at 2023-04-25 22:23:24.588990\n",
      "Iteration done at 2023-04-25 22:23:25.738442\n",
      "Iteration done at 2023-04-25 22:23:26.889346\n",
      "Iteration done at 2023-04-25 22:23:28.011939\n",
      "Iteration done at 2023-04-25 22:23:29.179231\n",
      "Iteration done at 2023-04-25 22:23:30.320986\n",
      "Iteration done at 2023-04-25 22:23:31.467123\n",
      "Iteration done at 2023-04-25 22:23:32.616898\n",
      "Iteration done at 2023-04-25 22:23:33.758689\n",
      "Iteration done at 2023-04-25 22:23:34.916478\n",
      "Iteration done at 2023-04-25 22:23:36.046970\n",
      "Iteration done at 2023-04-25 22:23:37.188101\n",
      "Iteration done at 2023-04-25 22:23:38.460624\n",
      "Iteration done at 2023-04-25 22:23:39.903214\n",
      "Iteration done at 2023-04-25 22:23:41.261502\n",
      "Iteration done at 2023-04-25 22:23:42.573469\n",
      "Iteration done at 2023-04-25 22:23:43.880039\n",
      "Iteration done at 2023-04-25 22:23:45.179576\n",
      "Iteration done at 2023-04-25 22:23:46.475593\n",
      "Iteration done at 2023-04-25 22:23:47.772336\n",
      "Iteration done at 2023-04-25 22:23:49.069726\n",
      "Iteration done at 2023-04-25 22:23:50.360652\n",
      "Iteration done at 2023-04-25 22:23:51.655763\n",
      "Iteration done at 2023-04-25 22:23:52.941172\n",
      "Iteration done at 2023-04-25 22:23:54.262277\n",
      "Iteration done at 2023-04-25 22:23:55.546590\n",
      "Iteration done at 2023-04-25 22:23:56.844677\n",
      "Iteration done at 2023-04-25 22:23:58.178059\n",
      "Iteration done at 2023-04-25 22:23:59.473478\n",
      "Iteration done at 2023-04-25 22:24:00.770752\n",
      "Iteration done at 2023-04-25 22:24:02.056057\n",
      "Iteration done at 2023-04-25 22:24:03.353817\n",
      "Iteration done at 2023-04-25 22:24:04.652469\n",
      "Iteration done at 2023-04-25 22:24:05.967346\n",
      "Iteration done at 2023-04-25 22:24:07.358627\n",
      "Iteration done at 2023-04-25 22:24:08.647713\n",
      "Iteration done at 2023-04-25 22:24:09.944794\n",
      "Iteration done at 2023-04-25 22:24:11.241439\n",
      "Iteration done at 2023-04-25 22:24:12.530922\n",
      "Iteration done at 2023-04-25 22:24:13.827638\n",
      "Iteration done at 2023-04-25 22:24:15.120984\n",
      "Iteration done at 2023-04-25 22:24:16.519608\n",
      "Iteration done at 2023-04-25 22:24:17.828359\n",
      "Iteration done at 2023-04-25 22:24:19.126777\n",
      "Iteration done at 2023-04-25 22:24:20.476580\n",
      "Iteration done at 2023-04-25 22:24:21.758622\n",
      "Iteration done at 2023-04-25 22:24:23.065169\n",
      "Iteration done at 2023-04-25 22:24:24.341010\n",
      "Iteration done at 2023-04-25 22:24:25.676546\n",
      "Iteration done at 2023-04-25 22:24:26.969383\n",
      "Iteration done at 2023-04-25 22:24:28.263770\n",
      "Iteration done at 2023-04-25 22:24:29.546878\n",
      "Iteration done at 2023-04-25 22:24:30.840986\n",
      "Iteration done at 2023-04-25 22:24:32.123344\n",
      "Iteration done at 2023-04-25 22:24:33.407832\n",
      "Iteration done at 2023-04-25 22:24:34.749523\n",
      "Iteration done at 2023-04-25 22:24:36.055681\n",
      "Iteration done at 2023-04-25 22:24:37.365945\n",
      "Iteration done at 2023-04-25 22:24:38.659151\n",
      "Iteration done at 2023-04-25 22:24:39.940409\n",
      "Iteration done at 2023-04-25 22:24:41.232733\n",
      "Iteration done at 2023-04-25 22:24:42.518259\n",
      "Iteration done at 2023-04-25 22:24:43.881902\n",
      "Iteration done at 2023-04-25 22:24:45.178685\n",
      "Iteration done at 2023-04-25 22:24:46.466094\n",
      "Iteration done at 2023-04-25 22:24:47.753288\n",
      "Iteration done at 2023-04-25 22:24:49.035443\n",
      "Iteration done at 2023-04-25 22:24:50.328139\n",
      "Iteration done at 2023-04-25 22:24:51.634742\n",
      "Iteration done at 2023-04-25 22:24:52.931897\n",
      "Iteration done at 2023-04-25 22:24:54.218515\n",
      "Iteration done at 2023-04-25 22:24:55.517529\n",
      "Iteration done at 2023-04-25 22:24:56.804859\n",
      "Iteration done at 2023-04-25 22:24:58.083003\n",
      "Iteration done at 2023-04-25 22:24:59.384799\n",
      "Iteration done at 2023-04-25 22:25:00.740471\n",
      "Iteration done at 2023-04-25 22:25:02.035590\n",
      "Iteration done at 2023-04-25 22:25:03.320407\n",
      "Iteration done at 2023-04-25 22:25:04.608508\n",
      "Iteration done at 2023-04-25 22:25:05.916063\n",
      "Iteration done at 2023-04-25 22:25:07.206790\n",
      "Iteration done at 2023-04-25 22:25:08.511482\n",
      "Iteration done at 2023-04-25 22:25:09.898733\n",
      "Iteration done at 2023-04-25 22:25:11.189166\n",
      "Iteration done at 2023-04-25 22:25:12.470229\n",
      "Iteration done at 2023-04-25 22:25:13.778273\n",
      "Iteration done at 2023-04-25 22:25:15.071566\n",
      "Iteration done at 2023-04-25 22:25:16.360619\n",
      "Iteration done at 2023-04-25 22:25:17.658048\n",
      "Iteration done at 2023-04-25 22:25:19.013286\n",
      "Iteration done at 2023-04-25 22:25:20.312512\n",
      "Iteration done at 2023-04-25 22:25:21.608084\n",
      "Iteration done at 2023-04-25 22:25:22.895082\n",
      "Iteration done at 2023-04-25 22:25:24.185466\n",
      "Iteration done at 2023-04-25 22:25:25.491637\n",
      "Iteration done at 2023-04-25 22:25:26.784794\n",
      "Iteration done at 2023-04-25 22:25:28.076570\n",
      "Iteration done at 2023-04-25 22:25:29.373104\n",
      "Iteration done at 2023-04-25 22:25:30.668418\n",
      "Iteration done at 2023-04-25 22:25:31.960398\n",
      "Iteration done at 2023-04-25 22:25:33.238779\n",
      "Iteration done at 2023-04-25 22:25:34.535512\n",
      "Iteration done at 2023-04-25 22:25:35.843480\n",
      "Iteration done at 2023-04-25 22:25:37.127669\n",
      "Iteration done at 2023-04-25 22:25:38.415527\n",
      "Iteration done at 2023-04-25 22:25:39.712430\n",
      "Iteration done at 2023-04-25 22:25:41.006797\n",
      "Iteration done at 2023-04-25 22:25:42.292885\n",
      "Iteration done at 2023-04-25 22:25:43.585822\n",
      "Iteration done at 2023-04-25 22:25:44.870121\n",
      "Iteration done at 2023-04-25 22:25:46.172640\n",
      "Iteration done at 2023-04-25 22:25:47.458283\n",
      "Iteration done at 2023-04-25 22:25:48.751963\n",
      "Iteration done at 2023-04-25 22:25:50.069042\n",
      "Iteration done at 2023-04-25 22:25:51.369466\n",
      "Iteration done at 2023-04-25 22:25:52.660659\n",
      "Iteration done at 2023-04-25 22:25:54.002829\n",
      "Iteration done at 2023-04-25 22:25:55.294674\n",
      "Ended calculation at: 2023-04-25 22:25:55.299244\n",
      "Optimization complete\n"
     ]
    }
   ],
   "source": [
    "# Use VQE with estimator, ansatz, optimizer\n",
    "vqe = VQE(estimator, ansatz, optimizer, callback=store_intermediate_result)\n",
    "# invoke computation on the operator\n",
    "time = datetime.datetime.now()\n",
    "print(f\"Starting calculation at: {time}\")\n",
    "result = vqe.compute_minimum_eigenvalue(operator=op)\n",
    "time = datetime.datetime.now()\n",
    "print(f\"Ended calculation at: {time}\")\n",
    "\n",
    "\n",
    "converge_counts = np.asarray(counts)\n",
    "converge_vals = np.asarray(values)\n",
    "\n",
    "print(\"\\rOptimization complete\");"
   ],
   "metadata": {
    "collapsed": false,
    "ExecuteTime": {
     "start_time": "2023-04-25T22:22:46.722859Z",
     "end_time": "2023-04-25T22:25:55.302200Z"
    }
   }
  },
  {
   "cell_type": "code",
   "execution_count": 88,
   "outputs": [
    {
     "data": {
      "text/plain": "<Figure size 1200x800 with 1 Axes>",
      "image/png": "[encoded data removed]"
     },
     "metadata": {},
     "output_type": "display_data"
    }
   ],
   "source": [
    "# Outputting the optimization process\n",
    "import pylab\n",
    "\n",
    "pylab.rcParams[\"figure.figsize\"] = (12, 8)\n",
    "pylab.plot(converge_counts, converge_vals, label=type(optimizer).__name__)\n",
    "pylab.xlabel(\"Eval count\")\n",
    "pylab.ylabel(\"Energy\")\n",
    "pylab.title(\"Energy convergence for various optimizers\")\n",
    "pylab.legend(loc=\"upper right\");"
   ],
   "metadata": {
    "collapsed": false,
    "ExecuteTime": {
     "start_time": "2023-04-25T22:25:55.307693Z",
     "end_time": "2023-04-25T22:25:55.419842Z"
    }
   }
  },
  {
   "cell_type": "code",
   "execution_count": 89,
   "outputs": [
    {
     "name": "stdout",
     "output_type": "stream",
     "text": [
      "Reference value: -56.31553\n"
     ]
    }
   ],
   "source": [
    "# Analytic solution\n",
    "from qiskit.algorithms.minimum_eigensolvers import NumPyMinimumEigensolver\n",
    "from qiskit.opflow import PauliSumOp\n",
    "\n",
    "numpy_solver = NumPyMinimumEigensolver()\n",
    "result = numpy_solver.compute_minimum_eigenvalue(operator=op)\n",
    "ref_value = result.eigenvalue.real\n",
    "print(f\"Reference value: {ref_value:.5f}\")"
   ],
   "metadata": {
    "collapsed": false,
    "ExecuteTime": {
     "start_time": "2023-04-25T22:25:55.421356Z",
     "end_time": "2023-04-25T22:30:00.139686Z"
    }
   }
  }
 ],
 "metadata": {
  "kernelspec": {
   "display_name": "Python 3",
   "language": "python",
   "name": "python3"
  },
  "language_info": {
   "codemirror_mode": {
    "name": "ipython",
    "version": 2
   },
   "file_extension": ".py",
   "mimetype": "text/x-python",
   "name": "python",
   "nbconvert_exporter": "python",
   "pygments_lexer": "ipython2",
   "version": "2.7.6"
  }
 },
 "nbformat": 4,
 "nbformat_minor": 0
}
