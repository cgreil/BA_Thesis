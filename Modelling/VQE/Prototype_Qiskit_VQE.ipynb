{
 "cells": [
  {
   "cell_type": "markdown",
   "source": [
    "# Qiskit VQE Tutorial\n",
    "Full tutorial using Qiskit VQE class following\n",
    "https://github.com/Qiskit/qiskit-tutorials/blob/master/tutorials/algorithms/02_vqe_advanced_options.ipynb"
   ],
   "metadata": {
    "collapsed": false
   }
  },
  {
   "cell_type": "code",
   "execution_count": 1,
   "outputs": [],
   "source": [
    "import numpy as np\n",
    "from qiskit.algorithms.minimum_eigensolvers import VQE\n",
    "from qiskit.algorithms.optimizers import NELDER_MEAD\n",
    "from qiskit_nature.circuit.library.ansatzes import UCC\n",
    "from qiskit_nature.converters.second_quantization.qubit_converter import QubitConverter\n",
    "from qiskit_nature.mappers.second_quantization import JordanWignerMapper\n",
    "from qiskit.utils import algorithm_globals\n",
    "from qiskit.primitives import Estimator\n",
    "from qiskit.quantum_info import SparsePauliOp\n",
    "from qiskit.circuit.library import TwoLocal\n",
    "import datetime\n",
    "\n",
    "from qiskit import QuantumCircuit\n",
    "\n",
    "from src.hamiltonian.FermionicHamiltonian import FermionicHamiltonian\n",
    "from src.molecule.BeH2 import BeH2"
   ],
   "metadata": {
    "collapsed": false,
    "ExecuteTime": {
     "start_time": "2023-04-25T13:39:21.168126Z",
     "end_time": "2023-04-25T13:39:21.585032Z"
    }
   }
  },
  {
   "cell_type": "code",
   "execution_count": 17,
   "outputs": [],
   "source": [
    "# Hamiltonian operator creation\n",
    "H2_op = SparsePauliOp.from_list(\n",
    "    [\n",
    "        (\"IIII\", -1.052373245772859),\n",
    "        (\"IZII\", 0.39793742484318045),\n",
    "        (\"ZIII\", -0.39793742484318045),\n",
    "        (\"ZZII\", -0.01128010425623538),\n",
    "        (\"XXII\", 0.18093119978423156),\n",
    "    ]\n",
    ")"
   ],
   "metadata": {
    "collapsed": false,
    "ExecuteTime": {
     "start_time": "2023-04-25T13:36:44.404783Z",
     "end_time": "2023-04-25T13:36:44.507916Z"
    }
   }
  },
  {
   "cell_type": "code",
   "execution_count": 18,
   "outputs": [],
   "source": [
    "H2_op.num_qubits"
   ],
   "metadata": {
    "collapsed": false,
    "ExecuteTime": {
     "start_time": "2023-04-25T13:36:45.473245Z",
     "end_time": "2023-04-25T13:36:45.536573Z"
    }
   }
  },
  {
   "cell_type": "code",
   "execution_count": 2,
   "outputs": [],
   "source": [
    "molecule = BeH2(\"BeH2\", 14, 6)"
   ],
   "metadata": {
    "collapsed": false,
    "ExecuteTime": {
     "start_time": "2023-04-25T13:39:23.789490Z",
     "end_time": "2023-04-25T13:39:23.795716Z"
    }
   }
  },
  {
   "cell_type": "code",
   "execution_count": 3,
   "outputs": [],
   "source": [
    "hamiltonian = FermionicHamiltonian(molecule.num_orbitals, molecule=molecule)\n",
    "op = hamiltonian.get_hamiltonian()"
   ],
   "metadata": {
    "collapsed": false,
    "ExecuteTime": {
     "start_time": "2023-04-25T13:39:25.036135Z",
     "end_time": "2023-04-25T13:39:25.749501Z"
    }
   }
  },
  {
   "cell_type": "code",
   "execution_count": 4,
   "outputs": [
    {
     "name": "stdout",
     "output_type": "stream",
     "text": [
      "24598\n"
     ]
    }
   ],
   "source": [
    "print(len(op))"
   ],
   "metadata": {
    "collapsed": false,
    "ExecuteTime": {
     "start_time": "2023-04-25T13:39:26.827055Z",
     "end_time": "2023-04-25T13:39:26.831414Z"
    }
   }
  },
  {
   "cell_type": "code",
   "execution_count": 5,
   "outputs": [],
   "source": [
    "# create estimator, optimizer, converter, ansatz\n",
    "estimator = Estimator()\n",
    "# optimizer definition\n",
    "optimizer = NELDER_MEAD(maxiter=10)\n",
    "# use UCC Ansatz\n",
    "converter = QubitConverter(mapper=JordanWignerMapper(), two_qubit_reduction=True)\n",
    "#ansatz = UCC(excitations='st')"
   ],
   "metadata": {
    "collapsed": false,
    "ExecuteTime": {
     "start_time": "2023-04-25T13:39:28.278811Z",
     "end_time": "2023-04-25T13:39:28.281012Z"
    }
   }
  },
  {
   "cell_type": "code",
   "execution_count": 6,
   "outputs": [],
   "source": [
    "ucc_ansatz = UCC(qubit_converter=converter, num_spin_orbitals=14, num_particles=(0,6), excitations='sd', alpha_spin=True, beta_spin=True, max_spin_excitation=1, generalized=True, preserve_spin=True, reps=5)"
   ],
   "metadata": {
    "collapsed": false,
    "ExecuteTime": {
     "start_time": "2023-04-25T13:39:30.610605Z",
     "end_time": "2023-04-25T13:39:32.445414Z"
    }
   }
  },
  {
   "cell_type": "code",
   "execution_count": 7,
   "outputs": [
    {
     "data": {
      "text/plain": "14"
     },
     "execution_count": 7,
     "metadata": {},
     "output_type": "execute_result"
    }
   ],
   "source": [
    "ucc_ansatz.num_qubits\n",
    "# has to be equal to the ones of the hamiltonian"
   ],
   "metadata": {
    "collapsed": false,
    "ExecuteTime": {
     "start_time": "2023-04-25T13:39:33.034550Z",
     "end_time": "2023-04-25T13:39:33.089304Z"
    }
   }
  },
  {
   "cell_type": "code",
   "execution_count": 11,
   "outputs": [],
   "source": [
    "ucc_ansatz_h2 = UCC(qubit_converter=converter, num_spin_orbitals=4, num_particles=(0,2), excitations='sd', alpha_spin=True, beta_spin=True, max_spin_excitation=1, generalized=True, preserve_spin=True, reps=5)"
   ],
   "metadata": {
    "collapsed": false,
    "ExecuteTime": {
     "start_time": "2023-04-25T12:47:10.489392Z",
     "end_time": "2023-04-25T12:47:10.523492Z"
    }
   }
  },
  {
   "cell_type": "markdown",
   "source": [],
   "metadata": {
    "collapsed": false
   }
  },
  {
   "cell_type": "code",
   "execution_count": 8,
   "outputs": [
    {
     "name": "stdout",
     "output_type": "stream",
     "text": [
      "Optimizer: NELDER_MEAD        "
     ]
    }
   ],
   "source": [
    "print(\"\\rOptimizer: {}        \".format(type(optimizer).__name__), end=\"\")\n",
    "algorithm_globals.random_seed = 50\n",
    "\n",
    "# use ansatz TwoLocal\n",
    "#ansatz2 = TwoLocal(rotation_blocks=\"ry\", entanglement_blocks=\"cz\")\n",
    "counts = []\n",
    "values = []"
   ],
   "metadata": {
    "collapsed": false,
    "ExecuteTime": {
     "start_time": "2023-04-25T13:39:36.556119Z",
     "end_time": "2023-04-25T13:39:36.560155Z"
    }
   }
  },
  {
   "cell_type": "code",
   "execution_count": 9,
   "outputs": [],
   "source": [
    "def store_intermediate_result(eval_count, parameters, mean, std):\n",
    "    time = datetime.datetime.now()\n",
    "    print(f\"Iteration done at {time}\")\n",
    "    counts.append(eval_count)\n",
    "    values.append(mean)"
   ],
   "metadata": {
    "collapsed": false,
    "ExecuteTime": {
     "start_time": "2023-04-25T13:39:39.014849Z",
     "end_time": "2023-04-25T13:39:39.017207Z"
    }
   }
  },
  {
   "cell_type": "code",
   "execution_count": 12,
   "outputs": [
    {
     "data": {
      "text/plain": "\"Optimizer: NELDER_MEAD\\n-- method: nelder-mead\\n-- bounds_support_level: 1\\n-- gradient_support_level: 1\\n-- initial_point_support_level: 3\\n-- options: {'maxiter': 10, 'maxfev': 1000, 'disp': False, 'xatol': 0.0001, 'adaptive': False}\\n-- max_evals_grouped: 1\\n-- kwargs: {'tol': None}\\n\""
     },
     "execution_count": 12,
     "metadata": {},
     "output_type": "execute_result"
    }
   ],
   "source": [
    "# TwoLocal Ansatz\n",
    "# ansatz = TwoLocal(rotation_blocks=\"ry\", entanglement_blocks=\"cz\")\n",
    "optimizer.setting"
   ],
   "metadata": {
    "collapsed": false,
    "ExecuteTime": {
     "start_time": "2023-04-25T13:39:50.340117Z",
     "end_time": "2023-04-25T13:39:50.344366Z"
    }
   }
  },
  {
   "cell_type": "code",
   "execution_count": null,
   "outputs": [
    {
     "name": "stdout",
     "output_type": "stream",
     "text": [
      "Starting calculation at: 2023-04-25 13:39:56.104263\n",
      "Iteration done at 2023-04-25 13:43:18.047229\n",
      "Iteration done at 2023-04-25 13:46:35.037195\n",
      "Iteration done at 2023-04-25 13:50:03.960707\n",
      "Iteration done at 2023-04-25 13:53:23.450526\n",
      "Iteration done at 2023-04-25 13:56:37.601574\n",
      "Iteration done at 2023-04-25 13:59:52.681036\n",
      "Iteration done at 2023-04-25 14:02:34.213550\n",
      "Iteration done at 2023-04-25 14:05:48.731591\n",
      "Iteration done at 2023-04-25 14:09:01.468149\n",
      "Iteration done at 2023-04-25 14:12:27.541346\n",
      "Iteration done at 2023-04-25 14:15:52.679479\n",
      "Iteration done at 2023-04-25 14:19:05.941763\n",
      "Iteration done at 2023-04-25 14:22:14.844305\n",
      "Iteration done at 2023-04-25 14:25:50.780807\n",
      "Iteration done at 2023-04-25 14:28:57.192836\n",
      "Iteration done at 2023-04-25 14:31:58.540455\n",
      "Iteration done at 2023-04-25 14:35:14.375787\n",
      "Iteration done at 2023-04-25 14:38:35.872309\n"
     ]
    }
   ],
   "source": [
    "# Use VQE with estimator, ansatz, optimizer\n",
    "vqe = VQE(estimator, ucc_ansatz, optimizer, callback=store_intermediate_result)\n",
    "# invoke computation on the operator\n",
    "time = datetime.datetime.now()\n",
    "print(f\"Starting calculation at: {time}\")\n",
    "result = vqe.compute_minimum_eigenvalue(operator=op)\n",
    "time = datetime.datetime.now()\n",
    "print(f\"Ended calculation at: {time}\")\n",
    "\n",
    "\n",
    "converge_counts = np.asarray(counts)\n",
    "converge_vals = np.asarray(values)\n",
    "\n",
    "print(\"\\rOptimization complete\");"
   ],
   "metadata": {
    "collapsed": false,
    "ExecuteTime": {
     "start_time": "2023-04-24T17:21:19.261073Z",
     "end_time": "2023-04-24T17:21:48.882380Z"
    },
    "pycharm": {
     "is_executing": true
    }
   }
  },
  {
   "cell_type": "code",
   "execution_count": null,
   "outputs": [],
   "source": [
    "# Outputting the optimization process\n",
    "import pylab\n",
    "\n",
    "pylab.rcParams[\"figure.figsize\"] = (12, 8)\n",
    "pylab.plot(converge_counts, converge_vals, label=type(optimizer).__name__)\n",
    "pylab.xlabel(\"Eval count\")\n",
    "pylab.ylabel(\"Energy\")\n",
    "pylab.title(\"Energy convergence for various optimizers\")\n",
    "pylab.legend(loc=\"upper right\");"
   ],
   "metadata": {
    "collapsed": false,
    "ExecuteTime": {
     "start_time": "2023-04-24T17:14:08.407966Z",
     "end_time": "2023-04-24T17:14:08.648560Z"
    }
   }
  },
  {
   "cell_type": "code",
   "execution_count": null,
   "outputs": [],
   "source": [
    "# Analytic solution\n",
    "from qiskit.algorithms.minimum_eigensolvers import NumPyMinimumEigensolver\n",
    "from qiskit.opflow import PauliSumOp\n",
    "\n",
    "numpy_solver = NumPyMinimumEigensolver()\n",
    "result = numpy_solver.compute_minimum_eigenvalue(operator=PauliSumOp(H2_op))\n",
    "ref_value = result.eigenvalue.real\n",
    "print(f\"Reference value: {ref_value:.5f}\")"
   ],
   "metadata": {
    "collapsed": false,
    "ExecuteTime": {
     "start_time": "2023-04-24T17:14:11.150703Z",
     "end_time": "2023-04-24T17:14:11.165653Z"
    }
   }
  }
 ],
 "metadata": {
  "kernelspec": {
   "display_name": "Python 3",
   "language": "python",
   "name": "python3"
  },
  "language_info": {
   "codemirror_mode": {
    "name": "ipython",
    "version": 2
   },
   "file_extension": ".py",
   "mimetype": "text/x-python",
   "name": "python",
   "nbconvert_exporter": "python",
   "pygments_lexer": "ipython2",
   "version": "2.7.6"
  }
 },
 "nbformat": 4,
 "nbformat_minor": 0
}
