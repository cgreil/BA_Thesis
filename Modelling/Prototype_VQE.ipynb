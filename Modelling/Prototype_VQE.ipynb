{
 "cells": [
  {
   "cell_type": "markdown",
   "source": [
    "# VQE Prototype\n",
    "A simple example for a VQE utilizing the full qiskit library and a simple test hamiltonian following <a href = https://github.com/DavitKhach/quantum-algorithms-tutorials/blob/master/variational_quantum_eigensolver.ipynb>this tutorial</a>.\n",
    ". The Hamiltonian will be described as the Pauli string\n",
    "$$H = 0.6 * IX + 0.8 * IZ + 0.2 * XY $$\n",
    "where the multiplication without any symol in between denotes the Kronecker Product."
   ],
   "metadata": {
    "collapsed": false
   }
  },
  {
   "cell_type": "markdown",
   "source": [
    "System Settings: Since Qiskit Aqua has been deprecated, this example may not run on the newest versions of python and qiskit. This example was created using python 3.9 and qiskit 0.31. Newer versions may not be compatible."
   ],
   "metadata": {
    "collapsed": false
   }
  },
  {
   "cell_type": "markdown",
   "source": [],
   "metadata": {
    "collapsed": false
   }
  },
  {
   "cell_type": "code",
   "execution_count": 14,
   "outputs": [],
   "source": [
    "# Imports\n",
    "import numpy as np\n",
    "from random import random\n",
    "from scipy.optimize import minimize\n",
    "\n",
    "\n",
    "from qiskit import *\n",
    "from qiskit.circuit.library.standard_gates import U2Gate\n",
    "from qiskit.aqua.operators import WeightedPauliOperator\n",
    "from qiskit.aqua.algorithms import NumPyEigensolver"
   ],
   "metadata": {
    "collapsed": false,
    "ExecuteTime": {
     "start_time": "2023-04-05T11:43:59.664362Z",
     "end_time": "2023-04-05T11:43:59.705868Z"
    }
   }
  },
  {
   "cell_type": "code",
   "execution_count": 2,
   "outputs": [],
   "source": [
    "def hamiltonian_operator(a, b, c):\n",
    "    \"\"\"\n",
    "    Creates a*I + b*Z + c*X + d*Y pauli sum\n",
    "    that will be our Hamiltonian operator.\n",
    "\n",
    "    \"\"\"\n",
    "    # the tensor product is specified by the string concatenation of the pauli labels\n",
    "    # coefficients are then additionally added\n",
    "\n",
    "    pauli_dict = {\n",
    "        'paulis': [{\"coeff\": {\"imag\": 0.0, \"real\": a}, \"label\": \"IX\"},\n",
    "                   {\"coeff\": {\"imag\": 0.0, \"real\": b}, \"label\": \"IZ\"},\n",
    "                   {\"coeff\": {\"imag\": 0.0, \"real\": c}, \"label\": \"XY\"},\n",
    "                   ]\n",
    "    }\n",
    "    return WeightedPauliOperator.from_dict(pauli_dict)"
   ],
   "metadata": {
    "collapsed": false,
    "ExecuteTime": {
     "start_time": "2023-04-05T10:59:53.064927Z",
     "end_time": "2023-04-05T10:59:53.067803Z"
    }
   }
  },
  {
   "cell_type": "code",
   "execution_count": 3,
   "outputs": [
    {
     "name": "stderr",
     "output_type": "stream",
     "text": [
      "/home/christoph/anaconda3/envs/qc/lib/python3.9/site-packages/qiskit/aqua/operators/legacy/weighted_pauli_operator.py:582: DeprecationWarning: The package qiskit.aqua.operators is deprecated. It was moved/refactored to qiskit.opflow (pip install qiskit-terra). For more information see <https://github.com/Qiskit/qiskit-aqua/blob/main/README.md#migration-guide>\n",
      "  return cls(paulis=paulis)\n"
     ]
    }
   ],
   "source": [
    "# coefficient definition\n",
    "a = 0.6\n",
    "b = 0.8\n",
    "c = 0.2\n",
    "\n",
    "H = hamiltonian_operator(a, b, c)"
   ],
   "metadata": {
    "collapsed": false,
    "ExecuteTime": {
     "start_time": "2023-04-05T10:59:53.070567Z",
     "end_time": "2023-04-05T10:59:53.075812Z"
    }
   }
  },
  {
   "cell_type": "code",
   "execution_count": 4,
   "outputs": [
    {
     "name": "stdout",
     "output_type": "stream",
     "text": [
      "Representation: paulis, qubits: 2, size: 3\n"
     ]
    }
   ],
   "source": [
    "#confirm that H is indeed acting on two qubits\n",
    "print(H)"
   ],
   "metadata": {
    "collapsed": false,
    "ExecuteTime": {
     "start_time": "2023-04-05T10:59:53.076207Z",
     "end_time": "2023-04-05T10:59:53.080907Z"
    }
   }
  },
  {
   "cell_type": "code",
   "execution_count": 5,
   "outputs": [
    {
     "name": "stdout",
     "output_type": "stream",
     "text": [
      "The exact ground state energy is: -1.0198039027185573\n"
     ]
    },
    {
     "name": "stderr",
     "output_type": "stream",
     "text": [
      "/home/christoph/anaconda3/envs/qc/lib/python3.9/site-packages/qiskit/aqua/algorithms/eigen_solvers/eigen_solver.py:36: DeprecationWarning: The package qiskit.aqua.algorithms.eigen_solvers is deprecated. It was moved/refactored to qiskit.algorithms.eigen_solvers (pip install qiskit-terra). For more information see <https://github.com/Qiskit/qiskit-aqua/blob/main/README.md#migration-guide>\n",
      "  warn_package('aqua.algorithms.eigen_solvers',\n"
     ]
    }
   ],
   "source": [
    "# use numpy eigensolver to exactly determine the eigenstates of the hamiltonion\n",
    "# note that there is no quantum speedup in this\n",
    "exact_result = NumPyEigensolver(H).run()\n",
    "reference_energy = min(np.real(exact_result.eigenvalues))\n",
    "print('The exact ground state energy is: {}'.format(reference_energy))"
   ],
   "metadata": {
    "collapsed": false,
    "ExecuteTime": {
     "start_time": "2023-04-05T10:59:53.083521Z",
     "end_time": "2023-04-05T10:59:53.144260Z"
    }
   }
  },
  {
   "cell_type": "markdown",
   "source": [
    "The energy is negative as it is a bound energy state."
   ],
   "metadata": {
    "collapsed": false
   }
  },
  {
   "cell_type": "markdown",
   "source": [
    "## Creating the Ansatz state:\n",
    "As Ansatz state, we start with the method proposed by the tutorial, i.e. in performing two rotations Rx, Ry onto each of our qubits, specified by parameters t1 - t4. It can easily be shown on the Bloch sphere that two rotations about different axes are universal i.e. each possible state on the Bloch sphere can be reached.\n",
    "\n",
    "Later this will be changed in favour of the k-UCC Ansatz state."
   ],
   "metadata": {
    "collapsed": false
   }
  },
  {
   "cell_type": "code",
   "execution_count": 22,
   "outputs": [],
   "source": [
    "# creates a circuit doing the preparation on an initial qubit in the |0> state\n",
    "def universal_prep_state(circuit, params):\n",
    "\n",
    "    assert(len(params) == 4)\n",
    "    q1 = circuit.qubits[0]\n",
    "    q2 = circuit.qubits[1]\n",
    "\n",
    "    # rotations on first qubit\n",
    "    circuit.rx(params[0], q1)\n",
    "    circuit.ry(params[1], q1)\n",
    "\n",
    "    # rotations on second qubit\n",
    "    circuit.rx(params[2], q2)\n",
    "    circuit.ry(params[3], q2)"
   ],
   "metadata": {
    "collapsed": false,
    "ExecuteTime": {
     "start_time": "2023-04-05T11:47:56.266833Z",
     "end_time": "2023-04-05T11:47:56.310616Z"
    }
   }
  },
  {
   "cell_type": "markdown",
   "source": [
    "## Creating the circuit"
   ],
   "metadata": {
    "collapsed": false
   }
  },
  {
   "cell_type": "code",
   "execution_count": 17,
   "outputs": [],
   "source": [
    "def vqe_circuit(parameters, measure):\n",
    "    \"\"\"\n",
    "    Creates a device ansatz circuit for optimization.\n",
    "    :param parameters_array: list of parameters for constructing ansatz state that should be optimized.\n",
    "    :param measure: measurement type. E.g. 'Z' stands for Z measurement.\n",
    "    :return: quantum circuit.\n",
    "    \"\"\"\n",
    "    q1 = QuantumRegister(1)\n",
    "    q2 = QuantumRegister(2)\n",
    "    c = ClassicalRegister(1)\n",
    "    circuit = QuantumCircuit(q1, q2, c)\n",
    "\n",
    "    # quantum state preparation\n",
    "    circuit = universal_prep_state(circuit, parameters)\n",
    "\n",
    "    # measurement in differing basis\n",
    "    if measure == 'Z':\n",
    "        circuit.measure(q1[0], q2[0], c[0])\n",
    "    elif measure == 'X':\n",
    "        circuit.u2(0, np.pi, q1[0])\n",
    "        circuit.u2(0, np.pi, q2[0])\n",
    "        circuit.measure(q1[0], q2[0], c[0])\n",
    "\n",
    "    elif measure == 'Y':\n",
    "        circuit.u2(0, np.pi/2, q1[0])\n",
    "        circuit.u2(0, np.pi/2, q2[0])\n",
    "        circuit.measure(q1[0], q2[0], c[0])\n",
    "    else:\n",
    "        raise ValueError('Not valid input for measurement: input should be \"X\" or \"Y\" or \"Z\"')\n",
    "\n",
    "    return circuit\n"
   ],
   "metadata": {
    "collapsed": false,
    "ExecuteTime": {
     "start_time": "2023-04-05T11:45:25.423295Z",
     "end_time": "2023-04-05T11:45:25.465965Z"
    }
   }
  },
  {
   "cell_type": "code",
   "execution_count": 8,
   "outputs": [],
   "source": [
    "# quantum module is the function governing the vqe measurements on top of the circuit creation\n",
    "def quantum_module(parameters, measure):\n",
    "    # measure\n",
    "    if measure == 'I':\n",
    "        return 1\n",
    "    elif measure == 'Z':\n",
    "        circuit = vqe_circuit(parameters, 'Z')\n",
    "    elif measure == 'X':\n",
    "        circuit = vqe_circuit(parameters, 'X')\n",
    "    elif measure == 'Y':\n",
    "        circuit = vqe_circuit(parameters, 'Y')\n",
    "    else:\n",
    "        raise ValueError('Not valid input for measurement: input should be \"I\" or \"X\" or \"Z\" or \"Y\"')\n",
    "\n",
    "    # many iterations\n",
    "    shots = 8192\n",
    "    # execute simulation\n",
    "    backend = BasicAer.get_backend('qasm_simulator')\n",
    "    job = execute(circuit, backend, shots=shots)\n",
    "    result = job.result()\n",
    "    counts = result.get_counts()\n",
    "\n",
    "    # expectation value estimation from counts\n",
    "    expectation_value = 0\n",
    "    for measure_result in counts:\n",
    "        sign = +1\n",
    "        if measure_result == '1':\n",
    "            sign = -1\n",
    "        expectation_value += sign * counts[measure_result] / shots\n",
    "\n",
    "    return expectation_value"
   ],
   "metadata": {
    "collapsed": false,
    "ExecuteTime": {
     "start_time": "2023-04-05T11:31:59.561498Z",
     "end_time": "2023-04-05T11:31:59.601980Z"
    }
   }
  },
  {
   "cell_type": "code",
   "execution_count": 9,
   "outputs": [],
   "source": [
    "def pauli_operator_to_dict(pauli_operator):\n",
    "    \"\"\"\n",
    "    from WeightedPauliOperator return a dict storing the respective weights\n",
    "    :param pauli_operator: qiskit's WeightedPauliOperator\n",
    "    :return: a dict in the desired form.\n",
    "    \"\"\"\n",
    "    d = pauli_operator.to_dict()\n",
    "    paulis = d['paulis']\n",
    "    paulis_dict = {}\n",
    "\n",
    "    for x in paulis:\n",
    "        label = x['label']\n",
    "        coeff = x['coeff']['real']\n",
    "        paulis_dict[label] = coeff\n",
    "\n",
    "    return paulis_dict\n",
    "\n",
    "# create the necessary Hamiltonian decomposition\n",
    "pauli_dict = pauli_operator_to_dict(H)\n",
    "\n"
   ],
   "metadata": {
    "collapsed": false,
    "ExecuteTime": {
     "start_time": "2023-04-05T11:34:01.393587Z",
     "end_time": "2023-04-05T11:34:01.434080Z"
    }
   }
  },
  {
   "cell_type": "code",
   "execution_count": 11,
   "outputs": [
    {
     "name": "stdout",
     "output_type": "stream",
     "text": [
      "{'IX': 0.6, 'IZ': 0.8, 'XY': 0.2}\n"
     ]
    }
   ],
   "source": [
    "# confirm that everything went right\n",
    "print(pauli_dict)"
   ],
   "metadata": {
    "collapsed": false,
    "ExecuteTime": {
     "start_time": "2023-04-05T11:36:24.135530Z",
     "end_time": "2023-04-05T11:36:24.178771Z"
    }
   }
  },
  {
   "cell_type": "code",
   "execution_count": 19,
   "outputs": [],
   "source": [
    "def vqe(parameters):\n",
    "\n",
    "    # quantum_modules for each of the measurements and then add the results\n",
    "    # multiply weight by the expectation values of the decomposed circuits to\n",
    "    # get the correct result for the whole Hamiltonian\n",
    "    quantum_module_I = pauli_dict['IX'] * quantum_module(parameters, 'I')\n",
    "    quantum_module_Z = pauli_dict['IZ'] * quantum_module(parameters, 'Z')\n",
    "    quantum_module_X = pauli_dict['XY'] * quantum_module(parameters, 'X')\n",
    "\n",
    "    # summing the measurement results\n",
    "    classical_adder = quantum_module_I + quantum_module_Z + quantum_module_X\n",
    "\n",
    "    return classical_adder"
   ],
   "metadata": {
    "collapsed": false,
    "ExecuteTime": {
     "start_time": "2023-04-05T11:46:24.816363Z",
     "end_time": "2023-04-05T11:46:24.854778Z"
    }
   }
  },
  {
   "cell_type": "code",
   "execution_count": 23,
   "outputs": [
    {
     "ename": "AttributeError",
     "evalue": "'NoneType' object has no attribute 'measure'",
     "output_type": "error",
     "traceback": [
      "\u001B[0;31m---------------------------------------------------------------------------\u001B[0m",
      "\u001B[0;31mAttributeError\u001B[0m                            Traceback (most recent call last)",
      "Cell \u001B[0;32mIn[23], line 4\u001B[0m\n\u001B[1;32m      1\u001B[0m parameters_array \u001B[38;5;241m=\u001B[39m np\u001B[38;5;241m.\u001B[39marray([np\u001B[38;5;241m.\u001B[39mpi, np\u001B[38;5;241m.\u001B[39mpi, np\u001B[38;5;241m.\u001B[39mpi, np\u001B[38;5;241m.\u001B[39mpi])\n\u001B[1;32m      2\u001B[0m tol \u001B[38;5;241m=\u001B[39m \u001B[38;5;241m1e-3\u001B[39m \u001B[38;5;66;03m# tolerance for optimization precision.\u001B[39;00m\n\u001B[0;32m----> 4\u001B[0m vqe_result \u001B[38;5;241m=\u001B[39m \u001B[43mminimize\u001B[49m\u001B[43m(\u001B[49m\u001B[43mvqe\u001B[49m\u001B[43m,\u001B[49m\u001B[43m \u001B[49m\u001B[43mparameters_array\u001B[49m\u001B[43m,\u001B[49m\u001B[43m \u001B[49m\u001B[43mmethod\u001B[49m\u001B[38;5;241;43m=\u001B[39;49m\u001B[38;5;124;43m\"\u001B[39;49m\u001B[38;5;124;43mPowell\u001B[39;49m\u001B[38;5;124;43m\"\u001B[39;49m\u001B[43m,\u001B[49m\u001B[43m \u001B[49m\u001B[43mtol\u001B[49m\u001B[38;5;241;43m=\u001B[39;49m\u001B[43mtol\u001B[49m\u001B[43m)\u001B[49m\n\u001B[1;32m      5\u001B[0m \u001B[38;5;28mprint\u001B[39m(\u001B[38;5;124m'\u001B[39m\u001B[38;5;124mThe exact ground state energy is: \u001B[39m\u001B[38;5;132;01m{}\u001B[39;00m\u001B[38;5;124m'\u001B[39m\u001B[38;5;241m.\u001B[39mformat(reference_energy))\n\u001B[1;32m      6\u001B[0m \u001B[38;5;28mprint\u001B[39m(\u001B[38;5;124m'\u001B[39m\u001B[38;5;124mThe estimated ground state energy from VQE algorithm is: \u001B[39m\u001B[38;5;132;01m{}\u001B[39;00m\u001B[38;5;124m'\u001B[39m\u001B[38;5;241m.\u001B[39mformat(vqe_result\u001B[38;5;241m.\u001B[39mfun))\n",
      "File \u001B[0;32m~/anaconda3/envs/qc/lib/python3.9/site-packages/scipy/optimize/_minimize.py:687\u001B[0m, in \u001B[0;36mminimize\u001B[0;34m(fun, x0, args, method, jac, hess, hessp, bounds, constraints, tol, callback, options)\u001B[0m\n\u001B[1;32m    684\u001B[0m     res \u001B[38;5;241m=\u001B[39m _minimize_neldermead(fun, x0, args, callback, bounds\u001B[38;5;241m=\u001B[39mbounds,\n\u001B[1;32m    685\u001B[0m                                \u001B[38;5;241m*\u001B[39m\u001B[38;5;241m*\u001B[39moptions)\n\u001B[1;32m    686\u001B[0m \u001B[38;5;28;01melif\u001B[39;00m meth \u001B[38;5;241m==\u001B[39m \u001B[38;5;124m'\u001B[39m\u001B[38;5;124mpowell\u001B[39m\u001B[38;5;124m'\u001B[39m:\n\u001B[0;32m--> 687\u001B[0m     res \u001B[38;5;241m=\u001B[39m \u001B[43m_minimize_powell\u001B[49m\u001B[43m(\u001B[49m\u001B[43mfun\u001B[49m\u001B[43m,\u001B[49m\u001B[43m \u001B[49m\u001B[43mx0\u001B[49m\u001B[43m,\u001B[49m\u001B[43m \u001B[49m\u001B[43margs\u001B[49m\u001B[43m,\u001B[49m\u001B[43m \u001B[49m\u001B[43mcallback\u001B[49m\u001B[43m,\u001B[49m\u001B[43m \u001B[49m\u001B[43mbounds\u001B[49m\u001B[43m,\u001B[49m\u001B[43m \u001B[49m\u001B[38;5;241;43m*\u001B[39;49m\u001B[38;5;241;43m*\u001B[39;49m\u001B[43moptions\u001B[49m\u001B[43m)\u001B[49m\n\u001B[1;32m    688\u001B[0m \u001B[38;5;28;01melif\u001B[39;00m meth \u001B[38;5;241m==\u001B[39m \u001B[38;5;124m'\u001B[39m\u001B[38;5;124mcg\u001B[39m\u001B[38;5;124m'\u001B[39m:\n\u001B[1;32m    689\u001B[0m     res \u001B[38;5;241m=\u001B[39m _minimize_cg(fun, x0, args, jac, callback, \u001B[38;5;241m*\u001B[39m\u001B[38;5;241m*\u001B[39moptions)\n",
      "File \u001B[0;32m~/anaconda3/envs/qc/lib/python3.9/site-packages/scipy/optimize/_optimize.py:3335\u001B[0m, in \u001B[0;36m_minimize_powell\u001B[0;34m(func, x0, args, callback, bounds, xtol, ftol, maxiter, maxfev, disp, direc, return_all, **unknown_options)\u001B[0m\n\u001B[1;32m   3331\u001B[0m     \u001B[38;5;28;01mif\u001B[39;00m np\u001B[38;5;241m.\u001B[39many(lower_bound \u001B[38;5;241m>\u001B[39m x0) \u001B[38;5;129;01mor\u001B[39;00m np\u001B[38;5;241m.\u001B[39many(x0 \u001B[38;5;241m>\u001B[39m upper_bound):\n\u001B[1;32m   3332\u001B[0m         warnings\u001B[38;5;241m.\u001B[39mwarn(\u001B[38;5;124m\"\u001B[39m\u001B[38;5;124mInitial guess is not within the specified bounds\u001B[39m\u001B[38;5;124m\"\u001B[39m,\n\u001B[1;32m   3333\u001B[0m                       OptimizeWarning, \u001B[38;5;241m3\u001B[39m)\n\u001B[0;32m-> 3335\u001B[0m fval \u001B[38;5;241m=\u001B[39m squeeze(\u001B[43mfunc\u001B[49m\u001B[43m(\u001B[49m\u001B[43mx\u001B[49m\u001B[43m)\u001B[49m)\n\u001B[1;32m   3336\u001B[0m x1 \u001B[38;5;241m=\u001B[39m x\u001B[38;5;241m.\u001B[39mcopy()\n\u001B[1;32m   3337\u001B[0m \u001B[38;5;28miter\u001B[39m \u001B[38;5;241m=\u001B[39m \u001B[38;5;241m0\u001B[39m\n",
      "File \u001B[0;32m~/anaconda3/envs/qc/lib/python3.9/site-packages/scipy/optimize/_optimize.py:569\u001B[0m, in \u001B[0;36m_wrap_scalar_function_maxfun_validation.<locals>.function_wrapper\u001B[0;34m(x, *wrapper_args)\u001B[0m\n\u001B[1;32m    567\u001B[0m ncalls[\u001B[38;5;241m0\u001B[39m] \u001B[38;5;241m+\u001B[39m\u001B[38;5;241m=\u001B[39m \u001B[38;5;241m1\u001B[39m\n\u001B[1;32m    568\u001B[0m \u001B[38;5;66;03m# A copy of x is sent to the user function (gh13740)\u001B[39;00m\n\u001B[0;32m--> 569\u001B[0m fx \u001B[38;5;241m=\u001B[39m \u001B[43mfunction\u001B[49m\u001B[43m(\u001B[49m\u001B[43mnp\u001B[49m\u001B[38;5;241;43m.\u001B[39;49m\u001B[43mcopy\u001B[49m\u001B[43m(\u001B[49m\u001B[43mx\u001B[49m\u001B[43m)\u001B[49m\u001B[43m,\u001B[49m\u001B[43m \u001B[49m\u001B[38;5;241;43m*\u001B[39;49m\u001B[43m(\u001B[49m\u001B[43mwrapper_args\u001B[49m\u001B[43m \u001B[49m\u001B[38;5;241;43m+\u001B[39;49m\u001B[43m \u001B[49m\u001B[43margs\u001B[49m\u001B[43m)\u001B[49m\u001B[43m)\u001B[49m\n\u001B[1;32m    570\u001B[0m \u001B[38;5;66;03m# Ideally, we'd like to a have a true scalar returned from f(x). For\u001B[39;00m\n\u001B[1;32m    571\u001B[0m \u001B[38;5;66;03m# backwards-compatibility, also allow np.array([1.3]),\u001B[39;00m\n\u001B[1;32m    572\u001B[0m \u001B[38;5;66;03m# np.array([[1.3]]) etc.\u001B[39;00m\n\u001B[1;32m    573\u001B[0m \u001B[38;5;28;01mif\u001B[39;00m \u001B[38;5;129;01mnot\u001B[39;00m np\u001B[38;5;241m.\u001B[39misscalar(fx):\n",
      "Cell \u001B[0;32mIn[19], line 7\u001B[0m, in \u001B[0;36mvqe\u001B[0;34m(parameters)\u001B[0m\n\u001B[1;32m      1\u001B[0m \u001B[38;5;28;01mdef\u001B[39;00m \u001B[38;5;21mvqe\u001B[39m(parameters):\n\u001B[1;32m      2\u001B[0m \n\u001B[1;32m      3\u001B[0m     \u001B[38;5;66;03m# quantum_modules for each of the measurements and then add the results\u001B[39;00m\n\u001B[1;32m      4\u001B[0m     \u001B[38;5;66;03m# multiply weight by the expectation values of the decomposed circuits to\u001B[39;00m\n\u001B[1;32m      5\u001B[0m     \u001B[38;5;66;03m# get the correct result for the whole Hamiltonian\u001B[39;00m\n\u001B[1;32m      6\u001B[0m     quantum_module_I \u001B[38;5;241m=\u001B[39m pauli_dict[\u001B[38;5;124m'\u001B[39m\u001B[38;5;124mIX\u001B[39m\u001B[38;5;124m'\u001B[39m] \u001B[38;5;241m*\u001B[39m quantum_module(parameters, \u001B[38;5;124m'\u001B[39m\u001B[38;5;124mI\u001B[39m\u001B[38;5;124m'\u001B[39m)\n\u001B[0;32m----> 7\u001B[0m     quantum_module_Z \u001B[38;5;241m=\u001B[39m pauli_dict[\u001B[38;5;124m'\u001B[39m\u001B[38;5;124mIZ\u001B[39m\u001B[38;5;124m'\u001B[39m] \u001B[38;5;241m*\u001B[39m \u001B[43mquantum_module\u001B[49m\u001B[43m(\u001B[49m\u001B[43mparameters\u001B[49m\u001B[43m,\u001B[49m\u001B[43m \u001B[49m\u001B[38;5;124;43m'\u001B[39;49m\u001B[38;5;124;43mZ\u001B[39;49m\u001B[38;5;124;43m'\u001B[39;49m\u001B[43m)\u001B[49m\n\u001B[1;32m      8\u001B[0m     quantum_module_X \u001B[38;5;241m=\u001B[39m pauli_dict[\u001B[38;5;124m'\u001B[39m\u001B[38;5;124mXY\u001B[39m\u001B[38;5;124m'\u001B[39m] \u001B[38;5;241m*\u001B[39m quantum_module(parameters, \u001B[38;5;124m'\u001B[39m\u001B[38;5;124mX\u001B[39m\u001B[38;5;124m'\u001B[39m)\n\u001B[1;32m     10\u001B[0m     \u001B[38;5;66;03m# summing the measurement results\u001B[39;00m\n",
      "Cell \u001B[0;32mIn[8], line 7\u001B[0m, in \u001B[0;36mquantum_module\u001B[0;34m(parameters, measure)\u001B[0m\n\u001B[1;32m      5\u001B[0m     \u001B[38;5;28;01mreturn\u001B[39;00m \u001B[38;5;241m1\u001B[39m\n\u001B[1;32m      6\u001B[0m \u001B[38;5;28;01melif\u001B[39;00m measure \u001B[38;5;241m==\u001B[39m \u001B[38;5;124m'\u001B[39m\u001B[38;5;124mZ\u001B[39m\u001B[38;5;124m'\u001B[39m:\n\u001B[0;32m----> 7\u001B[0m     circuit \u001B[38;5;241m=\u001B[39m \u001B[43mvqe_circuit\u001B[49m\u001B[43m(\u001B[49m\u001B[43mparameters\u001B[49m\u001B[43m,\u001B[49m\u001B[43m \u001B[49m\u001B[38;5;124;43m'\u001B[39;49m\u001B[38;5;124;43mZ\u001B[39;49m\u001B[38;5;124;43m'\u001B[39;49m\u001B[43m)\u001B[49m\n\u001B[1;32m      8\u001B[0m \u001B[38;5;28;01melif\u001B[39;00m measure \u001B[38;5;241m==\u001B[39m \u001B[38;5;124m'\u001B[39m\u001B[38;5;124mX\u001B[39m\u001B[38;5;124m'\u001B[39m:\n\u001B[1;32m      9\u001B[0m     circuit \u001B[38;5;241m=\u001B[39m vqe_circuit(parameters, \u001B[38;5;124m'\u001B[39m\u001B[38;5;124mX\u001B[39m\u001B[38;5;124m'\u001B[39m)\n",
      "Cell \u001B[0;32mIn[17], line 18\u001B[0m, in \u001B[0;36mvqe_circuit\u001B[0;34m(parameters, measure)\u001B[0m\n\u001B[1;32m     16\u001B[0m \u001B[38;5;66;03m# measurement in differing basis\u001B[39;00m\n\u001B[1;32m     17\u001B[0m \u001B[38;5;28;01mif\u001B[39;00m measure \u001B[38;5;241m==\u001B[39m \u001B[38;5;124m'\u001B[39m\u001B[38;5;124mZ\u001B[39m\u001B[38;5;124m'\u001B[39m:\n\u001B[0;32m---> 18\u001B[0m     \u001B[43mcircuit\u001B[49m\u001B[38;5;241;43m.\u001B[39;49m\u001B[43mmeasure\u001B[49m(q1[\u001B[38;5;241m0\u001B[39m], q2[\u001B[38;5;241m0\u001B[39m], c[\u001B[38;5;241m0\u001B[39m])\n\u001B[1;32m     19\u001B[0m \u001B[38;5;28;01melif\u001B[39;00m measure \u001B[38;5;241m==\u001B[39m \u001B[38;5;124m'\u001B[39m\u001B[38;5;124mX\u001B[39m\u001B[38;5;124m'\u001B[39m:\n\u001B[1;32m     20\u001B[0m     circuit\u001B[38;5;241m.\u001B[39mu2(\u001B[38;5;241m0\u001B[39m, np\u001B[38;5;241m.\u001B[39mpi, q1[\u001B[38;5;241m0\u001B[39m])\n",
      "\u001B[0;31mAttributeError\u001B[0m: 'NoneType' object has no attribute 'measure'"
     ]
    }
   ],
   "source": [
    "\n",
    "parameters_array = np.array([np.pi, np.pi, np.pi, np.pi])\n",
    "tol = 1e-3 # tolerance for optimization precision.\n",
    "\n",
    "vqe_result = minimize(vqe, parameters_array, method=\"Powell\", tol=tol)\n",
    "print('The exact ground state energy is: {}'.format(reference_energy))\n",
    "print('The estimated ground state energy from VQE algorithm is: {}'.format(vqe_result.fun))\n",
    "\n"
   ],
   "metadata": {
    "collapsed": false
   }
  }
 ],
 "metadata": {
  "kernelspec": {
   "display_name": "Python 3",
   "language": "python",
   "name": "python3"
  },
  "language_info": {
   "codemirror_mode": {
    "name": "ipython",
    "version": 2
   },
   "file_extension": ".py",
   "mimetype": "text/x-python",
   "name": "python",
   "nbconvert_exporter": "python",
   "pygments_lexer": "ipython2",
   "version": "2.7.6"
  }
 },
 "nbformat": 4,
 "nbformat_minor": 0
}
