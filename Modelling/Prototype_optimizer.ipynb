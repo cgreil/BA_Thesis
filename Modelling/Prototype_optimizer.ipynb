{
 "cells": [
  {
   "cell_type": "code",
   "execution_count": 26,
   "metadata": {
    "collapsed": true,
    "ExecuteTime": {
     "start_time": "2023-04-14T15:43:04.381657Z",
     "end_time": "2023-04-14T15:43:04.422655Z"
    }
   },
   "outputs": [],
   "source": [
    "from qiskit.algorithms.optimizers import GradientDescent\n",
    "from qiskit.quantum_info import SparsePauliOp, Statevector\n",
    "from qiskit.opflow import PauliSumOp\n",
    "from qiskit.opflow.gradients import *\n",
    "from qiskit import QuantumRegister, QuantumCircuit\n",
    "from qiskit.circuit import Instruction\n",
    "\n",
    "import numpy as np"
   ]
  },
  {
   "cell_type": "markdown",
   "source": [
    "## Operator Preparation\n",
    "Prepares a small simple hamiltonian"
   ],
   "metadata": {
    "collapsed": false
   }
  },
  {
   "cell_type": "code",
   "execution_count": 16,
   "outputs": [],
   "source": [
    "random_coeffs = np.random.random(6)\n",
    "sparse_op = SparsePauliOp(['III', 'ZII', 'III', 'IZI', 'III', 'IIZ'], coeffs=random_coeffs)\n",
    "test_hamilt = PauliSumOp(sparse_op)"
   ],
   "metadata": {
    "collapsed": false,
    "ExecuteTime": {
     "start_time": "2023-04-14T15:26:08.478211Z",
     "end_time": "2023-04-14T15:26:08.481421Z"
    }
   }
  },
  {
   "cell_type": "markdown",
   "source": [
    "## Initial state preparation\n",
    "For our initiial state, choose |011>, which can be prepared onto the 0-vector by the operator IXX"
   ],
   "metadata": {
    "collapsed": false
   }
  },
  {
   "cell_type": "code",
   "execution_count": 15,
   "outputs": [],
   "source": [
    "inital_operator = PauliSumOp(SparsePauliOp(['IXX']))"
   ],
   "metadata": {
    "collapsed": false,
    "ExecuteTime": {
     "start_time": "2023-04-14T15:23:24.623789Z",
     "end_time": "2023-04-14T15:23:24.625869Z"
    }
   }
  },
  {
   "cell_type": "markdown",
   "source": [
    "## Measuring the expectation value\n",
    "The expectation value is simply given by <H>, which corresponds to first applying all operators as adjoints, then applying the a Hermitian measurement operator,\n",
    "finally applying the operator again in usual form"
   ],
   "metadata": {
    "collapsed": false
   }
  },
  {
   "cell_type": "markdown",
   "source": [
    "### Test Without Measurement operator"
   ],
   "metadata": {
    "collapsed": false
   }
  },
  {
   "cell_type": "code",
   "execution_count": 33,
   "outputs": [
    {
     "name": "stdout",
     "output_type": "stream",
     "text": [
      "Statevector([0.+0.j, 0.+0.j, 0.+0.j, 1.+0.j, 0.+0.j, 0.+0.j, 0.+0.j,\n",
      "             0.+0.j],\n",
      "            dims=(2, 2, 2))\n"
     ]
    }
   ],
   "source": [
    "sv = Statevector.from_label('000')\n",
    "\n",
    "# U_dagger\n",
    "sv.evolve(inital_operator.adjoint())\n",
    "# V_dagger\n",
    "# sv.evolve(test_hamilt.exp_i().adjoint())\n",
    "# V\n",
    "sv.evolve(test_hamilt.exp_i())\n",
    "# U\n",
    "sv.evolve(inital_operator)\n"
   ],
   "metadata": {
    "collapsed": false,
    "ExecuteTime": {
     "start_time": "2023-04-14T15:52:37.563637Z",
     "end_time": "2023-04-14T15:52:37.606658Z"
    }
   }
  },
  {
   "cell_type": "code",
   "execution_count": null,
   "outputs": [],
   "source": [],
   "metadata": {
    "collapsed": false
   }
  },
  {
   "cell_type": "markdown",
   "source": [
    "## Gradient descent optimization"
   ],
   "metadata": {
    "collapsed": false
   }
  }
 ],
 "metadata": {
  "kernelspec": {
   "display_name": "Python 3",
   "language": "python",
   "name": "python3"
  },
  "language_info": {
   "codemirror_mode": {
    "name": "ipython",
    "version": 2
   },
   "file_extension": ".py",
   "mimetype": "text/x-python",
   "name": "python",
   "nbconvert_exporter": "python",
   "pygments_lexer": "ipython2",
   "version": "2.7.6"
  }
 },
 "nbformat": 4,
 "nbformat_minor": 0
}
