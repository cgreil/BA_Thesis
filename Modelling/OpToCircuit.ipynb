{
 "cells": [
  {
   "cell_type": "markdown",
   "source": [
    "# Prototype - Getting from Operator to Circuit"
   ],
   "metadata": {
    "collapsed": false
   }
  },
  {
   "cell_type": "code",
   "execution_count": 55,
   "metadata": {
    "collapsed": true,
    "ExecuteTime": {
     "start_time": "2023-04-13T18:33:26.372859Z",
     "end_time": "2023-04-13T18:33:26.387646Z"
    }
   },
   "outputs": [],
   "source": [
    "from qiskit.quantum_info import SparsePauliOp\n",
    "from qiskit.opflow import PauliSumOp\n",
    "from qiskit.opflow.evolutions import *\n",
    "from qiskit import QuantumCircuit\n",
    "import numpy as np"
   ]
  },
  {
   "cell_type": "markdown",
   "source": [
    "Testing the interface between operators and circuits"
   ],
   "metadata": {
    "collapsed": false
   }
  },
  {
   "cell_type": "code",
   "execution_count": 56,
   "outputs": [],
   "source": [
    "random_coeffs = np.random.random(6)\n",
    "test_operator = SparsePauliOp(['III', 'ZII', 'III', 'IZI', 'III', 'IIZ'], coeffs=random_coeffs)"
   ],
   "metadata": {
    "collapsed": false,
    "ExecuteTime": {
     "start_time": "2023-04-13T18:33:26.376678Z",
     "end_time": "2023-04-13T18:33:26.425141Z"
    }
   }
  },
  {
   "cell_type": "code",
   "execution_count": 57,
   "outputs": [
    {
     "name": "stdout",
     "output_type": "stream",
     "text": [
      "SparsePauliOp(['III', 'ZII', 'III', 'IZI', 'III', 'IIZ'],\n",
      "              coeffs=[0.83070356+0.j, 0.8149361 +0.j, 0.80126008+0.j, 0.1818001 +0.j,\n",
      " 0.09161993+0.j, 0.77942714+0.j])\n"
     ]
    }
   ],
   "source": [
    "print(test_operator)"
   ],
   "metadata": {
    "collapsed": false,
    "ExecuteTime": {
     "start_time": "2023-04-13T18:33:26.424959Z",
     "end_time": "2023-04-13T18:33:26.425806Z"
    }
   }
  },
  {
   "cell_type": "markdown",
   "source": [
    "Convert the Sparse Operator to PauliSumOp"
   ],
   "metadata": {
    "collapsed": false
   }
  },
  {
   "cell_type": "code",
   "execution_count": 58,
   "outputs": [],
   "source": [
    "sum_op = PauliSumOp(test_operator)"
   ],
   "metadata": {
    "collapsed": false,
    "ExecuteTime": {
     "start_time": "2023-04-13T18:33:26.425045Z",
     "end_time": "2023-04-13T18:33:26.426032Z"
    }
   }
  },
  {
   "cell_type": "code",
   "execution_count": 59,
   "outputs": [
    {
     "name": "stdout",
     "output_type": "stream",
     "text": [
      "0.8307035558295168 * III\n",
      "+ 0.8149360960895452 * ZII\n",
      "+ 0.8012600808000887 * III\n",
      "+ 0.18180009510384298 * IZI\n",
      "+ 0.09161992920112039 * III\n",
      "+ 0.7794271370030145 * IIZ\n"
     ]
    }
   ],
   "source": [
    "print(sum_op)"
   ],
   "metadata": {
    "collapsed": false,
    "ExecuteTime": {
     "start_time": "2023-04-13T18:33:26.425111Z",
     "end_time": "2023-04-13T18:33:26.426544Z"
    }
   }
  },
  {
   "cell_type": "markdown",
   "source": [
    "Show the circuit for exponentiation:"
   ],
   "metadata": {
    "collapsed": false
   }
  },
  {
   "cell_type": "code",
   "execution_count": 60,
   "outputs": [
    {
     "data": {
      "text/plain": "3"
     },
     "execution_count": 60,
     "metadata": {},
     "output_type": "execute_result"
    }
   ],
   "source": [
    "circuitop = sum_op.exp_i().to_circuit_op()\n",
    "circuitop.num_qubits"
   ],
   "metadata": {
    "collapsed": false,
    "ExecuteTime": {
     "start_time": "2023-04-13T18:33:26.425340Z",
     "end_time": "2023-04-13T18:33:26.426946Z"
    }
   }
  },
  {
   "cell_type": "code",
   "execution_count": 61,
   "outputs": [],
   "source": [
    "circuit = QuantumCircuit(circuitop.num_qubits)"
   ],
   "metadata": {
    "collapsed": false,
    "ExecuteTime": {
     "start_time": "2023-04-13T18:33:26.425431Z",
     "end_time": "2023-04-13T18:33:26.427108Z"
    }
   }
  },
  {
   "cell_type": "code",
   "execution_count": 62,
   "outputs": [
    {
     "data": {
      "text/plain": "<qiskit.circuit.instructionset.InstructionSet at 0x7f58d7e4f310>"
     },
     "execution_count": 62,
     "metadata": {},
     "output_type": "execute_result"
    }
   ],
   "source": [
    "circuit.unitary(circuitop, qubits = circuit.qubits)"
   ],
   "metadata": {
    "collapsed": false,
    "ExecuteTime": {
     "start_time": "2023-04-13T18:33:26.435437Z",
     "end_time": "2023-04-13T18:33:26.477065Z"
    }
   }
  },
  {
   "cell_type": "code",
   "execution_count": 63,
   "outputs": [
    {
     "data": {
      "text/plain": "     ┌──────────┐\nq_0: ┤0         ├\n     │          │\nq_1: ┤1 Unitary ├\n     │          │\nq_2: ┤2         ├\n     └──────────┘",
      "text/html": "<pre style=\"word-wrap: normal;white-space: pre;background: #fff0;line-height: 1.1;font-family: &quot;Courier New&quot;,Courier,monospace\">     ┌──────────┐\nq_0: ┤0         ├\n     │          │\nq_1: ┤1 Unitary ├\n     │          │\nq_2: ┤2         ├\n     └──────────┘</pre>"
     },
     "execution_count": 63,
     "metadata": {},
     "output_type": "execute_result"
    }
   ],
   "source": [
    "circuit.draw()"
   ],
   "metadata": {
    "collapsed": false,
    "ExecuteTime": {
     "start_time": "2023-04-13T18:33:26.476832Z",
     "end_time": "2023-04-13T18:33:26.477216Z"
    }
   }
  },
  {
   "cell_type": "code",
   "execution_count": 66,
   "outputs": [
    {
     "data": {
      "text/plain": "global phase: 2.3267\n           ┌───────────────┐                                             »\nq_0: ──────┤0              ├────────■────────────────────────────────────»\n           │  circuit-1279 │        │                                    »\nq_1: ──────┤1              ├────────┼─────────────────────────────────■──»\n     ┌─────┴───────────────┴─────┐┌─┴─┐┌───────────────────────────┐┌─┴─┐»\nq_2: ┤ U(0,0,-0.681407444083519) ├┤ X ├┤ U(0,0,-0.187480385568011) ├┤ X ├»\n     └───────────────────────────┘└───┘└───────────────────────────┘└───┘»\n«                                                                        »\n«q_0: ───────────────────────────────■───────────────────────────────────»\n«                                    │                                   »\n«q_1: ───────────────────────────────┼────────────────────────────────■──»\n«     ┌───────────────────────────┐┌─┴─┐┌──────────────────────────┐┌─┴─┐»\n«q_2: ┤ U(0,0,-0.958012301408138) ├┤ X ├┤ U(0,0,-1.10427504831907) ├┤ X ├»\n«     └───────────────────────────┘└───┘└──────────────────────────┘└───┘»\n«     ┌───────────────┐                                                    »\n«q_0: ┤0              ├──■─────────────────────────────────────────────────»\n«     │  circuit-1288 │  │                                                 »\n«q_1: ┤1              ├──┼────────────────────────────────■────────────────»\n«     └─┬────────────┬┘┌─┴─┐┌────────────┐┌────────────┐┌─┴─┐┌────────────┐»\n«q_2: ──┤ U(π/2,0,π) ├─┤ X ├┤ U(π/2,0,π) ├┤ U(π/2,0,π) ├┤ X ├┤ U(π/2,0,π) ├»\n«       └────────────┘ └───┘└────────────┘└────────────┘└───┘└────────────┘»\n«                        ┌───────────────┐                                  »\n«q_0: ────────────────■──┤0              ├───────────────────────────────■──»\n«                     │  │  circuit-1297 │                               │  »\n«q_1: ────────────────┼──┤1              ├───────────────────────────────┼──»\n«     ┌────────────┐┌─┴─┐└─┬────────────┬┘┌───────────────────────────┐┌─┴─┐»\n«q_2: ┤ U(π/2,0,π) ├┤ X ├──┤ U(π/2,0,π) ├─┤ U(0,0,-0.830313017327185) ├┤ X ├»\n«     └────────────┘└───┘  └────────────┘ └───────────────────────────┘└───┘»\n«                                                                        »\n«q_0: ────────────────────────────────────────────────────────────────■──»\n«                                                                     │  »\n«q_1: ───────────────────────────────■────────────────────────────────┼──»\n«     ┌───────────────────────────┐┌─┴─┐┌──────────────────────────┐┌─┴─┐»\n«q_2: ┤ U(0,0,-0.612784025386759) ├┤ X ├┤ U(0,0,-1.38331594122689) ├┤ X ├»\n«     └───────────────────────────┘└───┘└──────────────────────────┘└───┘»\n«                                     ┌───────────────┐\n«q_0: ────────────────────────────────┤0              ├\n«                                     │  circuit-1308 │\n«q_1: ─────────────────────────────■──┤1              ├\n«     ┌─────────────────────────┐┌─┴─┐└───────────────┘\n«q_2: ┤ U(0,0,1.10427504831907) ├┤ X ├─────────────────\n«     └─────────────────────────┘└───┘                 ",
      "text/html": "<pre style=\"word-wrap: normal;white-space: pre;background: #fff0;line-height: 1.1;font-family: &quot;Courier New&quot;,Courier,monospace\">global phase: 2.3267\n           ┌───────────────┐                                             »\nq_0: ──────┤0              ├────────■────────────────────────────────────»\n           │  circuit-1279 │        │                                    »\nq_1: ──────┤1              ├────────┼─────────────────────────────────■──»\n     ┌─────┴───────────────┴─────┐┌─┴─┐┌───────────────────────────┐┌─┴─┐»\nq_2: ┤ U(0,0,-0.681407444083519) ├┤ X ├┤ U(0,0,-0.187480385568011) ├┤ X ├»\n     └───────────────────────────┘└───┘└───────────────────────────┘└───┘»\n«                                                                        »\n«q_0: ───────────────────────────────■───────────────────────────────────»\n«                                    │                                   »\n«q_1: ───────────────────────────────┼────────────────────────────────■──»\n«     ┌───────────────────────────┐┌─┴─┐┌──────────────────────────┐┌─┴─┐»\n«q_2: ┤ U(0,0,-0.958012301408138) ├┤ X ├┤ U(0,0,-1.10427504831907) ├┤ X ├»\n«     └───────────────────────────┘└───┘└──────────────────────────┘└───┘»\n«     ┌───────────────┐                                                    »\n«q_0: ┤0              ├──■─────────────────────────────────────────────────»\n«     │  circuit-1288 │  │                                                 »\n«q_1: ┤1              ├──┼────────────────────────────────■────────────────»\n«     └─┬────────────┬┘┌─┴─┐┌────────────┐┌────────────┐┌─┴─┐┌────────────┐»\n«q_2: ──┤ U(π/2,0,π) ├─┤ X ├┤ U(π/2,0,π) ├┤ U(π/2,0,π) ├┤ X ├┤ U(π/2,0,π) ├»\n«       └────────────┘ └───┘└────────────┘└────────────┘└───┘└────────────┘»\n«                        ┌───────────────┐                                  »\n«q_0: ────────────────■──┤0              ├───────────────────────────────■──»\n«                     │  │  circuit-1297 │                               │  »\n«q_1: ────────────────┼──┤1              ├───────────────────────────────┼──»\n«     ┌────────────┐┌─┴─┐└─┬────────────┬┘┌───────────────────────────┐┌─┴─┐»\n«q_2: ┤ U(π/2,0,π) ├┤ X ├──┤ U(π/2,0,π) ├─┤ U(0,0,-0.830313017327185) ├┤ X ├»\n«     └────────────┘└───┘  └────────────┘ └───────────────────────────┘└───┘»\n«                                                                        »\n«q_0: ────────────────────────────────────────────────────────────────■──»\n«                                                                     │  »\n«q_1: ───────────────────────────────■────────────────────────────────┼──»\n«     ┌───────────────────────────┐┌─┴─┐┌──────────────────────────┐┌─┴─┐»\n«q_2: ┤ U(0,0,-0.612784025386759) ├┤ X ├┤ U(0,0,-1.38331594122689) ├┤ X ├»\n«     └───────────────────────────┘└───┘└──────────────────────────┘└───┘»\n«                                     ┌───────────────┐\n«q_0: ────────────────────────────────┤0              ├\n«                                     │  circuit-1308 │\n«q_1: ─────────────────────────────■──┤1              ├\n«     ┌─────────────────────────┐┌─┴─┐└───────────────┘\n«q_2: ┤ U(0,0,1.10427504831907) ├┤ X ├─────────────────\n«     └─────────────────────────┘└───┘                 </pre>"
     },
     "execution_count": 66,
     "metadata": {},
     "output_type": "execute_result"
    }
   ],
   "source": [
    "circuit.decompose().draw()"
   ],
   "metadata": {
    "collapsed": false,
    "ExecuteTime": {
     "start_time": "2023-04-13T18:33:42.859015Z",
     "end_time": "2023-04-13T18:33:43.048109Z"
    }
   }
  },
  {
   "cell_type": "markdown",
   "source": [
    "## Trotterization approach"
   ],
   "metadata": {
    "collapsed": false
   }
  },
  {
   "cell_type": "code",
   "execution_count": null,
   "outputs": [],
   "source": [
    "print(sum_op)"
   ],
   "metadata": {
    "collapsed": false,
    "ExecuteTime": {
     "start_time": "2023-04-13T18:00:15.368978Z",
     "end_time": "2023-04-13T18:00:15.379119Z"
    }
   }
  },
  {
   "cell_type": "code",
   "execution_count": null,
   "outputs": [],
   "source": [
    "# evolve method invokes trotterization\n",
    "trotter_evol = EvolutionFactory.build(sum_op)"
   ],
   "metadata": {
    "collapsed": false,
    "ExecuteTime": {
     "start_time": "2023-04-13T18:00:15.369033Z",
     "end_time": "2023-04-13T18:00:15.379159Z"
    }
   }
  },
  {
   "cell_type": "code",
   "execution_count": null,
   "outputs": [],
   "source": [
    "trotter_evol."
   ],
   "metadata": {
    "collapsed": false
   }
  }
 ],
 "metadata": {
  "kernelspec": {
   "display_name": "Python 3",
   "language": "python",
   "name": "python3"
  },
  "language_info": {
   "codemirror_mode": {
    "name": "ipython",
    "version": 2
   },
   "file_extension": ".py",
   "mimetype": "text/x-python",
   "name": "python",
   "nbconvert_exporter": "python",
   "pygments_lexer": "ipython2",
   "version": "2.7.6"
  }
 },
 "nbformat": 4,
 "nbformat_minor": 0
}
