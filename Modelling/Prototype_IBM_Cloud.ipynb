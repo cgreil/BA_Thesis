{
 "cells": [
  {
   "cell_type": "markdown",
   "source": [
    "# Prototyping for IBM cloud calculation:"
   ],
   "metadata": {
    "collapsed": false
   }
  },
  {
   "cell_type": "code",
   "execution_count": 1,
   "outputs": [],
   "source": [
    "# Imports\n",
    "from qiskit import QuantumCircuit\n",
    "from qiskit_ibm_runtime import QiskitRuntimeService\n",
    "\n",
    "import API.Keys"
   ],
   "metadata": {
    "collapsed": false,
    "ExecuteTime": {
     "start_time": "2023-04-26T09:33:01.492574Z",
     "end_time": "2023-04-26T09:33:02.055459Z"
    }
   }
  },
  {
   "cell_type": "code",
   "execution_count": 4,
   "outputs": [],
   "source": [
    "# get API key\n",
    "key = API.Keys.IBM_BA_KEY\n",
    "instance = 'Qiskit Sim Runtime BA'\n",
    "service = QiskitRuntimeService(channel=\"ibm_cloud\", token=key, instance=instance)"
   ],
   "metadata": {
    "collapsed": false,
    "ExecuteTime": {
     "start_time": "2023-04-26T09:34:58.039598Z",
     "end_time": "2023-04-26T09:35:00.991151Z"
    }
   }
  },
  {
   "cell_type": "code",
   "execution_count": 5,
   "outputs": [
    {
     "name": "stdout",
     "output_type": "stream",
     "text": [
      "job id: ch4d8tth6nimvav5pnbg\n",
      "Hello, World!\n"
     ]
    }
   ],
   "source": [
    "program_inputs = {'iterations': 1}\n",
    "options = {'backend': \"\"}\n",
    "job = service.run(program_id=\"hello-world\",\n",
    "                  options=options,\n",
    "                  inputs=program_inputs\n",
    "                 )\n",
    "print(f\"job id: {job.job_id()}\")\n",
    "result = job.result()\n",
    "print(result)"
   ],
   "metadata": {
    "collapsed": false,
    "ExecuteTime": {
     "start_time": "2023-04-26T09:36:21.995385Z",
     "end_time": "2023-04-26T09:36:25.344365Z"
    }
   }
  },
  {
   "cell_type": "code",
   "execution_count": null,
   "outputs": [],
   "source": [],
   "metadata": {
    "collapsed": false
   }
  }
 ],
 "metadata": {
  "kernelspec": {
   "display_name": "Python 3",
   "language": "python",
   "name": "python3"
  },
  "language_info": {
   "codemirror_mode": {
    "name": "ipython",
    "version": 2
   },
   "file_extension": ".py",
   "mimetype": "text/x-python",
   "name": "python",
   "nbconvert_exporter": "python",
   "pygments_lexer": "ipython2",
   "version": "2.7.6"
  }
 },
 "nbformat": 4,
 "nbformat_minor": 0
}
