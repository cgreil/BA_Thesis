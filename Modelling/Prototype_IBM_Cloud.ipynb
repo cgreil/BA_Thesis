{
 "cells": [
  {
   "cell_type": "markdown",
   "source": [
    "# Prototyping for IBM cloud calculation:"
   ],
   "metadata": {
    "collapsed": false
   }
  },
  {
   "cell_type": "code",
   "execution_count": 1,
   "outputs": [],
   "source": [
    "# Imports\n",
    "from qiskit import QuantumCircuit\n",
    "from qiskit_ibm_runtime import QiskitRuntimeService\n",
    "\n",
    "import API.Keys"
   ],
   "metadata": {
    "collapsed": false,
    "ExecuteTime": {
     "start_time": "2023-04-25T12:56:42.007489Z",
     "end_time": "2023-04-25T12:56:42.639639Z"
    }
   }
  },
  {
   "cell_type": "code",
   "execution_count": null,
   "outputs": [],
   "source": [
    "# get API key\n",
    "key = API.Keys.IBM_BA_KEY\n",
    "service = QiskitRuntimeService(channel=\"ibm_cloud\", token=key, instance=\"<IBM Cloud CRN>\")"
   ],
   "metadata": {
    "collapsed": false
   }
  },
  {
   "cell_type": "code",
   "execution_count": 2,
   "outputs": [
    {
     "ename": "IBMQAccountCredentialsNotFound",
     "evalue": "'No IBM Quantum Experience credentials found.'",
     "output_type": "error",
     "traceback": [
      "\u001B[0;31m---------------------------------------------------------------------------\u001B[0m",
      "\u001B[0;31mIBMQAccountCredentialsNotFound\u001B[0m            Traceback (most recent call last)",
      "Cell \u001B[0;32mIn[2], line 1\u001B[0m\n\u001B[0;32m----> 1\u001B[0m \u001B[43mIBMQ\u001B[49m\u001B[38;5;241;43m.\u001B[39;49m\u001B[43mload_account\u001B[49m\u001B[43m(\u001B[49m\u001B[43m)\u001B[49m\n",
      "File \u001B[0;32m~/.local/lib/python3.10/site-packages/qiskit/providers/ibmq/ibmqfactory.py:167\u001B[0m, in \u001B[0;36mIBMQFactory.load_account\u001B[0;34m(self)\u001B[0m\n\u001B[1;32m    164\u001B[0m credentials_list \u001B[38;5;241m=\u001B[39m \u001B[38;5;28mlist\u001B[39m(stored_credentials\u001B[38;5;241m.\u001B[39mvalues())\n\u001B[1;32m    166\u001B[0m \u001B[38;5;28;01mif\u001B[39;00m \u001B[38;5;129;01mnot\u001B[39;00m credentials_list:\n\u001B[0;32m--> 167\u001B[0m     \u001B[38;5;28;01mraise\u001B[39;00m IBMQAccountCredentialsNotFound(\n\u001B[1;32m    168\u001B[0m         \u001B[38;5;124m'\u001B[39m\u001B[38;5;124mNo IBM Quantum Experience credentials found.\u001B[39m\u001B[38;5;124m'\u001B[39m)\n\u001B[1;32m    170\u001B[0m \u001B[38;5;28;01mif\u001B[39;00m \u001B[38;5;28mlen\u001B[39m(credentials_list) \u001B[38;5;241m>\u001B[39m \u001B[38;5;241m1\u001B[39m:\n\u001B[1;32m    171\u001B[0m     \u001B[38;5;28;01mraise\u001B[39;00m IBMQAccountMultipleCredentialsFound(\n\u001B[1;32m    172\u001B[0m         \u001B[38;5;124m'\u001B[39m\u001B[38;5;124mMultiple IBM Quantum Experience credentials found. \u001B[39m\u001B[38;5;124m'\u001B[39m \u001B[38;5;241m+\u001B[39m UPDATE_ACCOUNT_TEXT)\n",
      "\u001B[0;31mIBMQAccountCredentialsNotFound\u001B[0m: 'No IBM Quantum Experience credentials found.'"
     ]
    }
   ],
   "source": [],
   "metadata": {
    "collapsed": false
   }
  }
 ],
 "metadata": {
  "kernelspec": {
   "display_name": "Python 3",
   "language": "python",
   "name": "python3"
  },
  "language_info": {
   "codemirror_mode": {
    "name": "ipython",
    "version": 2
   },
   "file_extension": ".py",
   "mimetype": "text/x-python",
   "name": "python",
   "nbconvert_exporter": "python",
   "pygments_lexer": "ipython2",
   "version": "2.7.6"
  }
 },
 "nbformat": 4,
 "nbformat_minor": 0
}
