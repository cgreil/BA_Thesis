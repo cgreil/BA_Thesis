{
 "cells": [
  {
   "cell_type": "markdown",
   "source": [
    "# Prototyping for IBM cloud calculation:"
   ],
   "metadata": {
    "collapsed": false
   }
  },
  {
   "cell_type": "code",
   "execution_count": 2,
   "outputs": [],
   "source": [
    "# Imports\n",
    "from qiskit import QuantumCircuit\n",
    "from qiskit_ibm_runtime import QiskitRuntimeService, Estimator\n",
    "import API.Keys"
   ],
   "metadata": {
    "collapsed": false,
    "ExecuteTime": {
     "start_time": "2023-04-27T16:28:34.011581Z",
     "end_time": "2023-04-27T16:28:35.292345Z"
    }
   }
  },
  {
   "cell_type": "code",
   "execution_count": 4,
   "outputs": [],
   "source": [
    "# get API key\n",
    "key = API.Keys.IBM_BA_KEY\n",
    "instance = API.Keys.CRN_VALUE\n",
    "service = QiskitRuntimeService(channel=\"ibm_cloud\", token=key, instance=instance)"
   ],
   "metadata": {
    "collapsed": false,
    "ExecuteTime": {
     "start_time": "2023-04-27T16:28:44.819100Z",
     "end_time": "2023-04-27T16:28:47.784613Z"
    }
   }
  },
  {
   "cell_type": "code",
   "execution_count": 5,
   "outputs": [
    {
     "name": "stdout",
     "output_type": "stream",
     "text": [
      "job id: ch58d8bd4ksjvrlm69v0\n",
      "Hello, World!\n"
     ]
    }
   ],
   "source": [
    "program_inputs = {'iterations': 1}\n",
    "options = {'backend': \"\"}\n",
    "job = service.run(program_id=\"hello-world\",\n",
    "                  options=options,\n",
    "                  inputs=program_inputs\n",
    "                 )\n",
    "print(f\"job id: {job.job_id()}\")\n",
    "result = job.result()\n",
    "print(result)"
   ],
   "metadata": {
    "collapsed": false,
    "ExecuteTime": {
     "start_time": "2023-04-27T16:28:48.841188Z",
     "end_time": "2023-04-27T16:28:52.159339Z"
    }
   }
  },
  {
   "cell_type": "code",
   "execution_count": 1,
   "outputs": [
    {
     "ename": "NameError",
     "evalue": "name 'Estimator' is not defined",
     "output_type": "error",
     "traceback": [
      "\u001B[0;31m---------------------------------------------------------------------------\u001B[0m",
      "\u001B[0;31mNameError\u001B[0m                                 Traceback (most recent call last)",
      "Cell \u001B[0;32mIn[1], line 1\u001B[0m\n\u001B[0;32m----> 1\u001B[0m estimator \u001B[38;5;241m=\u001B[39m \u001B[43mEstimator\u001B[49m()\n",
      "\u001B[0;31mNameError\u001B[0m: name 'Estimator' is not defined"
     ]
    }
   ],
   "source": [
    "estimator = Estimator()\n",
    "estimator.run()"
   ],
   "metadata": {
    "collapsed": false
   }
  }
 ],
 "metadata": {
  "kernelspec": {
   "display_name": "Python 3",
   "language": "python",
   "name": "python3"
  },
  "language_info": {
   "codemirror_mode": {
    "name": "ipython",
    "version": 2
   },
   "file_extension": ".py",
   "mimetype": "text/x-python",
   "name": "python",
   "nbconvert_exporter": "python",
   "pygments_lexer": "ipython2",
   "version": "2.7.6"
  }
 },
 "nbformat": 4,
 "nbformat_minor": 0
}
