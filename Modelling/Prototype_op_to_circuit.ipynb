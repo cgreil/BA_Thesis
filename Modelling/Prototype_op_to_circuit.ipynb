{
 "cells": [
  {
   "cell_type": "markdown",
   "source": [
    "# Prototype - Getting from Operator to Circuit"
   ],
   "metadata": {
    "collapsed": false
   }
  },
  {
   "cell_type": "code",
   "execution_count": 2,
   "metadata": {
    "collapsed": true,
    "ExecuteTime": {
     "start_time": "2023-04-14T14:50:01.750126Z",
     "end_time": "2023-04-14T14:50:01.755718Z"
    }
   },
   "outputs": [],
   "source": [
    "from qiskit.quantum_info import SparsePauliOp\n",
    "from qiskit.opflow import PauliSumOp, PauliTrotterEvolution\n",
    "from qiskit.opflow.evolutions import *\n",
    "from qiskit import QuantumCircuit\n",
    "import numpy as np"
   ]
  },
  {
   "cell_type": "markdown",
   "source": [
    "Testing the interface between operators and circuits"
   ],
   "metadata": {
    "collapsed": false
   }
  },
  {
   "cell_type": "code",
   "execution_count": 3,
   "outputs": [],
   "source": [
    "random_coeffs = np.random.random(6)\n",
    "test_operator = SparsePauliOp(['III', 'ZII', 'III', 'IZI', 'III', 'IIZ'], coeffs=random_coeffs)"
   ],
   "metadata": {
    "collapsed": false,
    "ExecuteTime": {
     "start_time": "2023-04-14T14:50:01.753775Z",
     "end_time": "2023-04-14T14:50:01.759703Z"
    }
   }
  },
  {
   "cell_type": "code",
   "execution_count": 4,
   "outputs": [
    {
     "name": "stdout",
     "output_type": "stream",
     "text": [
      "SparsePauliOp(['III', 'ZII', 'III', 'IZI', 'III', 'IIZ'],\n",
      "              coeffs=[0.23762225+0.j, 0.26666281+0.j, 0.80538138+0.j, 0.3532598 +0.j,\n",
      " 0.09185648+0.j, 0.50563293+0.j])\n"
     ]
    }
   ],
   "source": [
    "print(test_operator)"
   ],
   "metadata": {
    "collapsed": false,
    "ExecuteTime": {
     "start_time": "2023-04-14T14:50:01.762604Z",
     "end_time": "2023-04-14T14:50:01.765633Z"
    }
   }
  },
  {
   "cell_type": "markdown",
   "source": [
    "Convert the Sparse Operator to PauliSumOp"
   ],
   "metadata": {
    "collapsed": false
   }
  },
  {
   "cell_type": "code",
   "execution_count": 5,
   "outputs": [],
   "source": [
    "sum_op = PauliSumOp(test_operator)"
   ],
   "metadata": {
    "collapsed": false,
    "ExecuteTime": {
     "start_time": "2023-04-14T14:50:01.807164Z",
     "end_time": "2023-04-14T14:50:01.819901Z"
    }
   }
  },
  {
   "cell_type": "code",
   "execution_count": 6,
   "outputs": [
    {
     "name": "stdout",
     "output_type": "stream",
     "text": [
      "0.23762225353257238 * III\n",
      "+ 0.2666628130654384 * ZII\n",
      "+ 0.8053813767978583 * III\n",
      "+ 0.353259801767159 * IZI\n",
      "+ 0.09185648381743783 * III\n",
      "+ 0.5056329255338698 * IIZ\n"
     ]
    }
   ],
   "source": [
    "print(sum_op)"
   ],
   "metadata": {
    "collapsed": false,
    "ExecuteTime": {
     "start_time": "2023-04-14T14:50:01.807776Z",
     "end_time": "2023-04-14T14:50:01.842179Z"
    }
   }
  },
  {
   "cell_type": "markdown",
   "source": [
    "# Circuit Approach\n",
    "Show the circuit for exponentiation:"
   ],
   "metadata": {
    "collapsed": false
   }
  },
  {
   "cell_type": "code",
   "execution_count": 7,
   "outputs": [
    {
     "data": {
      "text/plain": "3"
     },
     "execution_count": 7,
     "metadata": {},
     "output_type": "execute_result"
    }
   ],
   "source": [
    "circuitop = sum_op.exp_i().to_circuit_op()\n",
    "circuitop.num_qubits"
   ],
   "metadata": {
    "collapsed": false,
    "ExecuteTime": {
     "start_time": "2023-04-14T14:50:01.808212Z",
     "end_time": "2023-04-14T14:50:01.896911Z"
    }
   }
  },
  {
   "cell_type": "code",
   "execution_count": 8,
   "outputs": [],
   "source": [
    "circuit = QuantumCircuit(circuitop.num_qubits)"
   ],
   "metadata": {
    "collapsed": false,
    "ExecuteTime": {
     "start_time": "2023-04-14T14:50:01.855412Z",
     "end_time": "2023-04-14T14:50:01.897235Z"
    }
   }
  },
  {
   "cell_type": "code",
   "execution_count": 9,
   "outputs": [
    {
     "data": {
      "text/plain": "<qiskit.circuit.instructionset.InstructionSet at 0x7f8c1d583ac0>"
     },
     "execution_count": 9,
     "metadata": {},
     "output_type": "execute_result"
    }
   ],
   "source": [
    "circuit.unitary(circuitop, qubits = circuit.qubits)"
   ],
   "metadata": {
    "collapsed": false,
    "ExecuteTime": {
     "start_time": "2023-04-14T14:50:01.855797Z",
     "end_time": "2023-04-14T14:50:01.897477Z"
    }
   }
  },
  {
   "cell_type": "code",
   "execution_count": 10,
   "outputs": [
    {
     "data": {
      "text/plain": "     ┌──────────┐\nq_0: ┤0         ├\n     │          │\nq_1: ┤1 Unitary ├\n     │          │\nq_2: ┤2         ├\n     └──────────┘",
      "text/html": "<pre style=\"word-wrap: normal;white-space: pre;background: #fff0;line-height: 1.1;font-family: &quot;Courier New&quot;,Courier,monospace\">     ┌──────────┐\nq_0: ┤0         ├\n     │          │\nq_1: ┤1 Unitary ├\n     │          │\nq_2: ┤2         ├\n     └──────────┘</pre>"
     },
     "execution_count": 10,
     "metadata": {},
     "output_type": "execute_result"
    }
   ],
   "source": [
    "circuit.draw()"
   ],
   "metadata": {
    "collapsed": false,
    "ExecuteTime": {
     "start_time": "2023-04-14T14:50:01.856183Z",
     "end_time": "2023-04-14T14:50:01.958893Z"
    }
   }
  },
  {
   "cell_type": "code",
   "execution_count": 11,
   "outputs": [
    {
     "data": {
      "text/plain": "global phase: 2.8749\n            ┌──────────────┐                                            »\nq_0: ───────┤0             ├────────■───────────────────────────────────»\n            │  circuit-216 │        │                                   »\nq_1: ───────┤1             ├────────┼────────────────────────────────■──»\n     ┌──────┴──────────────┴─────┐┌─┴─┐┌──────────────────────────┐┌─┴─┐»\nq_2: ┤ U(0,0,-0.526369868595402) ├┤ X ├┤ U(0,0,0.181297690667382) ├┤ X ├»\n     └───────────────────────────┘└───┘└──────────────────────────┘└───┘»\n«                                                                       »\n«q_0: ──────────────────────────────■───────────────────────────────────»\n«                                   │                                   »\n«q_1: ──────────────────────────────┼────────────────────────────────■──»\n«     ┌──────────────────────────┐┌─┴─┐┌──────────────────────────┐┌─┴─┐»\n«q_2: ┤ U(0,0,-1.00624154722116) ├┤ X ├┤ U(0,0,-1.67114391104112) ├┤ X ├»\n«     └──────────────────────────┘└───┘└──────────────────────────┘└───┘»\n«     ┌──────────────┐                                                    »\n«q_0: ┤0             ├──■─────────────────────────────────────────────────»\n«     │  circuit-225 │  │                                                 »\n«q_1: ┤1             ├──┼────────────────────────────────■────────────────»\n«     └┬────────────┬┘┌─┴─┐┌────────────┐┌────────────┐┌─┴─┐┌────────────┐»\n«q_2: ─┤ U(π/2,0,π) ├─┤ X ├┤ U(π/2,0,π) ├┤ U(π/2,0,π) ├┤ X ├┤ U(π/2,0,π) ├»\n«      └────────────┘ └───┘└────────────┘└────────────┘└───┘└────────────┘»\n«                        ┌──────────────┐                                  »\n«q_0: ────────────────■──┤0             ├───────────────────────────────■──»\n«                     │  │  circuit-234 │                               │  »\n«q_1: ────────────────┼──┤1             ├───────────────────────────────┼──»\n«     ┌────────────┐┌─┴─┐└┬────────────┬┘┌───────────────────────────┐┌─┴─┐»\n«q_2: ┤ U(π/2,0,π) ├┤ X ├─┤ U(π/2,0,π) ├─┤ U(0,0,-0.511100832068618) ├┤ X ├»\n«     └────────────┘└───┘ └────────────┘ └───────────────────────────┘└───┘»\n«                                                                        »\n«q_0: ────────────────────────────────────────────────────────────────■──»\n«                                                                     │  »\n«q_1: ───────────────────────────────■────────────────────────────────┼──»\n«     ┌───────────────────────────┐┌─┴─┐┌──────────────────────────┐┌─┴─┐»\n«q_2: ┤ U(0,0,-0.181297690667382) ├┤ X ├┤ U(0,0,-2.13535110636863) ├┤ X ├»\n«     └───────────────────────────┘└───┘└──────────────────────────┘└───┘»\n«                                      ┌──────────────┐\n«q_0: ─────────────────────────────────┤0             ├\n«                                      │  circuit-245 │\n«q_1: ──────────────────────────────■──┤1             ├\n«     ┌──────────────────────────┐┌─┴─┐└──────────────┘\n«q_2: ┤ U(0,0,0.100347584246224) ├┤ X ├────────────────\n«     └──────────────────────────┘└───┘                ",
      "text/html": "<pre style=\"word-wrap: normal;white-space: pre;background: #fff0;line-height: 1.1;font-family: &quot;Courier New&quot;,Courier,monospace\">global phase: 2.8749\n            ┌──────────────┐                                            »\nq_0: ───────┤0             ├────────■───────────────────────────────────»\n            │  circuit-216 │        │                                   »\nq_1: ───────┤1             ├────────┼────────────────────────────────■──»\n     ┌──────┴──────────────┴─────┐┌─┴─┐┌──────────────────────────┐┌─┴─┐»\nq_2: ┤ U(0,0,-0.526369868595402) ├┤ X ├┤ U(0,0,0.181297690667382) ├┤ X ├»\n     └───────────────────────────┘└───┘└──────────────────────────┘└───┘»\n«                                                                       »\n«q_0: ──────────────────────────────■───────────────────────────────────»\n«                                   │                                   »\n«q_1: ──────────────────────────────┼────────────────────────────────■──»\n«     ┌──────────────────────────┐┌─┴─┐┌──────────────────────────┐┌─┴─┐»\n«q_2: ┤ U(0,0,-1.00624154722116) ├┤ X ├┤ U(0,0,-1.67114391104112) ├┤ X ├»\n«     └──────────────────────────┘└───┘└──────────────────────────┘└───┘»\n«     ┌──────────────┐                                                    »\n«q_0: ┤0             ├──■─────────────────────────────────────────────────»\n«     │  circuit-225 │  │                                                 »\n«q_1: ┤1             ├──┼────────────────────────────────■────────────────»\n«     └┬────────────┬┘┌─┴─┐┌────────────┐┌────────────┐┌─┴─┐┌────────────┐»\n«q_2: ─┤ U(π/2,0,π) ├─┤ X ├┤ U(π/2,0,π) ├┤ U(π/2,0,π) ├┤ X ├┤ U(π/2,0,π) ├»\n«      └────────────┘ └───┘└────────────┘└────────────┘└───┘└────────────┘»\n«                        ┌──────────────┐                                  »\n«q_0: ────────────────■──┤0             ├───────────────────────────────■──»\n«                     │  │  circuit-234 │                               │  »\n«q_1: ────────────────┼──┤1             ├───────────────────────────────┼──»\n«     ┌────────────┐┌─┴─┐└┬────────────┬┘┌───────────────────────────┐┌─┴─┐»\n«q_2: ┤ U(π/2,0,π) ├┤ X ├─┤ U(π/2,0,π) ├─┤ U(0,0,-0.511100832068618) ├┤ X ├»\n«     └────────────┘└───┘ └────────────┘ └───────────────────────────┘└───┘»\n«                                                                        »\n«q_0: ────────────────────────────────────────────────────────────────■──»\n«                                                                     │  »\n«q_1: ───────────────────────────────■────────────────────────────────┼──»\n«     ┌───────────────────────────┐┌─┴─┐┌──────────────────────────┐┌─┴─┐»\n«q_2: ┤ U(0,0,-0.181297690667382) ├┤ X ├┤ U(0,0,-2.13535110636863) ├┤ X ├»\n«     └───────────────────────────┘└───┘└──────────────────────────┘└───┘»\n«                                      ┌──────────────┐\n«q_0: ─────────────────────────────────┤0             ├\n«                                      │  circuit-245 │\n«q_1: ──────────────────────────────■──┤1             ├\n«     ┌──────────────────────────┐┌─┴─┐└──────────────┘\n«q_2: ┤ U(0,0,0.100347584246224) ├┤ X ├────────────────\n«     └──────────────────────────┘└───┘                </pre>"
     },
     "execution_count": 11,
     "metadata": {},
     "output_type": "execute_result"
    }
   ],
   "source": [
    "circuit.decompose().draw()"
   ],
   "metadata": {
    "collapsed": false,
    "ExecuteTime": {
     "start_time": "2023-04-14T14:50:01.903189Z",
     "end_time": "2023-04-14T14:50:02.233461Z"
    }
   }
  },
  {
   "cell_type": "markdown",
   "source": [
    "## Trotterization approach"
   ],
   "metadata": {
    "collapsed": false
   }
  },
  {
   "cell_type": "code",
   "execution_count": 12,
   "outputs": [
    {
     "name": "stdout",
     "output_type": "stream",
     "text": [
      "0.23762225353257238 * III\n",
      "+ 0.2666628130654384 * ZII\n",
      "+ 0.8053813767978583 * III\n",
      "+ 0.353259801767159 * IZI\n",
      "+ 0.09185648381743783 * III\n",
      "+ 0.5056329255338698 * IIZ\n"
     ]
    }
   ],
   "source": [
    "print(sum_op)"
   ],
   "metadata": {
    "collapsed": false,
    "ExecuteTime": {
     "start_time": "2023-04-14T14:50:02.234982Z",
     "end_time": "2023-04-14T14:50:02.284906Z"
    }
   }
  },
  {
   "cell_type": "code",
   "execution_count": 29,
   "outputs": [
    {
     "name": "stdout",
     "output_type": "stream",
     "text": [
      "global phase: 6.0165\n",
      "           ┌──────────────┐                                                 »\n",
      "q_0: ──────┤0             ├────────■─────────────────────────────────────■──»\n",
      "           │  circuit-427 │        │                                     │  »\n",
      "q_1: ──────┤1             ├────────┼────────────────────────────────■────┼──»\n",
      "     ┌─────┴──────────────┴─────┐┌─┴─┐┌──────────────────────────┐┌─┴─┐┌─┴─┐»\n",
      "q_2: ┤ U(0,0,-0.86819730108243) ├┤ X ├┤ U(0,0,-0.50563292553387) ├┤ X ├┤ X ├»\n",
      "     └──────────────────────────┘└───┘└──────────────────────────┘└───┘└───┘»\n",
      "«                                                                        »\n",
      "«q_0: ──────────────────────────────────────────────────■────────────────»\n",
      "«                                                       │                »\n",
      "«q_1: ───────────────────────────────■──────────────────┼────────────────»\n",
      "«     ┌───────────────────────────┐┌─┴─┐┌────────────┐┌─┴─┐┌────────────┐»\n",
      "«q_2: ┤ U(0,0,-0.353259801767159) ├┤ X ├┤ U(π/2,0,π) ├┤ X ├┤ U(π/2,0,π) ├»\n",
      "«     └───────────────────────────┘└───┘└────────────┘└───┘└────────────┘»\n",
      "«                                                         ┌──────────────┐»\n",
      "«q_0: ─────────────────────────────────────────────────■──┤0             ├»\n",
      "«                                                      │  │  circuit-434 │»\n",
      "«q_1: ────────────────■────────────────────────────────┼──┤1             ├»\n",
      "«     ┌────────────┐┌─┴─┐┌────────────┐┌────────────┐┌─┴─┐└┬────────────┬┘»\n",
      "«q_2: ┤ U(π/2,0,π) ├┤ X ├┤ U(π/2,0,π) ├┤ U(π/2,0,π) ├┤ X ├─┤ U(π/2,0,π) ├─»\n",
      "«     └────────────┘└───┘└────────────┘└────────────┘└───┘ └────────────┘ »\n",
      "«                                                                           »\n",
      "«q_0: ──────────────────────────────■────────────────────────────────────■──»\n",
      "«                                   │                                    │  »\n",
      "«q_1: ──────────────────────────────┼───────────────────────────────■────┼──»\n",
      "«     ┌──────────────────────────┐┌─┴─┐┌─────────────────────────┐┌─┴─┐┌─┴─┐»\n",
      "«q_2: ┤ U(0,0,-0.16927339958159) ├┤ X ├┤ U(0,0,0.50563292553387) ├┤ X ├┤ X ├»\n",
      "«     └──────────────────────────┘└───┘└─────────────────────────┘└───┘└───┘»\n",
      "«                                     \n",
      "«q_0: ────────────────────────────────\n",
      "«                                     \n",
      "«q_1: ─────────────────────────────■──\n",
      "«     ┌─────────────────────────┐┌─┴─┐\n",
      "«q_2: ┤ U(0,0,1.92405612856206) ├┤ X ├\n",
      "«     └─────────────────────────┘└───┘\n"
     ]
    }
   ],
   "source": [
    "print(sum_op.exp_i().to_circuit_op())"
   ],
   "metadata": {
    "collapsed": false,
    "ExecuteTime": {
     "start_time": "2023-04-14T16:14:53.120464Z",
     "end_time": "2023-04-14T16:14:53.147267Z"
    }
   }
  },
  {
   "cell_type": "code",
   "execution_count": 24,
   "outputs": [],
   "source": [
    "# evolve method invokes trotterization\n",
    "# trotter_evol = EvolutionFactory.build(sum_op)\n",
    "# Do Trotter Suzuki Evolution\n",
    "trotter_op = PauliTrotterEvolution(trotter_mode=Suzuki(order=1, reps=1)).convert(sum_op)"
   ],
   "metadata": {
    "collapsed": false,
    "ExecuteTime": {
     "start_time": "2023-04-14T14:53:52.140542Z",
     "end_time": "2023-04-14T14:53:52.142729Z"
    }
   }
  },
  {
   "cell_type": "code",
   "execution_count": 26,
   "outputs": [
    {
     "data": {
      "text/plain": "PauliSumOp(SparsePauliOp(['III', 'ZII', 'III', 'IZI', 'III', 'IIZ'],\n              coeffs=[0.23762225-0.j, 0.26666281-0.j, 0.80538138-0.j, 0.3532598 -0.j,\n 0.09185648-0.j, 0.50563293-0.j]), coeff=1.0)"
     },
     "execution_count": 26,
     "metadata": {},
     "output_type": "execute_result"
    }
   ],
   "source": [
    "trotter_op.adjoint()"
   ],
   "metadata": {
    "collapsed": false,
    "ExecuteTime": {
     "start_time": "2023-04-14T14:54:28.133756Z",
     "end_time": "2023-04-14T14:54:28.178792Z"
    }
   }
  }
 ],
 "metadata": {
  "kernelspec": {
   "display_name": "Python 3",
   "language": "python",
   "name": "python3"
  },
  "language_info": {
   "codemirror_mode": {
    "name": "ipython",
    "version": 2
   },
   "file_extension": ".py",
   "mimetype": "text/x-python",
   "name": "python",
   "nbconvert_exporter": "python",
   "pygments_lexer": "ipython2",
   "version": "2.7.6"
  }
 },
 "nbformat": 4,
 "nbformat_minor": 0
}
